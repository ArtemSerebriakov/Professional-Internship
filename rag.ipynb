{
  "cells": [
    {
      "cell_type": "markdown",
      "metadata": {
        "id": "ECPVI_WTQfFO"
      },
      "source": [
        "<a id=\"0\"></a> <br>\n",
        "# Table of Contents  \n",
        "1. [Data preprocessing](#1)     \n",
        "2. [Create embeddings](#2)\n",
        "3. [Create the search index](#3)\n",
        "4. [Insert text and embeddings into vector store](#4)\n",
        "5. [Vector similarity search](#5)\n",
        "6. [Vector similarity search with a filter](#6)\n",
        "7. [Keyword search](#7)\n",
        "8. [Hybrid search](#8)\n",
        "9. [LLM model](#9)"
      ]
    },
    {
      "cell_type": "code",
      "execution_count": 1,
      "metadata": {},
      "outputs": [],
      "source": [
        "import pandas as pd\n",
        "import numpy as np"
      ]
    },
    {
      "cell_type": "markdown",
      "metadata": {
        "id": "ugp-xLKkQfFV"
      },
      "source": [
        "<a id=\"1\"></a>\n",
        "## Data preprocessing\n",
        "[Back to the top](#0)"
      ]
    },
    {
      "cell_type": "markdown",
      "metadata": {},
      "source": [
        "Load dataset."
      ]
    },
    {
      "cell_type": "code",
      "execution_count": 2,
      "metadata": {
        "colab": {
          "base_uri": "https://localhost:8080/"
        },
        "id": "OtZCkqXXQfFW",
        "outputId": "3e356024-7b5e-4350-c389-3a5cc7919e0b"
      },
      "outputs": [
        {
          "data": {
            "text/plain": [
              "(8205, 8)"
            ]
          },
          "execution_count": 2,
          "metadata": {},
          "output_type": "execute_result"
        }
      ],
      "source": [
        "data_google = pd.read_excel('search_results.xlsx')\n",
        "data_google.shape"
      ]
    },
    {
      "cell_type": "code",
      "execution_count": 3,
      "metadata": {
        "colab": {
          "base_uri": "https://localhost:8080/",
          "height": 293
        },
        "id": "Xnhv_F52QfFW",
        "outputId": "6e2a01f6-ca5d-4304-e2bc-d060ef578c62"
      },
      "outputs": [
        {
          "data": {
            "text/html": [
              "<div>\n",
              "<style scoped>\n",
              "    .dataframe tbody tr th:only-of-type {\n",
              "        vertical-align: middle;\n",
              "    }\n",
              "\n",
              "    .dataframe tbody tr th {\n",
              "        vertical-align: top;\n",
              "    }\n",
              "\n",
              "    .dataframe thead th {\n",
              "        text-align: right;\n",
              "    }\n",
              "</style>\n",
              "<table border=\"1\" class=\"dataframe\">\n",
              "  <thead>\n",
              "    <tr style=\"text-align: right;\">\n",
              "      <th></th>\n",
              "      <th>title</th>\n",
              "      <th>link</th>\n",
              "      <th>displayed_link</th>\n",
              "      <th>snippet</th>\n",
              "      <th>keywords</th>\n",
              "      <th>position</th>\n",
              "      <th>language</th>\n",
              "      <th>timestamp</th>\n",
              "    </tr>\n",
              "  </thead>\n",
              "  <tbody>\n",
              "    <tr>\n",
              "      <th>0</th>\n",
              "      <td>Hairpin-Technologie</td>\n",
              "      <td>https://de.wikipedia.org/wiki/Hairpin-Technologie</td>\n",
              "      <td>https://de.wikipedia.org</td>\n",
              "      <td>... Kontaktieren von Statoren für elektrische ...</td>\n",
              "      <td>stator wicklung \"kontaktieren\" -\"kontaktieren ...</td>\n",
              "      <td>1</td>\n",
              "      <td>de</td>\n",
              "      <td>04/04/2024 17:14</td>\n",
              "    </tr>\n",
              "    <tr>\n",
              "      <th>1</th>\n",
              "      <td>EP2858212B1 - Wickelverfahren für eine Statorw...</td>\n",
              "      <td>https://patents.google.com/patent/EP2858212B1/de</td>\n",
              "      <td>https://patents.google.com</td>\n",
              "      <td>[0006]. Insbesondere das Verbinden der Leiterd...</td>\n",
              "      <td>stator wicklung elektrisch draht spule phase \"...</td>\n",
              "      <td>1</td>\n",
              "      <td>de</td>\n",
              "      <td>04/04/2024 17:14</td>\n",
              "    </tr>\n",
              "    <tr>\n",
              "      <th>2</th>\n",
              "      <td>DE10321956A1 - Hairpin wound stator for electr...</td>\n",
              "      <td>https://patents.google.com/patent/DE10321956A1/en</td>\n",
              "      <td>https://patents.google.com</td>\n",
              "      <td>... verbinden. Ein Prototyp dieser Technologie...</td>\n",
              "      <td>stator wicklung draht spule phase \"verbinden\" ...</td>\n",
              "      <td>1</td>\n",
              "      <td>de</td>\n",
              "      <td>04/04/2024 17:14</td>\n",
              "    </tr>\n",
              "    <tr>\n",
              "      <th>3</th>\n",
              "      <td>Stator und Verfahren zur Herstellung eines Sta...</td>\n",
              "      <td>https://patents.google.com/patent/DE1020191113...</td>\n",
              "      <td>https://patents.google.com</td>\n",
              "      <td>Zur Kontaktierung ist eine Kontakteinrichtung ...</td>\n",
              "      <td>stator wicklung draht spule wicklungsende phas...</td>\n",
              "      <td>1</td>\n",
              "      <td>de</td>\n",
              "      <td>04/04/2024 17:14</td>\n",
              "    </tr>\n",
              "    <tr>\n",
              "      <th>4</th>\n",
              "      <td>risomat - Prozesse</td>\n",
              "      <td>https://www.risomat.de/prozesse/</td>\n",
              "      <td>https://www.risomat.de</td>\n",
              "      <td>Für das Wickeln von Spulen für Stator-und Roto...</td>\n",
              "      <td>stator wicklung \"kontaktieren\" -\"kontaktieren ...</td>\n",
              "      <td>1</td>\n",
              "      <td>de</td>\n",
              "      <td>04/04/2024 17:14</td>\n",
              "    </tr>\n",
              "  </tbody>\n",
              "</table>\n",
              "</div>"
            ],
            "text/plain": [
              "                                               title  \\\n",
              "0                                Hairpin-Technologie   \n",
              "1  EP2858212B1 - Wickelverfahren für eine Statorw...   \n",
              "2  DE10321956A1 - Hairpin wound stator for electr...   \n",
              "3  Stator und Verfahren zur Herstellung eines Sta...   \n",
              "4                                 risomat - Prozesse   \n",
              "\n",
              "                                                link  \\\n",
              "0  https://de.wikipedia.org/wiki/Hairpin-Technologie   \n",
              "1   https://patents.google.com/patent/EP2858212B1/de   \n",
              "2  https://patents.google.com/patent/DE10321956A1/en   \n",
              "3  https://patents.google.com/patent/DE1020191113...   \n",
              "4                   https://www.risomat.de/prozesse/   \n",
              "\n",
              "               displayed_link  \\\n",
              "0    https://de.wikipedia.org   \n",
              "1  https://patents.google.com   \n",
              "2  https://patents.google.com   \n",
              "3  https://patents.google.com   \n",
              "4      https://www.risomat.de   \n",
              "\n",
              "                                             snippet  \\\n",
              "0  ... Kontaktieren von Statoren für elektrische ...   \n",
              "1  [0006]. Insbesondere das Verbinden der Leiterd...   \n",
              "2  ... verbinden. Ein Prototyp dieser Technologie...   \n",
              "3  Zur Kontaktierung ist eine Kontakteinrichtung ...   \n",
              "4  Für das Wickeln von Spulen für Stator-und Roto...   \n",
              "\n",
              "                                            keywords  position language  \\\n",
              "0  stator wicklung \"kontaktieren\" -\"kontaktieren ...         1       de   \n",
              "1  stator wicklung elektrisch draht spule phase \"...         1       de   \n",
              "2  stator wicklung draht spule phase \"verbinden\" ...         1       de   \n",
              "3  stator wicklung draht spule wicklungsende phas...         1       de   \n",
              "4  stator wicklung \"kontaktieren\" -\"kontaktieren ...         1       de   \n",
              "\n",
              "          timestamp  \n",
              "0  04/04/2024 17:14  \n",
              "1  04/04/2024 17:14  \n",
              "2  04/04/2024 17:14  \n",
              "3  04/04/2024 17:14  \n",
              "4  04/04/2024 17:14  "
            ]
          },
          "execution_count": 3,
          "metadata": {},
          "output_type": "execute_result"
        }
      ],
      "source": [
        "data_google.head(5)"
      ]
    },
    {
      "cell_type": "markdown",
      "metadata": {
        "id": "afnJyfTfQfFX"
      },
      "source": [
        "Check if our dataset has missing values."
      ]
    },
    {
      "cell_type": "code",
      "execution_count": 4,
      "metadata": {
        "colab": {
          "base_uri": "https://localhost:8080/"
        },
        "id": "XaY9K9FIQfFX",
        "outputId": "39848af0-938a-4e4a-ff4a-739c84380922"
      },
      "outputs": [
        {
          "data": {
            "text/plain": [
              "title              0\n",
              "link               0\n",
              "displayed_link     0\n",
              "snippet           31\n",
              "keywords           0\n",
              "position           0\n",
              "language           0\n",
              "timestamp          0\n",
              "dtype: int64"
            ]
          },
          "execution_count": 4,
          "metadata": {},
          "output_type": "execute_result"
        }
      ],
      "source": [
        "data_google.isnull().sum()"
      ]
    },
    {
      "cell_type": "markdown",
      "metadata": {},
      "source": [
        "Remove rows with missing values."
      ]
    },
    {
      "cell_type": "code",
      "execution_count": 5,
      "metadata": {
        "id": "HJ0AfAh8QfFX"
      },
      "outputs": [],
      "source": [
        "data_google = data_google.dropna(how='any',axis=0)"
      ]
    },
    {
      "cell_type": "code",
      "execution_count": 6,
      "metadata": {
        "colab": {
          "base_uri": "https://localhost:8080/"
        },
        "id": "HTgrk2oCQfFY",
        "outputId": "b39437fd-2040-4634-c200-e276e1a0f136"
      },
      "outputs": [
        {
          "data": {
            "text/plain": [
              "title             0\n",
              "link              0\n",
              "displayed_link    0\n",
              "snippet           0\n",
              "keywords          0\n",
              "position          0\n",
              "language          0\n",
              "timestamp         0\n",
              "dtype: int64"
            ]
          },
          "execution_count": 6,
          "metadata": {},
          "output_type": "execute_result"
        }
      ],
      "source": [
        "data_google.isnull().sum()"
      ]
    },
    {
      "cell_type": "markdown",
      "metadata": {},
      "source": [
        "Check the dataset for duplicates."
      ]
    },
    {
      "cell_type": "code",
      "execution_count": 7,
      "metadata": {
        "colab": {
          "base_uri": "https://localhost:8080/"
        },
        "id": "it4Ajso9QfFY",
        "outputId": "00aa5060-681d-409a-8da4-14c87430d2a9"
      },
      "outputs": [
        {
          "data": {
            "text/plain": [
              "0"
            ]
          },
          "execution_count": 7,
          "metadata": {},
          "output_type": "execute_result"
        }
      ],
      "source": [
        "data_google.duplicated().sum()"
      ]
    },
    {
      "cell_type": "markdown",
      "metadata": {},
      "source": [
        "Reset index after preprocessing step."
      ]
    },
    {
      "cell_type": "code",
      "execution_count": 8,
      "metadata": {
        "id": "Ynq5HcTdhyta"
      },
      "outputs": [],
      "source": [
        "data_google.reset_index(drop=True, inplace=True)"
      ]
    },
    {
      "cell_type": "markdown",
      "metadata": {
        "id": "XQK4vDuLQfFZ"
      },
      "source": [
        "<a id=\"2\"></a>\n",
        "## Create embeddings\n",
        "[Back to the top](#0)"
      ]
    },
    {
      "cell_type": "code",
      "execution_count": 9,
      "metadata": {},
      "outputs": [],
      "source": [
        "from azure.identity import DefaultAzureCredential\n",
        "from azure.core.credentials import AzureKeyCredential"
      ]
    },
    {
      "cell_type": "code",
      "execution_count": 10,
      "metadata": {},
      "outputs": [],
      "source": [
        "endpoint = \n",
        "key = \n",
        "credential = AzureKeyCredential(key)\n",
        "index_name = \n",
        "azure_openai_endpoint = \n",
        "azure_openai_key = \n",
        "azure_openai_embedding_deployment = \n",
        "embedding_model_name = \n",
        "azure_openai_api_version = "
      ]
    },
    {
      "cell_type": "code",
      "execution_count": 11,
      "metadata": {
        "id": "W4tHpuwTQfFa"
      },
      "outputs": [],
      "source": [
        "from openai import AzureOpenAI\n",
        "from azure.identity import DefaultAzureCredential, get_bearer_token_provider"
      ]
    },
    {
      "cell_type": "code",
      "execution_count": 12,
      "metadata": {
        "id": "nASYOmGfQfFa"
      },
      "outputs": [],
      "source": [
        "openai_credential = DefaultAzureCredential()\n",
        "token_provider = get_bearer_token_provider(openai_credential, \"https://cognitiveservices.azure.com/.default\")"
      ]
    },
    {
      "cell_type": "markdown",
      "metadata": {},
      "source": [
        "Initialize the Azure OpenAI client."
      ]
    },
    {
      "cell_type": "code",
      "execution_count": 13,
      "metadata": {
        "id": "7fSn9ygjQfFa"
      },
      "outputs": [],
      "source": [
        "client = AzureOpenAI(\n",
        "    azure_deployment=azure_openai_embedding_deployment,\n",
        "    api_version=azure_openai_api_version,\n",
        "    azure_endpoint=azure_openai_endpoint,\n",
        "    api_key=azure_openai_key,\n",
        "    azure_ad_token_provider=token_provider if not azure_openai_key else None\n",
        ")"
      ]
    },
    {
      "cell_type": "markdown",
      "metadata": {},
      "source": [
        "Convert `title` and `snippet` column to list."
      ]
    },
    {
      "cell_type": "code",
      "execution_count": 14,
      "metadata": {
        "id": "m60g4N3tf1Kb"
      },
      "outputs": [],
      "source": [
        "# titles = data_google['title'].tolist()\n",
        "# len(titles)"
      ]
    },
    {
      "cell_type": "code",
      "execution_count": 15,
      "metadata": {
        "id": "Mj2sto7yQfFa"
      },
      "outputs": [],
      "source": [
        "# snippets = data_google['snippet'].tolist()\n",
        "# len(snippets)"
      ]
    },
    {
      "cell_type": "markdown",
      "metadata": {},
      "source": [
        "Generate embeddings."
      ]
    },
    {
      "cell_type": "code",
      "execution_count": 16,
      "metadata": {
        "id": "On4be4xYQfFa"
      },
      "outputs": [],
      "source": [
        "# def generate_embeddings(text, model=embedding_model_name):\n",
        "#     title_response = client.embeddings.create(input = text, model=model)\n",
        "#     return [item.embedding for item in title_response.data]"
      ]
    },
    {
      "cell_type": "code",
      "execution_count": 17,
      "metadata": {
        "id": "lycTdZtVeeAV"
      },
      "outputs": [],
      "source": [
        "# int(np.ceil(len(titles) / 2048))"
      ]
    },
    {
      "cell_type": "markdown",
      "metadata": {},
      "source": [
        "Maximum number of embeddings that can be generated by embedding model at one time is 2048, that's why we divide data into chunks and then create embeddings out of them."
      ]
    },
    {
      "cell_type": "code",
      "execution_count": 18,
      "metadata": {
        "id": "Tw2puJcNTS7m"
      },
      "outputs": [],
      "source": [
        "# %%time\n",
        "# c = int(np.ceil(len(titles) / 2048))\n",
        "# k = 0\n",
        "# embedds_titles = []\n",
        "# for i in range(c):\n",
        "#   n = len(titles) - 2048 * (c-i-1)\n",
        "#   embedds_titles = embedds_titles + generate_embeddings(titles[k:n])\n",
        "#   k = n"
      ]
    },
    {
      "cell_type": "code",
      "execution_count": 19,
      "metadata": {
        "id": "HTeRFS0RgljA"
      },
      "outputs": [],
      "source": [
        "# %%time\n",
        "# c = int(np.ceil(len(snippets) / 2048))\n",
        "# k = 0\n",
        "# embedds_snippets = []\n",
        "# for i in range(c):\n",
        "#   n = len(snippets) - 2048 * (c-i-1)\n",
        "#   embedds_snippets = embedds_snippets + generate_embeddings(snippets[k:n])\n",
        "#   k = n"
      ]
    },
    {
      "cell_type": "code",
      "execution_count": 20,
      "metadata": {
        "id": "YOjP6h0bYDNn"
      },
      "outputs": [],
      "source": [
        "# len(embedds_titles)"
      ]
    },
    {
      "cell_type": "code",
      "execution_count": 21,
      "metadata": {
        "id": "lgOYfKnMg8V-"
      },
      "outputs": [],
      "source": [
        "# len(embedds_snippets)"
      ]
    },
    {
      "cell_type": "code",
      "execution_count": 22,
      "metadata": {
        "id": "8_vrB3L1fLx2"
      },
      "outputs": [],
      "source": [
        "# len(embedds_titles[3])"
      ]
    },
    {
      "cell_type": "code",
      "execution_count": 23,
      "metadata": {
        "id": "Cd6w3Pj5hCHO"
      },
      "outputs": [],
      "source": [
        "# len(embedds_snippets[3])"
      ]
    },
    {
      "cell_type": "markdown",
      "metadata": {},
      "source": [
        "Append new columns `title_embedding` and `snippet_embedding` to the dataframe."
      ]
    },
    {
      "cell_type": "code",
      "execution_count": 24,
      "metadata": {
        "id": "e7LgugZ2siZ7"
      },
      "outputs": [],
      "source": [
        "# data_google['title_embedding'] = pd.Series((i for i in embedds_titles))"
      ]
    },
    {
      "cell_type": "code",
      "execution_count": 25,
      "metadata": {
        "id": "sQgT6T8Rtjqb"
      },
      "outputs": [],
      "source": [
        "# data_google['snippet_embedding'] = pd.Series((i for i in embedds_snippets))"
      ]
    },
    {
      "cell_type": "code",
      "execution_count": 26,
      "metadata": {
        "id": "yHrKWOVPtYTH"
      },
      "outputs": [],
      "source": [
        "# data_google.head()"
      ]
    },
    {
      "cell_type": "code",
      "execution_count": 27,
      "metadata": {
        "id": "EkJir969g7Nd"
      },
      "outputs": [],
      "source": [
        "# data_google.tail()"
      ]
    },
    {
      "cell_type": "markdown",
      "metadata": {},
      "source": [
        "Add new column `id` to the dataframe."
      ]
    },
    {
      "cell_type": "code",
      "execution_count": 28,
      "metadata": {
        "id": "diPfejO6-Bjx"
      },
      "outputs": [],
      "source": [
        "# new_col = range(1, len(data_google) + 1)\n",
        "# new_col"
      ]
    },
    {
      "cell_type": "code",
      "execution_count": 29,
      "metadata": {
        "id": "nYkaBtsX-Bjy"
      },
      "outputs": [],
      "source": [
        "# idx = 0\n",
        "# data_google.insert(loc=idx, column='id', value=new_col)"
      ]
    },
    {
      "cell_type": "code",
      "execution_count": 30,
      "metadata": {
        "id": "fc4Bh2NE-Bjz"
      },
      "outputs": [],
      "source": [
        "# data_google['id'] = data_google['id'].apply(str)"
      ]
    },
    {
      "cell_type": "markdown",
      "metadata": {},
      "source": [
        "Make sure that column names in the dataframe match the column names of the future vector store."
      ]
    },
    {
      "cell_type": "code",
      "execution_count": 31,
      "metadata": {
        "id": "fEQriZEd-Bjz"
      },
      "outputs": [],
      "source": [
        "# data_google = data_google.rename(columns={\"title_embedding\": \"titleVector\", \"snippet_embedding\": \"snippetVector\"})"
      ]
    },
    {
      "cell_type": "markdown",
      "metadata": {},
      "source": [
        "Select columns which will be stored in the vector store."
      ]
    },
    {
      "cell_type": "code",
      "execution_count": 32,
      "metadata": {
        "id": "A8OwrPaY_Nj8"
      },
      "outputs": [],
      "source": [
        "# data = data_google[['id', 'title', 'snippet', 'keywords', 'link', 'displayed_link', 'titleVector', 'snippetVector']]"
      ]
    },
    {
      "cell_type": "code",
      "execution_count": 33,
      "metadata": {
        "id": "JgVLDyY0-Bjz"
      },
      "outputs": [],
      "source": [
        "# data.head()"
      ]
    },
    {
      "cell_type": "code",
      "execution_count": 34,
      "metadata": {
        "id": "QGuanzaaewpM"
      },
      "outputs": [],
      "source": [
        "# data.tail()"
      ]
    },
    {
      "cell_type": "markdown",
      "metadata": {},
      "source": [
        "Create JSON file out of the dataframe which will be uploaded to the vector store."
      ]
    },
    {
      "cell_type": "code",
      "execution_count": 35,
      "metadata": {
        "id": "PVguTxinQfFb"
      },
      "outputs": [],
      "source": [
        "#import json"
      ]
    },
    {
      "cell_type": "code",
      "execution_count": 36,
      "metadata": {
        "id": "Wwbg9xyQ7R7o"
      },
      "outputs": [],
      "source": [
        "# data.to_json(\"gdrive/My Drive/text_analysis/Vectors.json\", orient=\"records\")"
      ]
    },
    {
      "cell_type": "code",
      "execution_count": 37,
      "metadata": {
        "id": "b0-DjgRK7G5X"
      },
      "outputs": [],
      "source": [
        "# path = 'gdrive/My Drive/text_analysis/Vectors.json'\n",
        "# with open(path, 'r', encoding='utf-8') as file:\n",
        "#     documents = json.load(file)"
      ]
    },
    {
      "cell_type": "code",
      "execution_count": 38,
      "metadata": {
        "colab": {
          "base_uri": "https://localhost:8080/"
        },
        "id": "4_r2HU3ln3Yq",
        "outputId": "981bbfd1-b390-4268-a621-2bb278abdee6"
      },
      "outputs": [],
      "source": [
        "#documents[:2]"
      ]
    },
    {
      "cell_type": "markdown",
      "metadata": {
        "id": "c1uZ6WRDjHcn"
      },
      "source": [
        "<a id=\"3\"></a>\n",
        "## Create the search index\n",
        "[Back to the top](#0)"
      ]
    },
    {
      "cell_type": "code",
      "execution_count": 39,
      "metadata": {
        "id": "SU8SaBAbjLNI"
      },
      "outputs": [],
      "source": [
        "from azure.search.documents.indexes import SearchIndexClient\n",
        "from azure.search.documents.indexes.models import (\n",
        "    SimpleField,\n",
        "    SearchFieldDataType,\n",
        "    SearchableField,\n",
        "    SearchField,\n",
        "    VectorSearch,\n",
        "    HnswAlgorithmConfiguration,\n",
        "    VectorSearchProfile,\n",
        "    #SemanticConfiguration,\n",
        "    #SemanticPrioritizedFields,\n",
        "    #SemanticField,\n",
        "    #SemanticSearch,\n",
        "    SearchIndex\n",
        ")"
      ]
    },
    {
      "cell_type": "markdown",
      "metadata": {},
      "source": [
        "Create a search index schema."
      ]
    },
    {
      "cell_type": "code",
      "execution_count": 40,
      "metadata": {
        "id": "0ivwV6Wsj2FB"
      },
      "outputs": [],
      "source": [
        "# index_client = SearchIndexClient(\n",
        "#     endpoint=endpoint, credential=credential)\n",
        "# fields = [\n",
        "#     SimpleField(name=\"id\", type=SearchFieldDataType.String, key=True, sortable=True, filterable=True, facetable=True),\n",
        "#     SearchableField(name=\"title\", type=SearchFieldDataType.String),\n",
        "#     SearchableField(name=\"snippet\", type=SearchFieldDataType.String),\n",
        "#     SearchableField(name=\"keywords\", type=SearchFieldDataType.String),\n",
        "#     SearchableField(name=\"link\", type=SearchFieldDataType.String),\n",
        "#     SearchableField(name=\"displayed_link\", type=SearchFieldDataType.String,\n",
        "#                     filterable=True),\n",
        "#     SearchField(name=\"titleVector\", type=SearchFieldDataType.Collection(SearchFieldDataType.Single),\n",
        "#                 searchable=True, vector_search_dimensions=1536, vector_search_profile_name=\"myHnswProfile\"),\n",
        "#     SearchField(name=\"snippetVector\", type=SearchFieldDataType.Collection(SearchFieldDataType.Single),\n",
        "#                 searchable=True, vector_search_dimensions=1536, vector_search_profile_name=\"myHnswProfile\"),\n",
        "# ]"
      ]
    },
    {
      "cell_type": "markdown",
      "metadata": {},
      "source": [
        "Configure the vector search configuration."
      ]
    },
    {
      "cell_type": "code",
      "execution_count": 41,
      "metadata": {
        "id": "EiUtkbuMmBCQ"
      },
      "outputs": [],
      "source": [
        "# vector_search = VectorSearch(\n",
        "#     algorithms=[\n",
        "#         HnswAlgorithmConfiguration(\n",
        "#             name=\"myHnsw\"\n",
        "#         )\n",
        "#     ],\n",
        "#     profiles=[\n",
        "#         VectorSearchProfile(\n",
        "#             name=\"myHnswProfile\",\n",
        "#             algorithm_configuration_name=\"myHnsw\",\n",
        "#         )\n",
        "#     ]\n",
        "# )"
      ]
    },
    {
      "cell_type": "markdown",
      "metadata": {},
      "source": [
        "Create an instance of the search index."
      ]
    },
    {
      "cell_type": "code",
      "execution_count": 42,
      "metadata": {
        "id": "lRB3YWzVmdrz"
      },
      "outputs": [],
      "source": [
        "# index = SearchIndex(name=index_name, fields=fields,\n",
        "#                     vector_search=vector_search)\n",
        "# result = index_client.create_or_update_index(index)\n",
        "# print(f' {result.name} created')"
      ]
    },
    {
      "cell_type": "markdown",
      "metadata": {
        "id": "R2vJoYVotO_K"
      },
      "source": [
        "<a id=\"4\"></a>\n",
        "## Insert text and embeddings into vector store\n",
        "[Back to the top](#0)"
      ]
    },
    {
      "cell_type": "code",
      "execution_count": 43,
      "metadata": {
        "id": "7ThxbIbKK3wm"
      },
      "outputs": [],
      "source": [
        "from azure.search.documents import SearchClient"
      ]
    },
    {
      "cell_type": "code",
      "execution_count": 44,
      "metadata": {
        "id": "AywIbQfnjwDV"
      },
      "outputs": [],
      "source": [
        "# len(documents)"
      ]
    },
    {
      "cell_type": "markdown",
      "metadata": {},
      "source": [
        "Upload all documents to the vector store. Again, we divide our data into chunks because Searchclient can't upload 8192 document at one time."
      ]
    },
    {
      "cell_type": "code",
      "execution_count": 45,
      "metadata": {
        "id": "suC_F_iHXcoU"
      },
      "outputs": [],
      "source": [
        "# search_client = SearchClient(endpoint=endpoint, index_name=index_name, credential=credential)\n",
        "# c = int(np.ceil(len(documents) / 1000))\n",
        "# k = 0\n",
        "# for i in range(c):\n",
        "#   n = len(documents) - 1000 * (c-i-1)\n",
        "#   result = search_client.upload_documents(documents[k:n])\n",
        "#   k = n"
      ]
    },
    {
      "cell_type": "markdown",
      "metadata": {
        "id": "j_f8iqxxoB0N"
      },
      "source": [
        "<a id=\"5\"></a>\n",
        "## Vector similarity search\n",
        "[Back to the top](#0)"
      ]
    },
    {
      "cell_type": "code",
      "execution_count": 46,
      "metadata": {
        "id": "0BgwGG0DF8Zk"
      },
      "outputs": [],
      "source": [
        "search_client = SearchClient(endpoint=endpoint, index_name=index_name, credential=credential)"
      ]
    },
    {
      "cell_type": "markdown",
      "metadata": {},
      "source": [
        "Create an embedding for the query and find top-6 similar embeddings of `titleVector` and `snippetVector`. Print `title`, `snippet` and `link` of the corresponding documents."
      ]
    },
    {
      "cell_type": "code",
      "execution_count": 47,
      "metadata": {
        "colab": {
          "base_uri": "https://localhost:8080/"
        },
        "id": "Lg_kiNOMkWbl",
        "outputId": "97baa122-85d6-431b-9498-7ec8ae869fb0"
      },
      "outputs": [
        {
          "name": "stdout",
          "output_type": "stream",
          "text": [
            "Title: Magnet Wire\n",
            "Score: 0.03229166567325592\n",
            "Content: Enamelled wire is used for wound coil of motor or transformer. ... Small welding method (connecting wire, lead wire connection) ... Wire stretching shall be ...\n",
            "Link: https://www.casa.co.nz/cables/wire/magnet/MagnetWire-Hitachi_40p.pdf\n",
            "\n",
            "Title: SelfBonding Wire\n",
            "Score: 0.03131881356239319\n",
            "Content: Contact · Map · Country. Selfbonding Wire, Selfbonding ... Use of selfbonding enamelled wire offers advantages over conventional enamelled wire in certain winding ...\n",
            "Link: https://www.elektrisola.com/en/Selfbonding-Wire/Info\n",
            "\n",
            "Title: Spot welding of enamelled wires on stator\n",
            "Score: 0.029236022382974625\n",
            "Content: The enamelled copper wire needs to be reliably welded to the copper contact pin without removing the enamel in advance. Solution. The connection was created ...\n",
            "Link: https://www.telsonic.com/en/application-finder/spot-welding-of-enamelled-wires-on-stator/\n",
            "\n",
            "Title: Enamelled Copper Wires for Automotive\n",
            "Score: 0.024610823020339012\n",
            "Content: ... wires, enamelled and braided, made of copper or aluminium. +49 5281 988 0 info(at)sh-wire.de. Product range · Applications · Services · Company · Contact · News ...\n",
            "Link: https://www.sh-wire.de/en/applications/automotive/\n",
            "\n",
            "Title: Laser welding process for flat wire motor stator manufacturing\n",
            "Score: 0.021865716204047203\n",
            "Content: ... copper wire) at both ends to achieve contact, here processed using a pulsed laser. Laser processing offers an 80% increase in productivity ...\n",
            "Link: https://www.nide-group.com/En/news_detail/mid/40/tid/52/id/235.html\n",
            "\n",
            "Title: PROJECT 1 COMPLETE REPORT (docx)\n",
            "Score: 0.01666666753590107\n",
            "Content: ... attach the device to a power source and ... Wire Mesh Wire mesh manufactured from ... winding. The field winding is a wire coil contained in ...\n",
            "Link: https://www.cliffsnotes.com/study-notes/4862057\n",
            "\n"
          ]
        }
      ],
      "source": [
        "from azure.search.documents.models import VectorizedQuery\n",
        "\n",
        "query = \"Welded wire mesh\"\n",
        "\n",
        "embedding = client.embeddings.create(input=query, model=embedding_model_name).data[0].embedding\n",
        "vector_query = VectorizedQuery(vector=embedding, k_nearest_neighbors=50, fields=\"titleVector, snippetVector\")\n",
        "\n",
        "results = search_client.search(\n",
        "    search_text=None,\n",
        "    vector_queries= [vector_query],\n",
        "    select=[\"title\", \"snippet\", \"link\"],\n",
        "    top=6\n",
        ")\n",
        "\n",
        "for result in results:\n",
        "    print(f\"Title: {result['title']}\")\n",
        "    print(f\"Score: {result['@search.score']}\")\n",
        "    print(f\"Content: {result['snippet']}\")\n",
        "    print(f\"Link: {result['link']}\\n\")"
      ]
    },
    {
      "cell_type": "markdown",
      "metadata": {},
      "source": [
        "Create an embedding for the query and find top-6 similar embeddings of `snippetVector`. Print `title`, `snippet` and `link` of the corresponding documents."
      ]
    },
    {
      "cell_type": "code",
      "execution_count": 48,
      "metadata": {
        "colab": {
          "base_uri": "https://localhost:8080/"
        },
        "id": "A_XPnKW-K47m",
        "outputId": "f769382e-a3df-4744-b08b-083450043721"
      },
      "outputs": [
        {
          "name": "stdout",
          "output_type": "stream",
          "text": [
            "Title: PROJECT 1 COMPLETE REPORT (docx)\n",
            "Score: 0.8654317\n",
            "Content: ... attach the device to a power source and ... Wire Mesh Wire mesh manufactured from ... winding. The field winding is a wire coil contained in ...\n",
            "Link: https://www.cliffsnotes.com/study-notes/4862057\n",
            "\n",
            "Title: Resource Center\n",
            "Score: 0.85823053\n",
            "Content: For a demo, we used a sewing machine to sew two DexMat CNT wires / yarn / rope into a piece of fabric and connect... GAMMA-RAY SHIELDING PERFORMANCE OF ...\n",
            "Link: https://dexmat.com/resource-center/\n",
            "\n",
            "Title: Direct-Extruded High-Conductivity Copper for Electric ...\n",
            "Score: 0.85118\n",
            "Content: Shape Wire process ... The high conductivity wire for stator winding could spill over into permanent magnet motor ... using non-contact infrared ...\n",
            "Link: https://www.energy.gov/eere/vehicles/articles/directly-extruded-high-conductivity-copper-electric-machines\n",
            "\n",
            "Title: 1/8\" Form-I-Glas K1230P .030\" 100% Polyester Shrinkable ...\n",
            "Score: 0.8511506\n",
            "Content: Magnet/Winding Wire · Fine Magnet/Winding Wire (AWG ... Stator Holding Rings · Undercutters · VPI & Dip Tank ... They also resist chemical attach, fungus and heat.\n",
            "Link: https://www.electro-wind.com/1-8-form-i-glas-k1230p-030-100-polyester-shrinkable-lacing-tape-155c-natural-1-8-wide-x-720-yd-spool\n",
            "\n",
            "Title: Magnet Wire\n",
            "Score: 0.85080165\n",
            "Content: Enamelled wire is used for wound coil of motor or transformer. ... Small welding method (connecting wire, lead wire connection) ... Wire stretching shall be ...\n",
            "Link: https://www.casa.co.nz/cables/wire/magnet/MagnetWire-Hitachi_40p.pdf\n",
            "\n",
            "Title: Electric motor: current and future scenarios\n",
            "Score: 0.8502182\n",
            "Content: The 'Insulation Displacement Connection' (IDC) / Crimp technology is a valid alternative to the welding process for enameled wire ...\n",
            "Link: https://www.hafactory.it/2019/05/29/electric-motor-current-and-future-scenarios/\n",
            "\n"
          ]
        }
      ],
      "source": [
        "from azure.search.documents.models import VectorizedQuery\n",
        "\n",
        "query = \"Welded wire mesh\"\n",
        "\n",
        "embedding = client.embeddings.create(input=query, model=embedding_model_name).data[0].embedding\n",
        "vector_query = VectorizedQuery(vector=embedding, k_nearest_neighbors=50, fields=\"snippetVector\")\n",
        "\n",
        "results = search_client.search(\n",
        "    search_text=None,\n",
        "    vector_queries= [vector_query],\n",
        "    select=[\"title\", \"snippet\", \"link\"],\n",
        "    top=6\n",
        ")\n",
        "\n",
        "for result in results:\n",
        "    print(f\"Title: {result['title']}\")\n",
        "    print(f\"Score: {result['@search.score']}\")\n",
        "    print(f\"Content: {result['snippet']}\")\n",
        "    print(f\"Link: {result['link']}\\n\")"
      ]
    },
    {
      "cell_type": "markdown",
      "metadata": {
        "id": "O4wkCd6vTffc"
      },
      "source": [
        "<a id=\"6\"></a>\n",
        "## Vector similarity search with a filter\n",
        "[Back to the top](#0)"
      ]
    },
    {
      "cell_type": "markdown",
      "metadata": {},
      "source": [
        "Add filter to the previous vector similarity search."
      ]
    },
    {
      "cell_type": "code",
      "execution_count": 49,
      "metadata": {
        "colab": {
          "base_uri": "https://localhost:8080/"
        },
        "id": "gKoaCs55SJvm",
        "outputId": "d7a8774c-c5ec-45ee-ce50-10239d91e364"
      },
      "outputs": [
        {
          "name": "stdout",
          "output_type": "stream",
          "text": [
            "Title: Stator assembly made from a molded web of core ...\n",
            "Score: 0.030365770682692528\n",
            "Content: Wire is then wound around the poles to form stator windings. ... Of primary concern are glues used to attach ... step, as a continuous length of wire for each phase ...\n",
            "Link: https://patents.google.com/patent/US20040034988A1/en\n",
            "\n",
            "Title: Wire guide for winding dynamo-electric machine stators ...\n",
            "Score: 0.0297619067132473\n",
            "Content: While it is possible to attach a guide 100 to just one coil ... wire guiding head for winding stator coils ... Technologies, L.L.C. Method of winding an electric ...\n",
            "Link: https://patents.google.com/patent/US6325318B1/en\n",
            "\n",
            "Title: EP3402050A1 - Insultated wire of a coil for a random-wound stator\n",
            "Score: 0.028665028512477875\n",
            "Content: A winding wire (1) of a coil for a random-wound stator ... winding wire 1 endings, where high electric fields may occur. ... contacting method. GB2332559A * 1997-11 ...\n",
            "Link: https://patents.google.com/patent/EP3402050A1/en\n",
            "\n",
            "Title: Process for forming a stator winding, a solid sheet metal ...\n",
            "Score: 0.027912385761737823\n",
            "Content: ... winding wire (10) to form a coil (12). The winding wire (10) between two coils (12) assigned to the same phase and/or for contacting the or each correspondingly ...\n",
            "Link: https://patents.google.com/patent/DE102021205244A1/en\n",
            "\n",
            "Title: Stator assembly made from a molded web of core segments and ...\n",
            "Score: 0.02664576843380928\n",
            "Content: Of primary concern are glues used to attach components together, varnish used to insulate wire, and epoxy used to protect steel laminations from oxidation.\n",
            "Link: https://patents.google.com/patent/US20060238063\n",
            "\n",
            "Title: Method and apparatus for introducing wave windings into ...\n",
            "Score: 0.02490842528641224\n",
            "Content: ... connect adjacent ends of adjacent straight ... A method for forming and transferring wave winding segments of wire into a stator or rotor comprising the steps of:.\n",
            "Link: https://patents.google.com/patent/US7281312B2/en\n",
            "\n"
          ]
        }
      ],
      "source": [
        "from azure.search.documents.models import VectorizedQuery\n",
        "from azure.search.documents.models import VectorFilterMode\n",
        "\n",
        "query = \"Welded wire mesh\"\n",
        "\n",
        "embedding = client.embeddings.create(input=query, model=embedding_model_name).data[0].embedding\n",
        "vector_query = VectorizedQuery(vector=embedding, k_nearest_neighbors=50, fields=\"titleVector, snippetVector\")\n",
        "filter_str = 'https://patents.google.com'\n",
        "\n",
        "results = search_client.search(\n",
        "    search_text=None,\n",
        "    vector_queries= [vector_query],\n",
        "    vector_filter_mode=VectorFilterMode.PRE_FILTER,\n",
        "    filter=f\"displayed_link eq '{filter_str}'\",\n",
        "    select=[\"title\", \"snippet\", \"link\"],\n",
        "    top=6\n",
        ")\n",
        "\n",
        "for result in results:\n",
        "    print(f\"Title: {result['title']}\")\n",
        "    print(f\"Score: {result['@search.score']}\")\n",
        "    print(f\"Content: {result['snippet']}\")\n",
        "    print(f\"Link: {result['link']}\\n\")"
      ]
    },
    {
      "cell_type": "markdown",
      "metadata": {
        "id": "OaO5uq-GU7Wo"
      },
      "source": [
        "<a id=\"7\"></a>\n",
        "## Keyword search\n",
        "[Back to the top](#0)"
      ]
    },
    {
      "cell_type": "markdown",
      "metadata": {},
      "source": [
        "Perform keyword search based on words given in the query."
      ]
    },
    {
      "cell_type": "code",
      "execution_count": 50,
      "metadata": {
        "colab": {
          "base_uri": "https://localhost:8080/"
        },
        "id": "EaAd80-zVOKn",
        "outputId": "ad58e9a7-d192-4185-e38a-795f6aa60af3"
      },
      "outputs": [
        {
          "name": "stdout",
          "output_type": "stream",
          "text": [
            "Title: PEEK Wire | Magnet & Winding Wire Insulation - Zeus\n",
            "Score: 13.158661\n",
            "Content: As a single layer solution, PEEK wire HB enables motor ... Our patented extrusion technology enables ... Connect With Zeus. LinkedIn · YouTube. Copyright 2024 ...\n",
            "Link: https://www.zeusinc.com/products/insulated-wire/peek-wire/\n",
            "\n",
            "Title: PROJECT 1 COMPLETE REPORT (docx)\n",
            "Score: 12.687489\n",
            "Content: ... attach the device to a power source and ... Wire Mesh Wire mesh manufactured from ... winding. The field winding is a wire coil contained in ...\n",
            "Link: https://www.cliffsnotes.com/study-notes/4862057\n",
            "\n",
            "Title: SelfBonding Wire\n",
            "Score: 12.551285\n",
            "Content: Contact · Map · Country. Selfbonding Wire, Selfbonding ... Use of selfbonding enamelled wire offers advantages over conventional enamelled wire in certain winding ...\n",
            "Link: https://www.elektrisola.com/en/Selfbonding-Wire/Info\n",
            "\n",
            "Title: Magnet Wire\n",
            "Score: 12.205912\n",
            "Content: Enamelled wire is used for wound coil of motor or transformer. ... Small welding method (connecting wire, lead wire connection) ... Wire stretching shall be ...\n",
            "Link: https://www.casa.co.nz/cables/wire/magnet/MagnetWire-Hitachi_40p.pdf\n",
            "\n",
            "Title: Litz Wire\n",
            "Score: 12.205002\n",
            "Content: Connect with NEWT. Quick Links. Contact Us · About New England Wire Technologies · Market-Specific Solutions · Services · Products · Wire and ...\n",
            "Link: https://www.newenglandwire.com/related-service/litz-wire/page/2/\n",
            "\n",
            "Title: wire winding technique: Topics by ...\n",
            "Score: 11.726093\n",
            "Content: Evaluation of a countermeasure against wake galloping using wire connection method; Wake galloping ni taisuru seishin wire no yukosei ni tsuite · Energy ...\n",
            "Link: https://worldwidescience.org/topicpages/w/wire+winding+technique.html\n",
            "\n"
          ]
        }
      ],
      "source": [
        "from azure.search.documents.models import VectorizedQuery\n",
        "\n",
        "query = \"Welded wire mesh\"\n",
        "\n",
        "results = search_client.search(\n",
        "    search_text=query,\n",
        "    select=[\"title\", \"snippet\", \"link\"],\n",
        "    top=6\n",
        ")\n",
        "\n",
        "for result in results:\n",
        "    print(f\"Title: {result['title']}\")\n",
        "    print(f\"Score: {result['@search.score']}\")\n",
        "    print(f\"Content: {result['snippet']}\")\n",
        "    print(f\"Link: {result['link']}\\n\")"
      ]
    },
    {
      "cell_type": "markdown",
      "metadata": {
        "id": "Y5c59VobTsq9"
      },
      "source": [
        "<a id=\"8\"></a>\n",
        "## Hybrid search\n",
        "[Back to the top](#0)"
      ]
    },
    {
      "cell_type": "markdown",
      "metadata": {},
      "source": [
        "Perform hybrid search which combines vector similarity search and keyword search. According to Microsoft documentation, in most cases this approach gives the best results."
      ]
    },
    {
      "cell_type": "code",
      "execution_count": 51,
      "metadata": {
        "colab": {
          "base_uri": "https://localhost:8080/"
        },
        "id": "MTfIygDtUbtc",
        "outputId": "02c9c9c9-39a4-4c1c-9f4e-a90fa22e7468"
      },
      "outputs": [
        {
          "name": "stdout",
          "output_type": "stream",
          "text": [
            "Title: Magnet Wire\n",
            "Score: 0.04816468432545662\n",
            "Content: Enamelled wire is used for wound coil of motor or transformer. ... Small welding method (connecting wire, lead wire connection) ... Wire stretching shall be ...\n",
            "Link: https://www.casa.co.nz/cables/wire/magnet/MagnetWire-Hitachi_40p.pdf\n",
            "\n",
            "Title: SelfBonding Wire\n",
            "Score: 0.047447845339775085\n",
            "Content: Contact · Map · Country. Selfbonding Wire, Selfbonding ... Use of selfbonding enamelled wire offers advantages over conventional enamelled wire in certain winding ...\n",
            "Link: https://www.elektrisola.com/en/Selfbonding-Wire/Info\n",
            "\n",
            "Title: Spot welding of enamelled wires on stator\n",
            "Score: 0.037569355219602585\n",
            "Content: The enamelled copper wire needs to be reliably welded to the copper contact pin without removing the enamel in advance. Solution. The connection was created ...\n",
            "Link: https://www.telsonic.com/en/application-finder/spot-welding-of-enamelled-wires-on-stator/\n",
            "\n",
            "Title: PROJECT 1 COMPLETE REPORT (docx)\n",
            "Score: 0.03306011110544205\n",
            "Content: ... attach the device to a power source and ... Wire Mesh Wire mesh manufactured from ... winding. The field winding is a wire coil contained in ...\n",
            "Link: https://www.cliffsnotes.com/study-notes/4862057\n",
            "\n",
            "Title: Litz Wire\n",
            "Score: 0.0314980149269104\n",
            "Content: Connect with NEWT. Quick Links. Contact Us · About New England Wire Technologies · Market-Specific Solutions · Services · Products · Wire and ...\n",
            "Link: https://www.newenglandwire.com/related-service/litz-wire/page/2/\n",
            "\n",
            "Title: Litz Wire\n",
            "Score: 0.03053613007068634\n",
            "Content: Connection Technologies for Litz Wires. The ... Stator with distributed windings, where several teeth share one coil ... wire and coil winding. 2.2 Sensors. General.\n",
            "Link: https://www.elektrisola.com/en-us/Litz-Wire/Info\n",
            "\n",
            "Title: Working or Processing of Wire\n",
            "Score: 0.02744361013174057\n",
            "Content: ... attach an accessory (604) to the mesh. One embodiment may take the form... WO/2015/045756A1, COIL-SPRING FORMATION METHOD AND ...\n",
            "Link: https://www.sumobrain.com/ICL-B21F-p12.html\n",
            "\n",
            "Title: Magnet Wire Manufacturer & Supplier\n",
            "Score: 0.027271050959825516\n",
            "Content: Our high-speed taping lines use the latest technology to insulate magnet wire ... Manufacturer of Wind Generator Windings, Coils, Stator ... CONTACT INFO. Address:\n",
            "Link: https://www.emccltd.ca/magnet-wire-manufacturer-supplier/\n",
            "\n",
            "Title: coiled wire inserts\n",
            "Score: 0.026905018836259842\n",
            "Content: ... phase windings in the slots of the stator. In one ... Despite the stereotypical fold of coiled coils, initial phase ... attach the wire to deep-etched silicon ...\n",
            "Link: https://www.science.gov/topicpages/c/coiled+wire+inserts.html\n",
            "\n",
            "Title: Copper Wire Winding Machine\n",
            "Score: 0.026198629289865494\n",
            "Content: For businesses in search of a reliable copper wire winding machine, Alibaba.com provides a platform to connect with a diverse range of suppliers. The ...\n",
            "Link: https://www.alibaba.com/showroom/copper-wire-winding-machine.html\n",
            "\n"
          ]
        }
      ],
      "source": [
        "from azure.search.documents.models import VectorizedQuery\n",
        "\n",
        "query = \"Welded wire mesh\"\n",
        "\n",
        "embedding = client.embeddings.create(input=query, model=embedding_model_name).data[0].embedding\n",
        "vector_query = VectorizedQuery(vector=embedding, k_nearest_neighbors=50, fields=\"titleVector, snippetVector\")\n",
        "\n",
        "results = search_client.search(\n",
        "    search_text=query,\n",
        "    vector_queries= [vector_query],\n",
        "    select=[\"title\", \"snippet\", \"link\"],\n",
        "    top=10\n",
        ")\n",
        "\n",
        "for result in results:\n",
        "    print(f\"Title: {result['title']}\")\n",
        "    print(f\"Score: {result['@search.score']}\")\n",
        "    print(f\"Content: {result['snippet']}\")\n",
        "    print(f\"Link: {result['link']}\\n\")"
      ]
    },
    {
      "cell_type": "markdown",
      "metadata": {
        "id": "KY_a_XtvlO0f"
      },
      "source": [
        "<a id=\"9\"></a>\n",
        "## LLM model\n",
        "[Back to the top](#0)"
      ]
    },
    {
      "cell_type": "code",
      "execution_count": 52,
      "metadata": {
        "colab": {
          "base_uri": "https://localhost:8080/"
        },
        "id": "iJpjX_XLHWa1",
        "outputId": "4a322a85-b0a9-4a09-d21e-677dfb717a3b"
      },
      "outputs": [
        {
          "name": "stdout",
          "output_type": "stream",
          "text": [
            "Requirement already satisfied: langchain_openai in c:\\users\\sereb\\onedrive\\рабочий стол\\folder\\.venv\\lib\\site-packages (0.1.7)Note: you may need to restart the kernel to use updated packages.\n",
            "\n",
            "Requirement already satisfied: openai<2.0.0,>=1.24.0 in c:\\users\\sereb\\onedrive\\рабочий стол\\folder\\.venv\\lib\\site-packages (from langchain_openai) (1.30.1)\n",
            "Requirement already satisfied: langchain-core<0.3,>=0.1.46 in c:\\users\\sereb\\onedrive\\рабочий стол\\folder\\.venv\\lib\\site-packages (from langchain_openai) (0.1.52)\n",
            "Requirement already satisfied: tiktoken<1,>=0.7 in c:\\users\\sereb\\onedrive\\рабочий стол\\folder\\.venv\\lib\\site-packages (from langchain_openai) (0.7.0)\n",
            "Requirement already satisfied: jsonpatch<2.0,>=1.33 in c:\\users\\sereb\\onedrive\\рабочий стол\\folder\\.venv\\lib\\site-packages (from langchain-core<0.3,>=0.1.46->langchain_openai) (1.33)\n",
            "Requirement already satisfied: langsmith<0.2.0,>=0.1.0 in c:\\users\\sereb\\onedrive\\рабочий стол\\folder\\.venv\\lib\\site-packages (from langchain-core<0.3,>=0.1.46->langchain_openai) (0.1.59)\n",
            "Requirement already satisfied: pydantic<3,>=1 in c:\\users\\sereb\\onedrive\\рабочий стол\\folder\\.venv\\lib\\site-packages (from langchain-core<0.3,>=0.1.46->langchain_openai) (2.7.1)\n",
            "Requirement already satisfied: tenacity<9.0.0,>=8.1.0 in c:\\users\\sereb\\onedrive\\рабочий стол\\folder\\.venv\\lib\\site-packages (from langchain-core<0.3,>=0.1.46->langchain_openai) (8.3.0)\n",
            "Requirement already satisfied: packaging<24.0,>=23.2 in c:\\users\\sereb\\onedrive\\рабочий стол\\folder\\.venv\\lib\\site-packages (from langchain-core<0.3,>=0.1.46->langchain_openai) (23.2)\n",
            "Requirement already satisfied: PyYAML>=5.3 in c:\\users\\sereb\\onedrive\\рабочий стол\\folder\\.venv\\lib\\site-packages (from langchain-core<0.3,>=0.1.46->langchain_openai) (6.0.1)\n",
            "Requirement already satisfied: sniffio in c:\\users\\sereb\\onedrive\\рабочий стол\\folder\\.venv\\lib\\site-packages (from openai<2.0.0,>=1.24.0->langchain_openai) (1.3.1)\n",
            "Requirement already satisfied: distro<2,>=1.7.0 in c:\\users\\sereb\\onedrive\\рабочий стол\\folder\\.venv\\lib\\site-packages (from openai<2.0.0,>=1.24.0->langchain_openai) (1.9.0)\n",
            "Requirement already satisfied: anyio<5,>=3.5.0 in c:\\users\\sereb\\onedrive\\рабочий стол\\folder\\.venv\\lib\\site-packages (from openai<2.0.0,>=1.24.0->langchain_openai) (4.3.0)\n",
            "Requirement already satisfied: httpx<1,>=0.23.0 in c:\\users\\sereb\\onedrive\\рабочий стол\\folder\\.venv\\lib\\site-packages (from openai<2.0.0,>=1.24.0->langchain_openai) (0.27.0)\n",
            "Requirement already satisfied: typing-extensions<5,>=4.7 in c:\\users\\sereb\\onedrive\\рабочий стол\\folder\\.venv\\lib\\site-packages (from openai<2.0.0,>=1.24.0->langchain_openai) (4.11.0)\n",
            "Requirement already satisfied: tqdm>4 in c:\\users\\sereb\\onedrive\\рабочий стол\\folder\\.venv\\lib\\site-packages (from openai<2.0.0,>=1.24.0->langchain_openai) (4.66.4)\n",
            "Requirement already satisfied: regex>=2022.1.18 in c:\\users\\sereb\\onedrive\\рабочий стол\\folder\\.venv\\lib\\site-packages (from tiktoken<1,>=0.7->langchain_openai) (2024.5.15)\n",
            "Requirement already satisfied: requests>=2.26.0 in c:\\users\\sereb\\onedrive\\рабочий стол\\folder\\.venv\\lib\\site-packages (from tiktoken<1,>=0.7->langchain_openai) (2.31.0)\n",
            "Requirement already satisfied: idna>=2.8 in c:\\users\\sereb\\onedrive\\рабочий стол\\folder\\.venv\\lib\\site-packages (from anyio<5,>=3.5.0->openai<2.0.0,>=1.24.0->langchain_openai) (3.7)\n",
            "Requirement already satisfied: exceptiongroup>=1.0.2 in c:\\users\\sereb\\onedrive\\рабочий стол\\folder\\.venv\\lib\\site-packages (from anyio<5,>=3.5.0->openai<2.0.0,>=1.24.0->langchain_openai) (1.2.1)\n",
            "Requirement already satisfied: httpcore==1.* in c:\\users\\sereb\\onedrive\\рабочий стол\\folder\\.venv\\lib\\site-packages (from httpx<1,>=0.23.0->openai<2.0.0,>=1.24.0->langchain_openai) (1.0.5)\n",
            "Requirement already satisfied: certifi in c:\\users\\sereb\\onedrive\\рабочий стол\\folder\\.venv\\lib\\site-packages (from httpx<1,>=0.23.0->openai<2.0.0,>=1.24.0->langchain_openai) (2024.2.2)\n",
            "Requirement already satisfied: h11<0.15,>=0.13 in c:\\users\\sereb\\onedrive\\рабочий стол\\folder\\.venv\\lib\\site-packages (from httpcore==1.*->httpx<1,>=0.23.0->openai<2.0.0,>=1.24.0->langchain_openai) (0.14.0)\n",
            "Requirement already satisfied: jsonpointer>=1.9 in c:\\users\\sereb\\onedrive\\рабочий стол\\folder\\.venv\\lib\\site-packages (from jsonpatch<2.0,>=1.33->langchain-core<0.3,>=0.1.46->langchain_openai) (2.4)\n",
            "Requirement already satisfied: orjson<4.0.0,>=3.9.14 in c:\\users\\sereb\\onedrive\\рабочий стол\\folder\\.venv\\lib\\site-packages (from langsmith<0.2.0,>=0.1.0->langchain-core<0.3,>=0.1.46->langchain_openai) (3.10.3)\n",
            "Requirement already satisfied: pydantic-core==2.18.2 in c:\\users\\sereb\\onedrive\\рабочий стол\\folder\\.venv\\lib\\site-packages (from pydantic<3,>=1->langchain-core<0.3,>=0.1.46->langchain_openai) (2.18.2)\n",
            "Requirement already satisfied: annotated-types>=0.4.0 in c:\\users\\sereb\\onedrive\\рабочий стол\\folder\\.venv\\lib\\site-packages (from pydantic<3,>=1->langchain-core<0.3,>=0.1.46->langchain_openai) (0.6.0)\n",
            "Requirement already satisfied: urllib3<3,>=1.21.1 in c:\\users\\sereb\\onedrive\\рабочий стол\\folder\\.venv\\lib\\site-packages (from requests>=2.26.0->tiktoken<1,>=0.7->langchain_openai) (2.2.1)\n",
            "Requirement already satisfied: charset-normalizer<4,>=2 in c:\\users\\sereb\\onedrive\\рабочий стол\\folder\\.venv\\lib\\site-packages (from requests>=2.26.0->tiktoken<1,>=0.7->langchain_openai) (3.3.2)\n",
            "Requirement already satisfied: colorama in c:\\users\\sereb\\onedrive\\рабочий стол\\folder\\.venv\\lib\\site-packages (from tqdm>4->openai<2.0.0,>=1.24.0->langchain_openai) (0.4.6)\n"
          ]
        },
        {
          "name": "stderr",
          "output_type": "stream",
          "text": [
            "WARNING: You are using pip version 22.0.4; however, version 24.0 is available.\n",
            "You should consider upgrading via the 'c:\\Users\\Sereb\\OneDrive\\Рабочий стол\\folder\\.venv\\Scripts\\python.exe -m pip install --upgrade pip' command.\n"
          ]
        }
      ],
      "source": [
        "pip install langchain_openai"
      ]
    },
    {
      "cell_type": "code",
      "execution_count": 53,
      "metadata": {
        "id": "EChQW-PLSFOk"
      },
      "outputs": [],
      "source": [
        "from langchain_openai import AzureOpenAI"
      ]
    },
    {
      "cell_type": "markdown",
      "metadata": {},
      "source": [
        "Define Azure ML properties."
      ]
    },
    {
      "cell_type": "code",
      "execution_count": 54,
      "metadata": {
        "id": "jSzFlCJDVvwq"
      },
      "outputs": [],
      "source": [
        "import os\n",
        "os.environ[\"OPENAI_API_TYPE\"] = \"azure\"\n",
        "os.environ[\"OPENAI_API_VERSION\"] = \"2024-02-01\"\n",
        "os.environ[\"OPENAI_API_KEY\"] = \"77773196027543a394597fc8e0c6c576\"\n",
        "os.environ[\"AZURE_OPENAI_ENDPOINT\"] = \"https://azure-openai-service-iwis-1.openai.azure.com/\""
      ]
    },
    {
      "cell_type": "markdown",
      "metadata": {},
      "source": [
        "Initialize the Azure OpenAI model."
      ]
    },
    {
      "cell_type": "code",
      "execution_count": 55,
      "metadata": {
        "id": "TQ_TjEV0W6gO"
      },
      "outputs": [],
      "source": [
        "llm = AzureOpenAI(deployment_name = \"azure-llm-model\",\n",
        "                  model = \"gpt-35-turbo-instruct\",\n",
        "                  temperature=1)"
      ]
    },
    {
      "cell_type": "markdown",
      "metadata": {},
      "source": [
        "Create a function that generates a response using hybrid search and LLM which was defined above."
      ]
    },
    {
      "cell_type": "code",
      "execution_count": 56,
      "metadata": {
        "id": "plYhmvE8XIZk"
      },
      "outputs": [],
      "source": [
        "def generate_response(user_question):\n",
        "\n",
        "    # Fetch the appropriate chunk from the database\n",
        "    context = \"\"\"\"\"\"\n",
        "    embedding = client.embeddings.create(input=user_question, model=embedding_model_name).data[0].embedding\n",
        "    vector_query = VectorizedQuery(vector=embedding, k_nearest_neighbors=50, fields=\"titleVector, snippetVector\")\n",
        "\n",
        "    results = search_client.search(\n",
        "        search_text=user_question,\n",
        "        vector_queries= [vector_query],\n",
        "        select=[\"title\", \"snippet\", \"link\"],\n",
        "        top=20\n",
        "    )\n",
        "\n",
        "    for result in results:\n",
        "      context += f\"Title: {result['title']}\" + f\"\\nContent: {result['snippet']}\" + f\"\\nLink: {result['link']}\\n\\n\"\n",
        "\n",
        "\n",
        "    # Append the chunk and the question into prompt\n",
        "    qna_prompt_template = f\"\"\"You will be provided with the question and a related context, you need to answer the question using the context.\n",
        "\n",
        "Context:\n",
        "{context}\n",
        "\n",
        "Question:\n",
        "{user_question}\n",
        "\n",
        "Make sure to answer the question only using the context provided, if the context doesn't contain the answer then return \"I don't have enough information to answer the question\".\n",
        "\n",
        "Answer:\"\"\"\n",
        "\n",
        "    def splitter(n, s):\n",
        "      pieces = s.split()\n",
        "      return (\" \".join(pieces[i:i+n]) for i in range(0, len(pieces), n))\n",
        "\n",
        "    # Call LLM model to generate response\n",
        "    response = llm(qna_prompt_template)\n",
        "    print(\"Answer:\")\n",
        "\n",
        "    for piece in splitter(25, response):\n",
        "      print(piece)\n",
        "\n",
        "    print(\"\\nRelated documents:\\n\")\n",
        "    print(context)"
      ]
    },
    {
      "cell_type": "markdown",
      "metadata": {},
      "source": [
        "Test the function."
      ]
    },
    {
      "cell_type": "code",
      "execution_count": 59,
      "metadata": {
        "colab": {
          "base_uri": "https://localhost:8080/"
        },
        "id": "55nZB-qaXi3_",
        "outputId": "75c02e8e-9571-42bc-c88e-8e79bcf17161"
      },
      "outputs": [
        {
          "name": "stdout",
          "output_type": "stream",
          "text": [
            "Answer:\n",
            "1) \"Kontaktierung von Antrieben für die Elektromobilität: Innovative Vorgehensweisen, Prozessketten und Technologien\" by T. Gläßel and Jörg Franke in Annals 2017 2) \"Development of a\n",
            "Production Process for Formed Litz Wire...\" by T. Gläßel and J. Franke in chapter/10.1007/978-3-030-78424-9_44 (accessed: 2022/07/17) 3) \"Skinning of Insulated Copper Wires within the Production\n",
            "Chain\" by Tobias Gläßel and Karsten Seefried in Kontaktierung von Antrieben für die Elektromobilität.\n",
            "\n",
            "Related documents:\n",
            "\n",
            "Title: Annals 2017\n",
            "Content: Gläßel, T.; Franke, Jörg: Kontaktierung von Antrieben für die Elektromobilität: Innovative Vorgehensweisen,. Prozessketten und Technologien ...\n",
            "Link: https://www.faps.fau.eu/wp-content/uploads/2018/03/FAPS_Annals_2017.pdf\n",
            "\n",
            "Title: Development of a Production Process for Formed Litz Wire ...\n",
            "Content: chapter/10.1007/978-3-030-78424-9_44 (accessed: 2022/07/17). [9] T. Gläßel and J. Franke, “Kontaktierung von Antrieben für die.\n",
            "Link: https://www.researchgate.net/publication/366408980_Development_of_a_Production_Process_for_Formed_Litz_Wire_Stator_Windings\n",
            "\n",
            "Title: Publikationsliste\n",
            "Content: \"Verfahren zur selbstjustierten Kontaktierung von epitaktisch gewachsenen Nanowires für Vertikaltransistoren\"; Betreuer/in(nen): E. Bertagnolli; Institut ...\n",
            "Link: https://publik.tuwien.ac.at/publist.php?Fak=9&sgrp=12&from=1965&to=2015&sort=3\n",
            "\n",
            "Title: Zeitschrift - Volume 70 - Page xiii - Google Books Result\n",
            "Content: Österreichischer Ingenieur- und Architekten-Verein. Zweiteilige Wicklung ... Verfahren zur Herstellung von Glühlampen mit ... Befestigen , Spannen und Rühren des ...\n",
            "Link: https://books.google.com/books?id=9AEjAQAAMAAJ&pg=PR13&lpg=PR13&dq=stator+wicklung+draht+%22befestigen%22+verfahren&source=bl&ots=_zOdlirfTb&sig=ACfU3U1l1GwwHO9TW5EnLKg8M_LbGePpfQ&hl=en&sa=X&ved=2ahUKEwjs7rrU0KiFAxVhTjABHUYeB6gQ6AF6BQiNAxAD\n",
            "\n",
            "Title: Viler, T.\n",
            "Content: ... Electricity, pp. 19-1-1 to 20- -1 -7. Complete the attach.J. response sheets for the experiments. 4. Answer the attached \"Review questions\". 5. Write a ...\n",
            "Link: https://files.eric.ed.gov/fulltext/ED197160.pdf\n",
            "\n",
            "Title: T. Wellerdieck - Research Collection\n",
            "Content: µ1,stator = µr,Stator · µ0, ... Nuten versehen, welche die Bohrungen im Kegelstumpf verbinden. ... detakta.de/fileadmin/datenblaetter/draht/ml-draht ...\n",
            "Link: https://www.research-collection.ethz.ch/bitstream/handle/20.500.11850/257088/1/24956_Wellerdieck_Die_lagerlose_Pumpe_fuer_hohe_Fluidtemperaturen.pdf\n",
            "\n",
            "Title: Deutsche Nationalbibliografie 2017 H 11\n",
            "Content: ... phase plate app- lication in transmission ... Innovation Fertigungstechnik\") . -. Inhaltsverzeichnis ... Kontaktieren ; Me- tallisieren ...\n",
            "Link: https://d-nb.info/114505725X/34\n",
            "\n",
            "Title: A study on the weak points of stator windings of high ...\n",
            "Content: Help and contact · Newsroom · All journals · Books. Keep up to date. Register to receive personalised research and resources by email. Sign me up · Taylor and ...\n",
            "Link: https://www.tandfonline.com/doi/full/10.1080/25725084.2023.2204046\n",
            "\n",
            "Title: Dresdner Hefte zur Geschichte der Elektrotechnik\n",
            "Content: Spektralanalyse elektrisch angeregter Gase war eröffnet. ... Der beim Kontaktieren der Maschinenkapazität mit der kapazitiv gestützten Last ... wicklung der TU ...\n",
            "Link: https://www.vde-dresden.de/resource/blob/2119364/33f088ba064d8e21d3c2612e49883fda/dresdner-hefte-zur-geschichte-der-elektrotechnik-heft-5-data.pdf\n",
            "\n",
            "Title: Extra Freedom Degrees of Six-Phase Induction Motors ...\n",
            "Content: ... contact · Newsroom · All journals · Books. Keep up to date. Register to receive personalised research and resources by email. Sign me up · Taylor and Francis ...\n",
            "Link: https://www.tandfonline.com/doi/abs/10.1080/15325008.2021.1937398\n",
            "\n",
            "Title: Incipient Fault Diagnosis in Stator Winding of Synchronous ...\n",
            "Content: Help and contact · Newsroom · All journals · Books. Keep up to date. Register to receive personalised research and resources by email. Sign me ...\n",
            "Link: https://www.tandfonline.com/doi/abs/10.1080/03772063.2018.1447403\n",
            "\n",
            "Title: Winding and Constructions\n",
            "Content: Contact Bartleby · Contact Research (Essays) · High School Textbooks · Literature Guides · Concept Explainers by Subject · Essay Help · Mobile App · Facebook ...\n",
            "Link: https://www.bartleby.com/subject/engineering/electrical-engineering/concepts/winding-and-constructions\n",
            "\n",
            "Title: Types of Winding\n",
            "Content: Contact Bartleby · Contact Research (Essays) · High School Textbooks · Literature Guides · Concept Explainers by Subject · Essay Help · Mobile App · Facebook ...\n",
            "Link: https://www.bartleby.com/subject/engineering/electrical-engineering/concepts/types-of-winding\n",
            "\n",
            "Title: Schiessle Mechatronik 9783834360182 | PDF\n",
            "Content: Konstruktionskonstante. Spule 1 und Spule 2 bilden zusammen mit den Festwiderständen R, die induktive ... T(Kappe 1) > T(Kappe 2): Kontaktierung Kappe 1 defekt.\n",
            "Link: https://de.scribd.com/document/501290491/Schiessle-Mechatronik-9783834360182\n",
            "\n",
            "Title: Discussion BLDC winding identification & find u v w pin\n",
            "Content: ... attach pictur this is urgent i cant find u v w pin help please. EXCAUSE me for my poor english best regards. Attached: 002.jpg (107.6 KB) 003 ...\n",
            "Link: https://www.rcgroups.com/forums/showthread.php?2475791-BLDC-winding-identification-find-u-v-w-pin\n",
            "\n",
            "Title: Dingler's polytechnisches Journal\n",
            "Content: ... Methode der Kompensierung des Wendefeldes und der ... Stator das Aussehen eines Drehstromgehäuses hat . ( S ... verbinden und den Strom von beiden Wellen ...\n",
            "Link: https://books.google.com/books?id=3bFMAAAAYAAJ&pg=PA355&lpg=PA355&dq=stator+wicklung+%22verbinden%22+methode&source=bl&ots=mYTGlczUqW&sig=ACfU3U1G4l4yPfnrerYn9gpTiVOsJxgjEg&hl=en&sa=X&ved=2ahUKEwjIp5mK0KiFAxXNTjABHf8bDsYQ6AF6BQi4AhAD\n",
            "\n",
            "Title: Skinning of Insulated Copper Wires within the Production ...\n",
            "Content: ... Kontaktierung von Antrieben für die Elektromobilität · Tobias GläßelJ. Franke; 2017. Abstract Getrieben durch die Elektromobilität und neuen Anforderungen ...\n",
            "Link: https://www.semanticscholar.org/paper/Skinning-of-Insulated-Copper-Wires-within-the-Chain-Glaessel-Seefried/185bd39412c479e29f906f244992f29497c938b0\n",
            "\n",
            "Title: Motor book by grundfos by Islam Elfekky\n",
            "Content: ... contact with the winding • Sensors on each phase. T. T. TNAT. The DIN ... Electric components embedded in approved material to prevent contact ...\n",
            "Link: https://issuu.com/islamelfekky/docs/motor_book_by_grundfos\n",
            "\n",
            "Title: All-New Megane E-Tech Electric: Green Electric Motor\n",
            "Content: You can revoke your consent at any time by contacting dataprotectionofficer@autosales.com.mt or by phone on 21433601. We regret that if you choose not to ...\n",
            "Link: https://www.autosales.com.mt/news/?news=All-New-Megane-E-Tech-Electric:-Green-Electric-Motor-50&new\n",
            "\n",
            "Title: Challenges in the manufacturing of hairpin windings and ...\n",
            "Content: ... Kontaktierung von Antrieben für die Elektromobilität · Tobias GläßelJ. Franke; 2017. Abstract Getrieben durch die Elektromobilität und neuen Anforderungen ...\n",
            "Link: https://www.semanticscholar.org/paper/Challenges-in-the-manufacturing-of-hairpin-windings-Glaessel-Seefried/9eaf855b33fba8fb4e1a2c9bcb8775d42ccec4a2\n",
            "\n",
            "\n"
          ]
        }
      ],
      "source": [
        "user_question = \"Find all papers written by T. Gläßel.\"\n",
        "generate_response(user_question)"
      ]
    },
    {
      "cell_type": "markdown",
      "metadata": {},
      "source": [
        "Answer the same question as above without providing LLM with our data."
      ]
    },
    {
      "cell_type": "code",
      "execution_count": 58,
      "metadata": {
        "colab": {
          "base_uri": "https://localhost:8080/"
        },
        "id": "mkqX1XuVZpnS",
        "outputId": "212c88a8-3ec2-4227-9e58-607a2a082460"
      },
      "outputs": [
        {
          "name": "stdout",
          "output_type": "stream",
          "text": [
            "Answer:\n",
            "There is not enough information available to answer this question accurately as it depends on which field or subject the person is researching on or\n",
            "which specific T. Gläßel is being referred to. Without additional information, it is not possible to provide an accurate list of papers written by T.\n",
            "Gläßel.\n"
          ]
        }
      ],
      "source": [
        "user_question = \"Find all papers written by T. Gläßel.\"\n",
        "def splitter(n, s):\n",
        "      pieces = s.split()\n",
        "      return (\" \".join(pieces[i:i+n]) for i in range(0, len(pieces), n))\n",
        "\n",
        "# Call LLM model to generate response\n",
        "response_llm = llm(user_question)\n",
        "print(\"Answer:\")\n",
        "\n",
        "for piece in splitter(25, response_llm):\n",
        "  print(piece)"
      ]
    },
    {
      "cell_type": "code",
      "execution_count": null,
      "metadata": {},
      "outputs": [],
      "source": []
    }
  ],
  "metadata": {
    "colab": {
      "provenance": []
    },
    "kernelspec": {
      "display_name": "Python 3",
      "name": "python3"
    },
    "language_info": {
      "codemirror_mode": {
        "name": "ipython",
        "version": 3
      },
      "file_extension": ".py",
      "mimetype": "text/x-python",
      "name": "python",
      "nbconvert_exporter": "python",
      "pygments_lexer": "ipython3",
      "version": "3.9.13"
    },
    "vscode": {
      "interpreter": {
        "hash": "7ae8ccc60d6b28be4384725bd1833d9e4ba372bda8e6eb7fd8240de8f604d32a"
      }
    }
  },
  "nbformat": 4,
  "nbformat_minor": 0
}
