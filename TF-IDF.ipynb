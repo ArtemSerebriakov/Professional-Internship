{
 "cells": [
  {
   "cell_type": "markdown",
   "id": "e35dadb6",
   "metadata": {},
   "source": [
    "# TF-IDF Project"
   ]
  },
  {
   "cell_type": "markdown",
   "id": "4a19dda1",
   "metadata": {},
   "source": [
    "Task: find the top 100 most relevant articles concerning the query “quantum computing software from IBM”."
   ]
  },
  {
   "cell_type": "markdown",
   "id": "97a9b950",
   "metadata": {},
   "source": [
    "Work plan:\n",
    "1. Study the general information from the dataframe.\n",
    "2. Perform lemmatization of the text.\n",
    "3. Create a TF-IDF matrix.\n",
    "4. Use cosine similarity for measuring similarity between the query and articles.\n",
    "5. Get top 100 most similar articles to the query."
   ]
  },
  {
   "cell_type": "markdown",
   "id": "155d11e7",
   "metadata": {},
   "source": [
    "<a id=\"0\"></a> <br>\n",
    "# Table of Contents  \n",
    "1. [Data preprocessing](#1)     \n",
    "2. [Finding top 100 most relevant articles](#2)\n",
    "3. [Conclusion](#3)"
   ]
  },
  {
   "cell_type": "markdown",
   "id": "a7de802e",
   "metadata": {},
   "source": [
    "<a id=\"1\"></a>\n",
    "## Data preprocessing\n",
    "[Back to the top](#0)"
   ]
  },
  {
   "cell_type": "code",
   "execution_count": 148,
   "id": "f5815dad",
   "metadata": {},
   "outputs": [
    {
     "data": {
      "application/javascript": [
       "\n",
       "            setTimeout(function() {\n",
       "                var nbb_cell_id = 148;\n",
       "                var nbb_unformatted_code = \"# pip install nb_black\";\n",
       "                var nbb_formatted_code = \"# pip install nb_black\";\n",
       "                var nbb_cells = Jupyter.notebook.get_cells();\n",
       "                for (var i = 0; i < nbb_cells.length; ++i) {\n",
       "                    if (nbb_cells[i].input_prompt_number == nbb_cell_id) {\n",
       "                        if (nbb_cells[i].get_text() == nbb_unformatted_code) {\n",
       "                             nbb_cells[i].set_text(nbb_formatted_code);\n",
       "                        }\n",
       "                        break;\n",
       "                    }\n",
       "                }\n",
       "            }, 500);\n",
       "            "
      ],
      "text/plain": [
       "<IPython.core.display.Javascript object>"
      ]
     },
     "metadata": {},
     "output_type": "display_data"
    }
   ],
   "source": [
    "# pip install nb_black"
   ]
  },
  {
   "cell_type": "code",
   "execution_count": 185,
   "id": "2ca3ef61",
   "metadata": {},
   "outputs": [
    {
     "data": {
      "application/javascript": [
       "\n",
       "            setTimeout(function() {\n",
       "                var nbb_cell_id = 185;\n",
       "                var nbb_unformatted_code = \"#%load_ext nb_black\";\n",
       "                var nbb_formatted_code = \"#%load_ext nb_black\";\n",
       "                var nbb_cells = Jupyter.notebook.get_cells();\n",
       "                for (var i = 0; i < nbb_cells.length; ++i) {\n",
       "                    if (nbb_cells[i].input_prompt_number == nbb_cell_id) {\n",
       "                        if (nbb_cells[i].get_text() == nbb_unformatted_code) {\n",
       "                             nbb_cells[i].set_text(nbb_formatted_code);\n",
       "                        }\n",
       "                        break;\n",
       "                    }\n",
       "                }\n",
       "            }, 500);\n",
       "            "
      ],
      "text/plain": [
       "<IPython.core.display.Javascript object>"
      ]
     },
     "metadata": {},
     "output_type": "display_data"
    }
   ],
   "source": [
    "#%load_ext nb_black"
   ]
  },
  {
   "cell_type": "code",
   "execution_count": 150,
   "id": "8400ab6f",
   "metadata": {},
   "outputs": [
    {
     "data": {
      "application/javascript": [
       "\n",
       "            setTimeout(function() {\n",
       "                var nbb_cell_id = 150;\n",
       "                var nbb_unformatted_code = \"import pandas as pd\\nimport spacy\\nimport sklearn\\nfrom collections import Counter\\nimport numpy as np\\nimport matplotlib.pyplot as plt\\nfrom sklearn.feature_extraction.text import TfidfVectorizer\\nfrom sklearn.metrics.pairwise import cosine_similarity\";\n",
       "                var nbb_formatted_code = \"import pandas as pd\\nimport spacy\\nimport sklearn\\nfrom collections import Counter\\nimport numpy as np\\nimport matplotlib.pyplot as plt\\nfrom sklearn.feature_extraction.text import TfidfVectorizer\\nfrom sklearn.metrics.pairwise import cosine_similarity\";\n",
       "                var nbb_cells = Jupyter.notebook.get_cells();\n",
       "                for (var i = 0; i < nbb_cells.length; ++i) {\n",
       "                    if (nbb_cells[i].input_prompt_number == nbb_cell_id) {\n",
       "                        if (nbb_cells[i].get_text() == nbb_unformatted_code) {\n",
       "                             nbb_cells[i].set_text(nbb_formatted_code);\n",
       "                        }\n",
       "                        break;\n",
       "                    }\n",
       "                }\n",
       "            }, 500);\n",
       "            "
      ],
      "text/plain": [
       "<IPython.core.display.Javascript object>"
      ]
     },
     "metadata": {},
     "output_type": "display_data"
    }
   ],
   "source": [
    "import pandas as pd\n",
    "import numpy as np\n",
    "import matplotlib.pyplot as plt\n",
    "\n",
    "import spacy\n",
    "import sklearn\n",
    "\n",
    "from collections import Counter\n",
    "from sklearn.feature_extraction.text import TfidfVectorizer\n",
    "from sklearn.metrics.pairwise import cosine_similarity"
   ]
  },
  {
   "cell_type": "markdown",
   "id": "b995620d",
   "metadata": {},
   "source": [
    "Load the data."
   ]
  },
  {
   "cell_type": "code",
   "execution_count": 151,
   "id": "87c89b86",
   "metadata": {},
   "outputs": [
    {
     "data": {
      "application/javascript": [
       "\n",
       "            setTimeout(function() {\n",
       "                var nbb_cell_id = 151;\n",
       "                var nbb_unformatted_code = \"df = pd.read_json(\\\"ArticleDataset.json\\\")\";\n",
       "                var nbb_formatted_code = \"df = pd.read_json(\\\"ArticleDataset.json\\\")\";\n",
       "                var nbb_cells = Jupyter.notebook.get_cells();\n",
       "                for (var i = 0; i < nbb_cells.length; ++i) {\n",
       "                    if (nbb_cells[i].input_prompt_number == nbb_cell_id) {\n",
       "                        if (nbb_cells[i].get_text() == nbb_unformatted_code) {\n",
       "                             nbb_cells[i].set_text(nbb_formatted_code);\n",
       "                        }\n",
       "                        break;\n",
       "                    }\n",
       "                }\n",
       "            }, 500);\n",
       "            "
      ],
      "text/plain": [
       "<IPython.core.display.Javascript object>"
      ]
     },
     "metadata": {},
     "output_type": "display_data"
    }
   ],
   "source": [
    "df = pd.read_json(\"ArticleDataset.json\")"
   ]
  },
  {
   "cell_type": "code",
   "execution_count": 152,
   "id": "10a38779",
   "metadata": {},
   "outputs": [
    {
     "name": "stdout",
     "output_type": "stream",
     "text": [
      "<class 'pandas.core.frame.DataFrame'>\n",
      "Int64Index: 8436 entries, 0 to 8435\n",
      "Data columns (total 5 columns):\n",
      " #   Column   Non-Null Count  Dtype         \n",
      "---  ------   --------------  -----         \n",
      " 0   date     8436 non-null   datetime64[ns]\n",
      " 1   title    8436 non-null   object        \n",
      " 2   text     8436 non-null   object        \n",
      " 3   url      8436 non-null   object        \n",
      " 4   unknown  8436 non-null   object        \n",
      "dtypes: datetime64[ns](1), object(4)\n",
      "memory usage: 395.4+ KB\n"
     ]
    },
    {
     "data": {
      "application/javascript": [
       "\n",
       "            setTimeout(function() {\n",
       "                var nbb_cell_id = 152;\n",
       "                var nbb_unformatted_code = \"df.info()\";\n",
       "                var nbb_formatted_code = \"df.info()\";\n",
       "                var nbb_cells = Jupyter.notebook.get_cells();\n",
       "                for (var i = 0; i < nbb_cells.length; ++i) {\n",
       "                    if (nbb_cells[i].input_prompt_number == nbb_cell_id) {\n",
       "                        if (nbb_cells[i].get_text() == nbb_unformatted_code) {\n",
       "                             nbb_cells[i].set_text(nbb_formatted_code);\n",
       "                        }\n",
       "                        break;\n",
       "                    }\n",
       "                }\n",
       "            }, 500);\n",
       "            "
      ],
      "text/plain": [
       "<IPython.core.display.Javascript object>"
      ]
     },
     "metadata": {},
     "output_type": "display_data"
    }
   ],
   "source": [
    "df.info()"
   ]
  },
  {
   "cell_type": "code",
   "execution_count": 153,
   "id": "3150d936",
   "metadata": {},
   "outputs": [
    {
     "data": {
      "text/html": [
       "<div>\n",
       "<style scoped>\n",
       "    .dataframe tbody tr th:only-of-type {\n",
       "        vertical-align: middle;\n",
       "    }\n",
       "\n",
       "    .dataframe tbody tr th {\n",
       "        vertical-align: top;\n",
       "    }\n",
       "\n",
       "    .dataframe thead th {\n",
       "        text-align: right;\n",
       "    }\n",
       "</style>\n",
       "<table border=\"1\" class=\"dataframe\">\n",
       "  <thead>\n",
       "    <tr style=\"text-align: right;\">\n",
       "      <th></th>\n",
       "      <th>date</th>\n",
       "      <th>title</th>\n",
       "      <th>text</th>\n",
       "      <th>url</th>\n",
       "      <th>unknown</th>\n",
       "    </tr>\n",
       "  </thead>\n",
       "  <tbody>\n",
       "    <tr>\n",
       "      <th>0</th>\n",
       "      <td>2020-01-22</td>\n",
       "      <td>TE Connectivity introduces M12 industrial Ethe...</td>\n",
       "      <td>TE Connectivity (TE) now offers M12 data cable...</td>\n",
       "      <td>https://www.automationmag.com/te-connectivity-...</td>\n",
       "      <td>empty</td>\n",
       "    </tr>\n",
       "    <tr>\n",
       "      <th>1</th>\n",
       "      <td>2020-01-22</td>\n",
       "      <td>Kirigami designs hold thousands of times their...</td>\n",
       "      <td>The Japanese art of origami (from ori, folding...</td>\n",
       "      <td>https://techxplore.com/news/2020-01-kirigami-t...</td>\n",
       "      <td>empty</td>\n",
       "    </tr>\n",
       "    <tr>\n",
       "      <th>2</th>\n",
       "      <td>2020-01-22</td>\n",
       "      <td>GM's Cruise heads down new road with new robot...</td>\n",
       "      <td>General Motors' self-driving car company will ...</td>\n",
       "      <td>https://techxplore.com/news/2020-01-gm-cruise-...</td>\n",
       "      <td>empty</td>\n",
       "    </tr>\n",
       "    <tr>\n",
       "      <th>3</th>\n",
       "      <td>2020-01-22</td>\n",
       "      <td>First fully integrated flexible electronics ma...</td>\n",
       "      <td>Human skin is a fascinating multifunctional or...</td>\n",
       "      <td>https://techxplore.com/news/2020-01-fully-flex...</td>\n",
       "      <td>empty</td>\n",
       "    </tr>\n",
       "    <tr>\n",
       "      <th>4</th>\n",
       "      <td>2020-01-22</td>\n",
       "      <td>Study says that we trust our workplace robots</td>\n",
       "      <td>The only constant is change. Presumptions hard...</td>\n",
       "      <td>https://techxplore.com/news/2020-01-workplace-...</td>\n",
       "      <td>empty</td>\n",
       "    </tr>\n",
       "    <tr>\n",
       "      <th>5</th>\n",
       "      <td>2020-01-22</td>\n",
       "      <td>Digital Transformation in Manufacturing</td>\n",
       "      <td>January 21, 2020\\nManufacturers are in a diffi...</td>\n",
       "      <td>https://industrytoday.com/digital-transformati...</td>\n",
       "      <td>empty</td>\n",
       "    </tr>\n",
       "    <tr>\n",
       "      <th>6</th>\n",
       "      <td>2020-01-22</td>\n",
       "      <td>U.S. Manufacturing’s Not Only Decoupling from ...</td>\n",
       "      <td>January 21, 2020\\nThe Commerce Department’s GD...</td>\n",
       "      <td>https://industrytoday.com/u-s-manufacturings-n...</td>\n",
       "      <td>empty</td>\n",
       "    </tr>\n",
       "    <tr>\n",
       "      <th>7</th>\n",
       "      <td>2020-01-22</td>\n",
       "      <td>Importance of Transitional Planning</td>\n",
       "      <td>National Center for the Middle Market (NCMM)\\n...</td>\n",
       "      <td>https://industrytoday.com/importance-of-transi...</td>\n",
       "      <td>empty</td>\n",
       "    </tr>\n",
       "    <tr>\n",
       "      <th>8</th>\n",
       "      <td>2020-01-22</td>\n",
       "      <td>Lighthouses Revitalize U.S. Manufacturing</td>\n",
       "      <td>World Economic Forum’s Global Lighthouse Netwo...</td>\n",
       "      <td>https://industrytoday.com/lighthouses-revitali...</td>\n",
       "      <td>empty</td>\n",
       "    </tr>\n",
       "    <tr>\n",
       "      <th>9</th>\n",
       "      <td>2020-01-22</td>\n",
       "      <td>Nestlé to offer Starbucks experience in the ho...</td>\n",
       "      <td>American coffeehouse chain, Starbucks, and Swi...</td>\n",
       "      <td>https://www.themanufacturer.com/articles/nestl...</td>\n",
       "      <td>empty</td>\n",
       "    </tr>\n",
       "  </tbody>\n",
       "</table>\n",
       "</div>"
      ],
      "text/plain": [
       "        date                                              title  \\\n",
       "0 2020-01-22  TE Connectivity introduces M12 industrial Ethe...   \n",
       "1 2020-01-22  Kirigami designs hold thousands of times their...   \n",
       "2 2020-01-22  GM's Cruise heads down new road with new robot...   \n",
       "3 2020-01-22  First fully integrated flexible electronics ma...   \n",
       "4 2020-01-22      Study says that we trust our workplace robots   \n",
       "5 2020-01-22            Digital Transformation in Manufacturing   \n",
       "6 2020-01-22  U.S. Manufacturing’s Not Only Decoupling from ...   \n",
       "7 2020-01-22                Importance of Transitional Planning   \n",
       "8 2020-01-22          Lighthouses Revitalize U.S. Manufacturing   \n",
       "9 2020-01-22  Nestlé to offer Starbucks experience in the ho...   \n",
       "\n",
       "                                                text  \\\n",
       "0  TE Connectivity (TE) now offers M12 data cable...   \n",
       "1  The Japanese art of origami (from ori, folding...   \n",
       "2  General Motors' self-driving car company will ...   \n",
       "3  Human skin is a fascinating multifunctional or...   \n",
       "4  The only constant is change. Presumptions hard...   \n",
       "5  January 21, 2020\\nManufacturers are in a diffi...   \n",
       "6  January 21, 2020\\nThe Commerce Department’s GD...   \n",
       "7  National Center for the Middle Market (NCMM)\\n...   \n",
       "8  World Economic Forum’s Global Lighthouse Netwo...   \n",
       "9  American coffeehouse chain, Starbucks, and Swi...   \n",
       "\n",
       "                                                 url unknown  \n",
       "0  https://www.automationmag.com/te-connectivity-...   empty  \n",
       "1  https://techxplore.com/news/2020-01-kirigami-t...   empty  \n",
       "2  https://techxplore.com/news/2020-01-gm-cruise-...   empty  \n",
       "3  https://techxplore.com/news/2020-01-fully-flex...   empty  \n",
       "4  https://techxplore.com/news/2020-01-workplace-...   empty  \n",
       "5  https://industrytoday.com/digital-transformati...   empty  \n",
       "6  https://industrytoday.com/u-s-manufacturings-n...   empty  \n",
       "7  https://industrytoday.com/importance-of-transi...   empty  \n",
       "8  https://industrytoday.com/lighthouses-revitali...   empty  \n",
       "9  https://www.themanufacturer.com/articles/nestl...   empty  "
      ]
     },
     "execution_count": 153,
     "metadata": {},
     "output_type": "execute_result"
    },
    {
     "data": {
      "application/javascript": [
       "\n",
       "            setTimeout(function() {\n",
       "                var nbb_cell_id = 153;\n",
       "                var nbb_unformatted_code = \"df.head(10)\";\n",
       "                var nbb_formatted_code = \"df.head(10)\";\n",
       "                var nbb_cells = Jupyter.notebook.get_cells();\n",
       "                for (var i = 0; i < nbb_cells.length; ++i) {\n",
       "                    if (nbb_cells[i].input_prompt_number == nbb_cell_id) {\n",
       "                        if (nbb_cells[i].get_text() == nbb_unformatted_code) {\n",
       "                             nbb_cells[i].set_text(nbb_formatted_code);\n",
       "                        }\n",
       "                        break;\n",
       "                    }\n",
       "                }\n",
       "            }, 500);\n",
       "            "
      ],
      "text/plain": [
       "<IPython.core.display.Javascript object>"
      ]
     },
     "metadata": {},
     "output_type": "display_data"
    }
   ],
   "source": [
    "df.head(10)"
   ]
  },
  {
   "cell_type": "code",
   "execution_count": 154,
   "id": "ced628ed",
   "metadata": {},
   "outputs": [
    {
     "data": {
      "text/plain": [
       "0       TE Connectivity (TE) now offers M12 data cable...\n",
       "1       The Japanese art of origami (from ori, folding...\n",
       "2       General Motors' self-driving car company will ...\n",
       "3       Human skin is a fascinating multifunctional or...\n",
       "4       The only constant is change. Presumptions hard...\n",
       "                              ...                        \n",
       "8431    About The Author\\nFrank Tobe\\nFrank Tobe is th...\n",
       "8432    Frank Tobe\\nFrank Tobe is the founder of The R...\n",
       "8433    Frank Tobe\\nFrank Tobe is the founder of The R...\n",
       "8434    Frank Tobe\\nFrank Tobe is the founder of The R...\n",
       "8435    Frank Tobe\\nFrank Tobe is the founder of The R...\n",
       "Name: text, Length: 8436, dtype: object"
      ]
     },
     "execution_count": 154,
     "metadata": {},
     "output_type": "execute_result"
    },
    {
     "data": {
      "application/javascript": [
       "\n",
       "            setTimeout(function() {\n",
       "                var nbb_cell_id = 154;\n",
       "                var nbb_unformatted_code = \"df[\\\"text\\\"]\";\n",
       "                var nbb_formatted_code = \"df[\\\"text\\\"]\";\n",
       "                var nbb_cells = Jupyter.notebook.get_cells();\n",
       "                for (var i = 0; i < nbb_cells.length; ++i) {\n",
       "                    if (nbb_cells[i].input_prompt_number == nbb_cell_id) {\n",
       "                        if (nbb_cells[i].get_text() == nbb_unformatted_code) {\n",
       "                             nbb_cells[i].set_text(nbb_formatted_code);\n",
       "                        }\n",
       "                        break;\n",
       "                    }\n",
       "                }\n",
       "            }, 500);\n",
       "            "
      ],
      "text/plain": [
       "<IPython.core.display.Javascript object>"
      ]
     },
     "metadata": {},
     "output_type": "display_data"
    }
   ],
   "source": [
    "df[\"text\"]"
   ]
  },
  {
   "cell_type": "markdown",
   "id": "4c030b19",
   "metadata": {},
   "source": [
    "We see that there are upper case words in the texts, let's bring them to lower case for better performance of future exploratory data analysis."
   ]
  },
  {
   "cell_type": "code",
   "execution_count": 155,
   "id": "4b8014e6",
   "metadata": {},
   "outputs": [
    {
     "data": {
      "application/javascript": [
       "\n",
       "            setTimeout(function() {\n",
       "                var nbb_cell_id = 155;\n",
       "                var nbb_unformatted_code = \"df[\\\"lemm_text\\\"] = df[\\\"text\\\"].str.lower()\";\n",
       "                var nbb_formatted_code = \"df[\\\"lemm_text\\\"] = df[\\\"text\\\"].str.lower()\";\n",
       "                var nbb_cells = Jupyter.notebook.get_cells();\n",
       "                for (var i = 0; i < nbb_cells.length; ++i) {\n",
       "                    if (nbb_cells[i].input_prompt_number == nbb_cell_id) {\n",
       "                        if (nbb_cells[i].get_text() == nbb_unformatted_code) {\n",
       "                             nbb_cells[i].set_text(nbb_formatted_code);\n",
       "                        }\n",
       "                        break;\n",
       "                    }\n",
       "                }\n",
       "            }, 500);\n",
       "            "
      ],
      "text/plain": [
       "<IPython.core.display.Javascript object>"
      ]
     },
     "metadata": {},
     "output_type": "display_data"
    }
   ],
   "source": [
    "df[\"lemm_text\"] = df[\"text\"].str.lower()"
   ]
  },
  {
   "cell_type": "code",
   "execution_count": 156,
   "id": "f5fc9a56",
   "metadata": {},
   "outputs": [
    {
     "data": {
      "text/html": [
       "<div>\n",
       "<style scoped>\n",
       "    .dataframe tbody tr th:only-of-type {\n",
       "        vertical-align: middle;\n",
       "    }\n",
       "\n",
       "    .dataframe tbody tr th {\n",
       "        vertical-align: top;\n",
       "    }\n",
       "\n",
       "    .dataframe thead th {\n",
       "        text-align: right;\n",
       "    }\n",
       "</style>\n",
       "<table border=\"1\" class=\"dataframe\">\n",
       "  <thead>\n",
       "    <tr style=\"text-align: right;\">\n",
       "      <th></th>\n",
       "      <th>date</th>\n",
       "      <th>title</th>\n",
       "      <th>text</th>\n",
       "      <th>url</th>\n",
       "      <th>unknown</th>\n",
       "      <th>lemm_text</th>\n",
       "    </tr>\n",
       "  </thead>\n",
       "  <tbody>\n",
       "    <tr>\n",
       "      <th>0</th>\n",
       "      <td>2020-01-22</td>\n",
       "      <td>TE Connectivity introduces M12 industrial Ethe...</td>\n",
       "      <td>TE Connectivity (TE) now offers M12 data cable...</td>\n",
       "      <td>https://www.automationmag.com/te-connectivity-...</td>\n",
       "      <td>empty</td>\n",
       "      <td>te connectivity (te) now offers m12 data cable...</td>\n",
       "    </tr>\n",
       "    <tr>\n",
       "      <th>1</th>\n",
       "      <td>2020-01-22</td>\n",
       "      <td>Kirigami designs hold thousands of times their...</td>\n",
       "      <td>The Japanese art of origami (from ori, folding...</td>\n",
       "      <td>https://techxplore.com/news/2020-01-kirigami-t...</td>\n",
       "      <td>empty</td>\n",
       "      <td>the japanese art of origami (from ori, folding...</td>\n",
       "    </tr>\n",
       "    <tr>\n",
       "      <th>2</th>\n",
       "      <td>2020-01-22</td>\n",
       "      <td>GM's Cruise heads down new road with new robot...</td>\n",
       "      <td>General Motors' self-driving car company will ...</td>\n",
       "      <td>https://techxplore.com/news/2020-01-gm-cruise-...</td>\n",
       "      <td>empty</td>\n",
       "      <td>general motors' self-driving car company will ...</td>\n",
       "    </tr>\n",
       "    <tr>\n",
       "      <th>3</th>\n",
       "      <td>2020-01-22</td>\n",
       "      <td>First fully integrated flexible electronics ma...</td>\n",
       "      <td>Human skin is a fascinating multifunctional or...</td>\n",
       "      <td>https://techxplore.com/news/2020-01-fully-flex...</td>\n",
       "      <td>empty</td>\n",
       "      <td>human skin is a fascinating multifunctional or...</td>\n",
       "    </tr>\n",
       "    <tr>\n",
       "      <th>4</th>\n",
       "      <td>2020-01-22</td>\n",
       "      <td>Study says that we trust our workplace robots</td>\n",
       "      <td>The only constant is change. Presumptions hard...</td>\n",
       "      <td>https://techxplore.com/news/2020-01-workplace-...</td>\n",
       "      <td>empty</td>\n",
       "      <td>the only constant is change. presumptions hard...</td>\n",
       "    </tr>\n",
       "    <tr>\n",
       "      <th>5</th>\n",
       "      <td>2020-01-22</td>\n",
       "      <td>Digital Transformation in Manufacturing</td>\n",
       "      <td>January 21, 2020\\nManufacturers are in a diffi...</td>\n",
       "      <td>https://industrytoday.com/digital-transformati...</td>\n",
       "      <td>empty</td>\n",
       "      <td>january 21, 2020\\nmanufacturers are in a diffi...</td>\n",
       "    </tr>\n",
       "    <tr>\n",
       "      <th>6</th>\n",
       "      <td>2020-01-22</td>\n",
       "      <td>U.S. Manufacturing’s Not Only Decoupling from ...</td>\n",
       "      <td>January 21, 2020\\nThe Commerce Department’s GD...</td>\n",
       "      <td>https://industrytoday.com/u-s-manufacturings-n...</td>\n",
       "      <td>empty</td>\n",
       "      <td>january 21, 2020\\nthe commerce department’s gd...</td>\n",
       "    </tr>\n",
       "    <tr>\n",
       "      <th>7</th>\n",
       "      <td>2020-01-22</td>\n",
       "      <td>Importance of Transitional Planning</td>\n",
       "      <td>National Center for the Middle Market (NCMM)\\n...</td>\n",
       "      <td>https://industrytoday.com/importance-of-transi...</td>\n",
       "      <td>empty</td>\n",
       "      <td>national center for the middle market (ncmm)\\n...</td>\n",
       "    </tr>\n",
       "    <tr>\n",
       "      <th>8</th>\n",
       "      <td>2020-01-22</td>\n",
       "      <td>Lighthouses Revitalize U.S. Manufacturing</td>\n",
       "      <td>World Economic Forum’s Global Lighthouse Netwo...</td>\n",
       "      <td>https://industrytoday.com/lighthouses-revitali...</td>\n",
       "      <td>empty</td>\n",
       "      <td>world economic forum’s global lighthouse netwo...</td>\n",
       "    </tr>\n",
       "    <tr>\n",
       "      <th>9</th>\n",
       "      <td>2020-01-22</td>\n",
       "      <td>Nestlé to offer Starbucks experience in the ho...</td>\n",
       "      <td>American coffeehouse chain, Starbucks, and Swi...</td>\n",
       "      <td>https://www.themanufacturer.com/articles/nestl...</td>\n",
       "      <td>empty</td>\n",
       "      <td>american coffeehouse chain, starbucks, and swi...</td>\n",
       "    </tr>\n",
       "  </tbody>\n",
       "</table>\n",
       "</div>"
      ],
      "text/plain": [
       "        date                                              title  \\\n",
       "0 2020-01-22  TE Connectivity introduces M12 industrial Ethe...   \n",
       "1 2020-01-22  Kirigami designs hold thousands of times their...   \n",
       "2 2020-01-22  GM's Cruise heads down new road with new robot...   \n",
       "3 2020-01-22  First fully integrated flexible electronics ma...   \n",
       "4 2020-01-22      Study says that we trust our workplace robots   \n",
       "5 2020-01-22            Digital Transformation in Manufacturing   \n",
       "6 2020-01-22  U.S. Manufacturing’s Not Only Decoupling from ...   \n",
       "7 2020-01-22                Importance of Transitional Planning   \n",
       "8 2020-01-22          Lighthouses Revitalize U.S. Manufacturing   \n",
       "9 2020-01-22  Nestlé to offer Starbucks experience in the ho...   \n",
       "\n",
       "                                                text  \\\n",
       "0  TE Connectivity (TE) now offers M12 data cable...   \n",
       "1  The Japanese art of origami (from ori, folding...   \n",
       "2  General Motors' self-driving car company will ...   \n",
       "3  Human skin is a fascinating multifunctional or...   \n",
       "4  The only constant is change. Presumptions hard...   \n",
       "5  January 21, 2020\\nManufacturers are in a diffi...   \n",
       "6  January 21, 2020\\nThe Commerce Department’s GD...   \n",
       "7  National Center for the Middle Market (NCMM)\\n...   \n",
       "8  World Economic Forum’s Global Lighthouse Netwo...   \n",
       "9  American coffeehouse chain, Starbucks, and Swi...   \n",
       "\n",
       "                                                 url unknown  \\\n",
       "0  https://www.automationmag.com/te-connectivity-...   empty   \n",
       "1  https://techxplore.com/news/2020-01-kirigami-t...   empty   \n",
       "2  https://techxplore.com/news/2020-01-gm-cruise-...   empty   \n",
       "3  https://techxplore.com/news/2020-01-fully-flex...   empty   \n",
       "4  https://techxplore.com/news/2020-01-workplace-...   empty   \n",
       "5  https://industrytoday.com/digital-transformati...   empty   \n",
       "6  https://industrytoday.com/u-s-manufacturings-n...   empty   \n",
       "7  https://industrytoday.com/importance-of-transi...   empty   \n",
       "8  https://industrytoday.com/lighthouses-revitali...   empty   \n",
       "9  https://www.themanufacturer.com/articles/nestl...   empty   \n",
       "\n",
       "                                           lemm_text  \n",
       "0  te connectivity (te) now offers m12 data cable...  \n",
       "1  the japanese art of origami (from ori, folding...  \n",
       "2  general motors' self-driving car company will ...  \n",
       "3  human skin is a fascinating multifunctional or...  \n",
       "4  the only constant is change. presumptions hard...  \n",
       "5  january 21, 2020\\nmanufacturers are in a diffi...  \n",
       "6  january 21, 2020\\nthe commerce department’s gd...  \n",
       "7  national center for the middle market (ncmm)\\n...  \n",
       "8  world economic forum’s global lighthouse netwo...  \n",
       "9  american coffeehouse chain, starbucks, and swi...  "
      ]
     },
     "execution_count": 156,
     "metadata": {},
     "output_type": "execute_result"
    },
    {
     "data": {
      "application/javascript": [
       "\n",
       "            setTimeout(function() {\n",
       "                var nbb_cell_id = 156;\n",
       "                var nbb_unformatted_code = \"df.head(10)\";\n",
       "                var nbb_formatted_code = \"df.head(10)\";\n",
       "                var nbb_cells = Jupyter.notebook.get_cells();\n",
       "                for (var i = 0; i < nbb_cells.length; ++i) {\n",
       "                    if (nbb_cells[i].input_prompt_number == nbb_cell_id) {\n",
       "                        if (nbb_cells[i].get_text() == nbb_unformatted_code) {\n",
       "                             nbb_cells[i].set_text(nbb_formatted_code);\n",
       "                        }\n",
       "                        break;\n",
       "                    }\n",
       "                }\n",
       "            }, 500);\n",
       "            "
      ],
      "text/plain": [
       "<IPython.core.display.Javascript object>"
      ]
     },
     "metadata": {},
     "output_type": "display_data"
    }
   ],
   "source": [
    "df.head(10)"
   ]
  },
  {
   "cell_type": "markdown",
   "id": "1eaf27e0",
   "metadata": {},
   "source": [
    "Get the lemmatized text in a new column `lemm_text`."
   ]
  },
  {
   "cell_type": "code",
   "execution_count": 181,
   "id": "21df9f53",
   "metadata": {},
   "outputs": [
    {
     "data": {
      "application/javascript": [
       "\n",
       "            setTimeout(function() {\n",
       "                var nbb_cell_id = 181;\n",
       "                var nbb_unformatted_code = \"nlp = spacy.load(\\\"en_core_web_sm\\\")\";\n",
       "                var nbb_formatted_code = \"nlp = spacy.load(\\\"en_core_web_sm\\\")\";\n",
       "                var nbb_cells = Jupyter.notebook.get_cells();\n",
       "                for (var i = 0; i < nbb_cells.length; ++i) {\n",
       "                    if (nbb_cells[i].input_prompt_number == nbb_cell_id) {\n",
       "                        if (nbb_cells[i].get_text() == nbb_unformatted_code) {\n",
       "                             nbb_cells[i].set_text(nbb_formatted_code);\n",
       "                        }\n",
       "                        break;\n",
       "                    }\n",
       "                }\n",
       "            }, 500);\n",
       "            "
      ],
      "text/plain": [
       "<IPython.core.display.Javascript object>"
      ]
     },
     "metadata": {},
     "output_type": "display_data"
    }
   ],
   "source": [
    "nlp = spacy.load(\"en_core_web_sm\")"
   ]
  },
  {
   "cell_type": "code",
   "execution_count": 158,
   "id": "48e4ea3e",
   "metadata": {},
   "outputs": [
    {
     "name": "stdout",
     "output_type": "stream",
     "text": [
      "Wall time: 14min 4s\n"
     ]
    },
    {
     "data": {
      "application/javascript": [
       "\n",
       "            setTimeout(function() {\n",
       "                var nbb_cell_id = 158;\n",
       "                var nbb_unformatted_code = \"%%time\\ndf['lemm_text'] = df['lemm_text'].apply(lambda text: \\\" \\\".join(token.lemma_ for token in nlp(text) if not (token.is_stop \\n                                                                                                     or token.is_punct\\n                                                                                                    or token.like_num)))\";\n",
       "                var nbb_formatted_code = \"%%time\\ndf['lemm_text'] = df['lemm_text'].apply(lambda text: \\\" \\\".join(token.lemma_ for token in nlp(text) if not (token.is_stop \\n                                                                                                     or token.is_punct\\n                                                                                                    or token.like_num)))\";\n",
       "                var nbb_cells = Jupyter.notebook.get_cells();\n",
       "                for (var i = 0; i < nbb_cells.length; ++i) {\n",
       "                    if (nbb_cells[i].input_prompt_number == nbb_cell_id) {\n",
       "                        if (nbb_cells[i].get_text() == nbb_unformatted_code) {\n",
       "                             nbb_cells[i].set_text(nbb_formatted_code);\n",
       "                        }\n",
       "                        break;\n",
       "                    }\n",
       "                }\n",
       "            }, 500);\n",
       "            "
      ],
      "text/plain": [
       "<IPython.core.display.Javascript object>"
      ]
     },
     "metadata": {},
     "output_type": "display_data"
    }
   ],
   "source": [
    "%%time\n",
    "df['lemm_text'] = df['lemm_text'].apply(lambda text: \" \".join(token.lemma_ for token in nlp(text) if not (token.is_stop \n",
    "                                                                                                     or token.is_punct\n",
    "                                                                                                    or token.like_num)))"
   ]
  },
  {
   "cell_type": "code",
   "execution_count": 159,
   "id": "de5316e0",
   "metadata": {},
   "outputs": [
    {
     "data": {
      "text/html": [
       "<div>\n",
       "<style scoped>\n",
       "    .dataframe tbody tr th:only-of-type {\n",
       "        vertical-align: middle;\n",
       "    }\n",
       "\n",
       "    .dataframe tbody tr th {\n",
       "        vertical-align: top;\n",
       "    }\n",
       "\n",
       "    .dataframe thead th {\n",
       "        text-align: right;\n",
       "    }\n",
       "</style>\n",
       "<table border=\"1\" class=\"dataframe\">\n",
       "  <thead>\n",
       "    <tr style=\"text-align: right;\">\n",
       "      <th></th>\n",
       "      <th>date</th>\n",
       "      <th>title</th>\n",
       "      <th>text</th>\n",
       "      <th>url</th>\n",
       "      <th>unknown</th>\n",
       "      <th>lemm_text</th>\n",
       "    </tr>\n",
       "  </thead>\n",
       "  <tbody>\n",
       "    <tr>\n",
       "      <th>0</th>\n",
       "      <td>2020-01-22</td>\n",
       "      <td>TE Connectivity introduces M12 industrial Ethe...</td>\n",
       "      <td>TE Connectivity (TE) now offers M12 data cable...</td>\n",
       "      <td>https://www.automationmag.com/te-connectivity-...</td>\n",
       "      <td>empty</td>\n",
       "      <td>te connectivity te offer m12 datum cable assem...</td>\n",
       "    </tr>\n",
       "    <tr>\n",
       "      <th>1</th>\n",
       "      <td>2020-01-22</td>\n",
       "      <td>Kirigami designs hold thousands of times their...</td>\n",
       "      <td>The Japanese art of origami (from ori, folding...</td>\n",
       "      <td>https://techxplore.com/news/2020-01-kirigami-t...</td>\n",
       "      <td>empty</td>\n",
       "      <td>japanese art origami ori folding kami paper tr...</td>\n",
       "    </tr>\n",
       "    <tr>\n",
       "      <th>2</th>\n",
       "      <td>2020-01-22</td>\n",
       "      <td>GM's Cruise heads down new road with new robot...</td>\n",
       "      <td>General Motors' self-driving car company will ...</td>\n",
       "      <td>https://techxplore.com/news/2020-01-gm-cruise-...</td>\n",
       "      <td>empty</td>\n",
       "      <td>general motors self drive car company attempt ...</td>\n",
       "    </tr>\n",
       "    <tr>\n",
       "      <th>3</th>\n",
       "      <td>2020-01-22</td>\n",
       "      <td>First fully integrated flexible electronics ma...</td>\n",
       "      <td>Human skin is a fascinating multifunctional or...</td>\n",
       "      <td>https://techxplore.com/news/2020-01-fully-flex...</td>\n",
       "      <td>empty</td>\n",
       "      <td>human skin fascinating multifunctional organ u...</td>\n",
       "    </tr>\n",
       "    <tr>\n",
       "      <th>4</th>\n",
       "      <td>2020-01-22</td>\n",
       "      <td>Study says that we trust our workplace robots</td>\n",
       "      <td>The only constant is change. Presumptions hard...</td>\n",
       "      <td>https://techxplore.com/news/2020-01-workplace-...</td>\n",
       "      <td>empty</td>\n",
       "      <td>constant change presumption harden truth occas...</td>\n",
       "    </tr>\n",
       "  </tbody>\n",
       "</table>\n",
       "</div>"
      ],
      "text/plain": [
       "        date                                              title  \\\n",
       "0 2020-01-22  TE Connectivity introduces M12 industrial Ethe...   \n",
       "1 2020-01-22  Kirigami designs hold thousands of times their...   \n",
       "2 2020-01-22  GM's Cruise heads down new road with new robot...   \n",
       "3 2020-01-22  First fully integrated flexible electronics ma...   \n",
       "4 2020-01-22      Study says that we trust our workplace robots   \n",
       "\n",
       "                                                text  \\\n",
       "0  TE Connectivity (TE) now offers M12 data cable...   \n",
       "1  The Japanese art of origami (from ori, folding...   \n",
       "2  General Motors' self-driving car company will ...   \n",
       "3  Human skin is a fascinating multifunctional or...   \n",
       "4  The only constant is change. Presumptions hard...   \n",
       "\n",
       "                                                 url unknown  \\\n",
       "0  https://www.automationmag.com/te-connectivity-...   empty   \n",
       "1  https://techxplore.com/news/2020-01-kirigami-t...   empty   \n",
       "2  https://techxplore.com/news/2020-01-gm-cruise-...   empty   \n",
       "3  https://techxplore.com/news/2020-01-fully-flex...   empty   \n",
       "4  https://techxplore.com/news/2020-01-workplace-...   empty   \n",
       "\n",
       "                                           lemm_text  \n",
       "0  te connectivity te offer m12 datum cable assem...  \n",
       "1  japanese art origami ori folding kami paper tr...  \n",
       "2  general motors self drive car company attempt ...  \n",
       "3  human skin fascinating multifunctional organ u...  \n",
       "4  constant change presumption harden truth occas...  "
      ]
     },
     "execution_count": 159,
     "metadata": {},
     "output_type": "execute_result"
    },
    {
     "data": {
      "application/javascript": [
       "\n",
       "            setTimeout(function() {\n",
       "                var nbb_cell_id = 159;\n",
       "                var nbb_unformatted_code = \"df.head()\";\n",
       "                var nbb_formatted_code = \"df.head()\";\n",
       "                var nbb_cells = Jupyter.notebook.get_cells();\n",
       "                for (var i = 0; i < nbb_cells.length; ++i) {\n",
       "                    if (nbb_cells[i].input_prompt_number == nbb_cell_id) {\n",
       "                        if (nbb_cells[i].get_text() == nbb_unformatted_code) {\n",
       "                             nbb_cells[i].set_text(nbb_formatted_code);\n",
       "                        }\n",
       "                        break;\n",
       "                    }\n",
       "                }\n",
       "            }, 500);\n",
       "            "
      ],
      "text/plain": [
       "<IPython.core.display.Javascript object>"
      ]
     },
     "metadata": {},
     "output_type": "display_data"
    }
   ],
   "source": [
    "df.head()"
   ]
  },
  {
   "cell_type": "markdown",
   "id": "f18613e3",
   "metadata": {},
   "source": [
    "Save processed dataframe."
   ]
  },
  {
   "cell_type": "code",
   "execution_count": 160,
   "id": "14387789",
   "metadata": {},
   "outputs": [
    {
     "data": {
      "application/javascript": [
       "\n",
       "            setTimeout(function() {\n",
       "                var nbb_cell_id = 160;\n",
       "                var nbb_unformatted_code = \"df.to_json(\\\"df_processed.json\\\")\";\n",
       "                var nbb_formatted_code = \"df.to_json(\\\"df_processed.json\\\")\";\n",
       "                var nbb_cells = Jupyter.notebook.get_cells();\n",
       "                for (var i = 0; i < nbb_cells.length; ++i) {\n",
       "                    if (nbb_cells[i].input_prompt_number == nbb_cell_id) {\n",
       "                        if (nbb_cells[i].get_text() == nbb_unformatted_code) {\n",
       "                             nbb_cells[i].set_text(nbb_formatted_code);\n",
       "                        }\n",
       "                        break;\n",
       "                    }\n",
       "                }\n",
       "            }, 500);\n",
       "            "
      ],
      "text/plain": [
       "<IPython.core.display.Javascript object>"
      ]
     },
     "metadata": {},
     "output_type": "display_data"
    }
   ],
   "source": [
    "df.to_json(\"df_processed.json\")"
   ]
  },
  {
   "cell_type": "code",
   "execution_count": 161,
   "id": "36d29598",
   "metadata": {},
   "outputs": [
    {
     "data": {
      "text/html": [
       "<div>\n",
       "<style scoped>\n",
       "    .dataframe tbody tr th:only-of-type {\n",
       "        vertical-align: middle;\n",
       "    }\n",
       "\n",
       "    .dataframe tbody tr th {\n",
       "        vertical-align: top;\n",
       "    }\n",
       "\n",
       "    .dataframe thead th {\n",
       "        text-align: right;\n",
       "    }\n",
       "</style>\n",
       "<table border=\"1\" class=\"dataframe\">\n",
       "  <thead>\n",
       "    <tr style=\"text-align: right;\">\n",
       "      <th></th>\n",
       "      <th>date</th>\n",
       "      <th>title</th>\n",
       "      <th>text</th>\n",
       "      <th>url</th>\n",
       "      <th>unknown</th>\n",
       "      <th>lemm_text</th>\n",
       "    </tr>\n",
       "  </thead>\n",
       "  <tbody>\n",
       "    <tr>\n",
       "      <th>0</th>\n",
       "      <td>2020-01-22</td>\n",
       "      <td>TE Connectivity introduces M12 industrial Ethe...</td>\n",
       "      <td>TE Connectivity (TE) now offers M12 data cable...</td>\n",
       "      <td>https://www.automationmag.com/te-connectivity-...</td>\n",
       "      <td>empty</td>\n",
       "      <td>te connectivity te offer m12 datum cable assem...</td>\n",
       "    </tr>\n",
       "    <tr>\n",
       "      <th>1</th>\n",
       "      <td>2020-01-22</td>\n",
       "      <td>Kirigami designs hold thousands of times their...</td>\n",
       "      <td>The Japanese art of origami (from ori, folding...</td>\n",
       "      <td>https://techxplore.com/news/2020-01-kirigami-t...</td>\n",
       "      <td>empty</td>\n",
       "      <td>japanese art origami ori folding kami paper tr...</td>\n",
       "    </tr>\n",
       "    <tr>\n",
       "      <th>2</th>\n",
       "      <td>2020-01-22</td>\n",
       "      <td>GM's Cruise heads down new road with new robot...</td>\n",
       "      <td>General Motors' self-driving car company will ...</td>\n",
       "      <td>https://techxplore.com/news/2020-01-gm-cruise-...</td>\n",
       "      <td>empty</td>\n",
       "      <td>general motors self drive car company attempt ...</td>\n",
       "    </tr>\n",
       "    <tr>\n",
       "      <th>3</th>\n",
       "      <td>2020-01-22</td>\n",
       "      <td>First fully integrated flexible electronics ma...</td>\n",
       "      <td>Human skin is a fascinating multifunctional or...</td>\n",
       "      <td>https://techxplore.com/news/2020-01-fully-flex...</td>\n",
       "      <td>empty</td>\n",
       "      <td>human skin fascinating multifunctional organ u...</td>\n",
       "    </tr>\n",
       "    <tr>\n",
       "      <th>4</th>\n",
       "      <td>2020-01-22</td>\n",
       "      <td>Study says that we trust our workplace robots</td>\n",
       "      <td>The only constant is change. Presumptions hard...</td>\n",
       "      <td>https://techxplore.com/news/2020-01-workplace-...</td>\n",
       "      <td>empty</td>\n",
       "      <td>constant change presumption harden truth occas...</td>\n",
       "    </tr>\n",
       "  </tbody>\n",
       "</table>\n",
       "</div>"
      ],
      "text/plain": [
       "        date                                              title  \\\n",
       "0 2020-01-22  TE Connectivity introduces M12 industrial Ethe...   \n",
       "1 2020-01-22  Kirigami designs hold thousands of times their...   \n",
       "2 2020-01-22  GM's Cruise heads down new road with new robot...   \n",
       "3 2020-01-22  First fully integrated flexible electronics ma...   \n",
       "4 2020-01-22      Study says that we trust our workplace robots   \n",
       "\n",
       "                                                text  \\\n",
       "0  TE Connectivity (TE) now offers M12 data cable...   \n",
       "1  The Japanese art of origami (from ori, folding...   \n",
       "2  General Motors' self-driving car company will ...   \n",
       "3  Human skin is a fascinating multifunctional or...   \n",
       "4  The only constant is change. Presumptions hard...   \n",
       "\n",
       "                                                 url unknown  \\\n",
       "0  https://www.automationmag.com/te-connectivity-...   empty   \n",
       "1  https://techxplore.com/news/2020-01-kirigami-t...   empty   \n",
       "2  https://techxplore.com/news/2020-01-gm-cruise-...   empty   \n",
       "3  https://techxplore.com/news/2020-01-fully-flex...   empty   \n",
       "4  https://techxplore.com/news/2020-01-workplace-...   empty   \n",
       "\n",
       "                                           lemm_text  \n",
       "0  te connectivity te offer m12 datum cable assem...  \n",
       "1  japanese art origami ori folding kami paper tr...  \n",
       "2  general motors self drive car company attempt ...  \n",
       "3  human skin fascinating multifunctional organ u...  \n",
       "4  constant change presumption harden truth occas...  "
      ]
     },
     "execution_count": 161,
     "metadata": {},
     "output_type": "execute_result"
    },
    {
     "data": {
      "application/javascript": [
       "\n",
       "            setTimeout(function() {\n",
       "                var nbb_cell_id = 161;\n",
       "                var nbb_unformatted_code = \"df = pd.read_json(\\\"df_processed.json\\\")\\ndf.head()\";\n",
       "                var nbb_formatted_code = \"df = pd.read_json(\\\"df_processed.json\\\")\\ndf.head()\";\n",
       "                var nbb_cells = Jupyter.notebook.get_cells();\n",
       "                for (var i = 0; i < nbb_cells.length; ++i) {\n",
       "                    if (nbb_cells[i].input_prompt_number == nbb_cell_id) {\n",
       "                        if (nbb_cells[i].get_text() == nbb_unformatted_code) {\n",
       "                             nbb_cells[i].set_text(nbb_formatted_code);\n",
       "                        }\n",
       "                        break;\n",
       "                    }\n",
       "                }\n",
       "            }, 500);\n",
       "            "
      ],
      "text/plain": [
       "<IPython.core.display.Javascript object>"
      ]
     },
     "metadata": {},
     "output_type": "display_data"
    }
   ],
   "source": [
    "df = pd.read_json(\"df_processed.json\")\n",
    "df.head()"
   ]
  },
  {
   "cell_type": "code",
   "execution_count": 162,
   "id": "27998ebb",
   "metadata": {},
   "outputs": [
    {
     "data": {
      "text/html": [
       "<div>\n",
       "<style scoped>\n",
       "    .dataframe tbody tr th:only-of-type {\n",
       "        vertical-align: middle;\n",
       "    }\n",
       "\n",
       "    .dataframe tbody tr th {\n",
       "        vertical-align: top;\n",
       "    }\n",
       "\n",
       "    .dataframe thead th {\n",
       "        text-align: right;\n",
       "    }\n",
       "</style>\n",
       "<table border=\"1\" class=\"dataframe\">\n",
       "  <thead>\n",
       "    <tr style=\"text-align: right;\">\n",
       "      <th></th>\n",
       "      <th>date</th>\n",
       "      <th>title</th>\n",
       "      <th>text</th>\n",
       "      <th>url</th>\n",
       "      <th>unknown</th>\n",
       "      <th>lemm_text</th>\n",
       "    </tr>\n",
       "  </thead>\n",
       "  <tbody>\n",
       "  </tbody>\n",
       "</table>\n",
       "</div>"
      ],
      "text/plain": [
       "Empty DataFrame\n",
       "Columns: [date, title, text, url, unknown, lemm_text]\n",
       "Index: []"
      ]
     },
     "execution_count": 162,
     "metadata": {},
     "output_type": "execute_result"
    },
    {
     "data": {
      "application/javascript": [
       "\n",
       "            setTimeout(function() {\n",
       "                var nbb_cell_id = 162;\n",
       "                var nbb_unformatted_code = \"df[df[\\\"lemm_text\\\"].isna()]\";\n",
       "                var nbb_formatted_code = \"df[df[\\\"lemm_text\\\"].isna()]\";\n",
       "                var nbb_cells = Jupyter.notebook.get_cells();\n",
       "                for (var i = 0; i < nbb_cells.length; ++i) {\n",
       "                    if (nbb_cells[i].input_prompt_number == nbb_cell_id) {\n",
       "                        if (nbb_cells[i].get_text() == nbb_unformatted_code) {\n",
       "                             nbb_cells[i].set_text(nbb_formatted_code);\n",
       "                        }\n",
       "                        break;\n",
       "                    }\n",
       "                }\n",
       "            }, 500);\n",
       "            "
      ],
      "text/plain": [
       "<IPython.core.display.Javascript object>"
      ]
     },
     "metadata": {},
     "output_type": "display_data"
    }
   ],
   "source": [
    "df[df[\"lemm_text\"].isna()]"
   ]
  },
  {
   "cell_type": "markdown",
   "id": "025146a3",
   "metadata": {},
   "source": [
    "We see that there are no rows with empty values in the `lemm_text` column."
   ]
  },
  {
   "cell_type": "code",
   "execution_count": 163,
   "id": "b053178d",
   "metadata": {},
   "outputs": [
    {
     "data": {
      "application/javascript": [
       "\n",
       "            setTimeout(function() {\n",
       "                var nbb_cell_id = 163;\n",
       "                var nbb_unformatted_code = \"df.dropna(inplace=True)\";\n",
       "                var nbb_formatted_code = \"df.dropna(inplace=True)\";\n",
       "                var nbb_cells = Jupyter.notebook.get_cells();\n",
       "                for (var i = 0; i < nbb_cells.length; ++i) {\n",
       "                    if (nbb_cells[i].input_prompt_number == nbb_cell_id) {\n",
       "                        if (nbb_cells[i].get_text() == nbb_unformatted_code) {\n",
       "                             nbb_cells[i].set_text(nbb_formatted_code);\n",
       "                        }\n",
       "                        break;\n",
       "                    }\n",
       "                }\n",
       "            }, 500);\n",
       "            "
      ],
      "text/plain": [
       "<IPython.core.display.Javascript object>"
      ]
     },
     "metadata": {},
     "output_type": "display_data"
    }
   ],
   "source": [
    "df.dropna(inplace=True)"
   ]
  },
  {
   "cell_type": "markdown",
   "id": "e2bc38b6",
   "metadata": {},
   "source": [
    "Find the most frequently occurring words in the texts."
   ]
  },
  {
   "cell_type": "code",
   "execution_count": 164,
   "id": "dbccfc27",
   "metadata": {},
   "outputs": [
    {
     "data": {
      "application/javascript": [
       "\n",
       "            setTimeout(function() {\n",
       "                var nbb_cell_id = 164;\n",
       "                var nbb_unformatted_code = \"common_words = Counter(\\\" \\\".join(df[\\\"lemm_text\\\"]).split()).most_common(10)\";\n",
       "                var nbb_formatted_code = \"common_words = Counter(\\\" \\\".join(df[\\\"lemm_text\\\"]).split()).most_common(10)\";\n",
       "                var nbb_cells = Jupyter.notebook.get_cells();\n",
       "                for (var i = 0; i < nbb_cells.length; ++i) {\n",
       "                    if (nbb_cells[i].input_prompt_number == nbb_cell_id) {\n",
       "                        if (nbb_cells[i].get_text() == nbb_unformatted_code) {\n",
       "                             nbb_cells[i].set_text(nbb_formatted_code);\n",
       "                        }\n",
       "                        break;\n",
       "                    }\n",
       "                }\n",
       "            }, 500);\n",
       "            "
      ],
      "text/plain": [
       "<IPython.core.display.Javascript object>"
      ]
     },
     "metadata": {},
     "output_type": "display_data"
    }
   ],
   "source": [
    "common_words = Counter(\" \".join(df[\"lemm_text\"]).split()).most_common(10)"
   ]
  },
  {
   "cell_type": "code",
   "execution_count": 165,
   "id": "79d3fa1f",
   "metadata": {},
   "outputs": [
    {
     "data": {
      "application/javascript": [
       "\n",
       "            setTimeout(function() {\n",
       "                var nbb_cell_id = 165;\n",
       "                var nbb_unformatted_code = \"def extract(lst, i):\\n    return [item[i] for item in lst]\\n\\n\\nwords_list = extract(common_words, 0)\\ncounts_list = extract(common_words, 1)\";\n",
       "                var nbb_formatted_code = \"def extract(lst, i):\\n    return [item[i] for item in lst]\\n\\n\\nwords_list = extract(common_words, 0)\\ncounts_list = extract(common_words, 1)\";\n",
       "                var nbb_cells = Jupyter.notebook.get_cells();\n",
       "                for (var i = 0; i < nbb_cells.length; ++i) {\n",
       "                    if (nbb_cells[i].input_prompt_number == nbb_cell_id) {\n",
       "                        if (nbb_cells[i].get_text() == nbb_unformatted_code) {\n",
       "                             nbb_cells[i].set_text(nbb_formatted_code);\n",
       "                        }\n",
       "                        break;\n",
       "                    }\n",
       "                }\n",
       "            }, 500);\n",
       "            "
      ],
      "text/plain": [
       "<IPython.core.display.Javascript object>"
      ]
     },
     "metadata": {},
     "output_type": "display_data"
    }
   ],
   "source": [
    "def extract(lst, i):\n",
    "    return [item[i] for item in lst]\n",
    "\n",
    "\n",
    "words_list = extract(common_words, 0)\n",
    "counts_list = extract(common_words, 1)"
   ]
  },
  {
   "cell_type": "code",
   "execution_count": 166,
   "id": "19a6805c",
   "metadata": {},
   "outputs": [
    {
     "data": {
      "image/png": "[encoded data removed]",
      "text/plain": [
       "<Figure size 1080x360 with 1 Axes>"
      ]
     },
     "metadata": {
      "needs_background": "light"
     },
     "output_type": "display_data"
    },
    {
     "data": {
      "application/javascript": [
       "\n",
       "            setTimeout(function() {\n",
       "                var nbb_cell_id = 166;\n",
       "                var nbb_unformatted_code = \"fig = plt.figure(figsize=(15, 5))\\n\\nplt.bar(words_list, counts_list, color=\\\"darkblue\\\", width=0.4)\\n\\nplt.xlabel(\\\"Words\\\")\\nplt.ylabel(\\\"Counts\\\")\\nplt.title(\\\"10 most common words\\\")\\nplt.show()\";\n",
       "                var nbb_formatted_code = \"fig = plt.figure(figsize=(15, 5))\\n\\nplt.bar(words_list, counts_list, color=\\\"darkblue\\\", width=0.4)\\n\\nplt.xlabel(\\\"Words\\\")\\nplt.ylabel(\\\"Counts\\\")\\nplt.title(\\\"10 most common words\\\")\\nplt.show()\";\n",
       "                var nbb_cells = Jupyter.notebook.get_cells();\n",
       "                for (var i = 0; i < nbb_cells.length; ++i) {\n",
       "                    if (nbb_cells[i].input_prompt_number == nbb_cell_id) {\n",
       "                        if (nbb_cells[i].get_text() == nbb_unformatted_code) {\n",
       "                             nbb_cells[i].set_text(nbb_formatted_code);\n",
       "                        }\n",
       "                        break;\n",
       "                    }\n",
       "                }\n",
       "            }, 500);\n",
       "            "
      ],
      "text/plain": [
       "<IPython.core.display.Javascript object>"
      ]
     },
     "metadata": {},
     "output_type": "display_data"
    }
   ],
   "source": [
    "fig = plt.figure(figsize=(15, 5))\n",
    "\n",
    "plt.bar(words_list, counts_list, color=\"darkblue\", width=0.4)\n",
    "\n",
    "plt.xlabel(\"Words\")\n",
    "plt.ylabel(\"Counts\")\n",
    "plt.title(\"10 most common words\")\n",
    "plt.show()"
   ]
  },
  {
   "cell_type": "markdown",
   "id": "e8dfa189",
   "metadata": {},
   "source": [
    "We see that the words related to IT and electronics occur most often. It is also worth noting that there are no punctuation marks, numbers, and articles in the graph, which indicates that the text processing is correct."
   ]
  },
  {
   "cell_type": "markdown",
   "id": "b2f77e79",
   "metadata": {},
   "source": [
    "<a id=\"2\"></a>\n",
    "## Finding top 100 most relevant articles\n",
    "[Back to the top](#0)"
   ]
  },
  {
   "cell_type": "markdown",
   "id": "c25977fc",
   "metadata": {},
   "source": [
    "Let's first add the query text to the dataframe."
   ]
  },
  {
   "cell_type": "code",
   "execution_count": 167,
   "id": "db705eca",
   "metadata": {},
   "outputs": [
    {
     "data": {
      "application/javascript": [
       "\n",
       "            setTimeout(function() {\n",
       "                var nbb_cell_id = 167;\n",
       "                var nbb_unformatted_code = \"df_query = {\\n    \\\"date\\\": 0,\\n    \\\"title\\\": \\\"query\\\",\\n    \\\"text\\\": \\\"quantum computing software from IBM\\\",\\n    \\\"url\\\": \\\"www\\\",\\n    \\\"unknown\\\": \\\"empty\\\",\\n    \\\"lemm_text\\\": \\\"quantum computing software ibm\\\",\\n}\\ndf = df.append(df_query, ignore_index=True)\";\n",
       "                var nbb_formatted_code = \"df_query = {\\n    \\\"date\\\": 0,\\n    \\\"title\\\": \\\"query\\\",\\n    \\\"text\\\": \\\"quantum computing software from IBM\\\",\\n    \\\"url\\\": \\\"www\\\",\\n    \\\"unknown\\\": \\\"empty\\\",\\n    \\\"lemm_text\\\": \\\"quantum computing software ibm\\\",\\n}\\ndf = df.append(df_query, ignore_index=True)\";\n",
       "                var nbb_cells = Jupyter.notebook.get_cells();\n",
       "                for (var i = 0; i < nbb_cells.length; ++i) {\n",
       "                    if (nbb_cells[i].input_prompt_number == nbb_cell_id) {\n",
       "                        if (nbb_cells[i].get_text() == nbb_unformatted_code) {\n",
       "                             nbb_cells[i].set_text(nbb_formatted_code);\n",
       "                        }\n",
       "                        break;\n",
       "                    }\n",
       "                }\n",
       "            }, 500);\n",
       "            "
      ],
      "text/plain": [
       "<IPython.core.display.Javascript object>"
      ]
     },
     "metadata": {},
     "output_type": "display_data"
    }
   ],
   "source": [
    "df_query = {\n",
    "    \"date\": 0,\n",
    "    \"title\": \"query\",\n",
    "    \"text\": \"quantum computing software from IBM\",\n",
    "    \"url\": \"www\",\n",
    "    \"unknown\": \"empty\",\n",
    "    \"lemm_text\": \"quantum computing software ibm\",\n",
    "}\n",
    "df = df.append(df_query, ignore_index=True)"
   ]
  },
  {
   "cell_type": "code",
   "execution_count": 168,
   "id": "ffaa72b5",
   "metadata": {},
   "outputs": [
    {
     "data": {
      "text/html": [
       "<div>\n",
       "<style scoped>\n",
       "    .dataframe tbody tr th:only-of-type {\n",
       "        vertical-align: middle;\n",
       "    }\n",
       "\n",
       "    .dataframe tbody tr th {\n",
       "        vertical-align: top;\n",
       "    }\n",
       "\n",
       "    .dataframe thead th {\n",
       "        text-align: right;\n",
       "    }\n",
       "</style>\n",
       "<table border=\"1\" class=\"dataframe\">\n",
       "  <thead>\n",
       "    <tr style=\"text-align: right;\">\n",
       "      <th></th>\n",
       "      <th>date</th>\n",
       "      <th>title</th>\n",
       "      <th>text</th>\n",
       "      <th>url</th>\n",
       "      <th>unknown</th>\n",
       "      <th>lemm_text</th>\n",
       "    </tr>\n",
       "  </thead>\n",
       "  <tbody>\n",
       "    <tr>\n",
       "      <th>8432</th>\n",
       "      <td>2008-11-01 00:00:00</td>\n",
       "      <td>Popular Products – Rovio by Wowee</td>\n",
       "      <td>Frank Tobe\\nFrank Tobe is the founder of The R...</td>\n",
       "      <td>https://www.therobotreport.com/popular-product...</td>\n",
       "      <td>delete</td>\n",
       "      <td>frank tobe \\n frank tobe founder robot report ...</td>\n",
       "    </tr>\n",
       "    <tr>\n",
       "      <th>8433</th>\n",
       "      <td>2008-11-01 00:00:00</td>\n",
       "      <td>Popular Products – Verro by iRobot</td>\n",
       "      <td>Frank Tobe\\nFrank Tobe is the founder of The R...</td>\n",
       "      <td>https://www.therobotreport.com/popular-product...</td>\n",
       "      <td>delete</td>\n",
       "      <td>frank tobe \\n frank tobe founder robot report ...</td>\n",
       "    </tr>\n",
       "    <tr>\n",
       "      <th>8434</th>\n",
       "      <td>2008-10-31 00:00:00</td>\n",
       "      <td>Watch this multi-purpose snake crawl up a leg</td>\n",
       "      <td>Frank Tobe\\nFrank Tobe is the founder of The R...</td>\n",
       "      <td>https://www.therobotreport.com/watch-this-mult...</td>\n",
       "      <td>delete</td>\n",
       "      <td>frank tobe \\n frank tobe founder robot report ...</td>\n",
       "    </tr>\n",
       "    <tr>\n",
       "      <th>8435</th>\n",
       "      <td>2008-10-22 00:00:00</td>\n",
       "      <td>2008 Engelberger Robotics Awards</td>\n",
       "      <td>Frank Tobe\\nFrank Tobe is the founder of The R...</td>\n",
       "      <td>https://www.therobotreport.com/2008-engelberge...</td>\n",
       "      <td>delete</td>\n",
       "      <td>frank tobe \\n frank tobe founder robot report ...</td>\n",
       "    </tr>\n",
       "    <tr>\n",
       "      <th>8436</th>\n",
       "      <td>0</td>\n",
       "      <td>query</td>\n",
       "      <td>quantum computing software from IBM</td>\n",
       "      <td>www</td>\n",
       "      <td>empty</td>\n",
       "      <td>quantum computing software ibm</td>\n",
       "    </tr>\n",
       "  </tbody>\n",
       "</table>\n",
       "</div>"
      ],
      "text/plain": [
       "                     date                                          title  \\\n",
       "8432  2008-11-01 00:00:00              Popular Products – Rovio by Wowee   \n",
       "8433  2008-11-01 00:00:00             Popular Products – Verro by iRobot   \n",
       "8434  2008-10-31 00:00:00  Watch this multi-purpose snake crawl up a leg   \n",
       "8435  2008-10-22 00:00:00               2008 Engelberger Robotics Awards   \n",
       "8436                    0                                          query   \n",
       "\n",
       "                                                   text  \\\n",
       "8432  Frank Tobe\\nFrank Tobe is the founder of The R...   \n",
       "8433  Frank Tobe\\nFrank Tobe is the founder of The R...   \n",
       "8434  Frank Tobe\\nFrank Tobe is the founder of The R...   \n",
       "8435  Frank Tobe\\nFrank Tobe is the founder of The R...   \n",
       "8436                quantum computing software from IBM   \n",
       "\n",
       "                                                    url unknown  \\\n",
       "8432  https://www.therobotreport.com/popular-product...  delete   \n",
       "8433  https://www.therobotreport.com/popular-product...  delete   \n",
       "8434  https://www.therobotreport.com/watch-this-mult...  delete   \n",
       "8435  https://www.therobotreport.com/2008-engelberge...  delete   \n",
       "8436                                                www   empty   \n",
       "\n",
       "                                              lemm_text  \n",
       "8432  frank tobe \\n frank tobe founder robot report ...  \n",
       "8433  frank tobe \\n frank tobe founder robot report ...  \n",
       "8434  frank tobe \\n frank tobe founder robot report ...  \n",
       "8435  frank tobe \\n frank tobe founder robot report ...  \n",
       "8436                     quantum computing software ibm  "
      ]
     },
     "execution_count": 168,
     "metadata": {},
     "output_type": "execute_result"
    },
    {
     "data": {
      "application/javascript": [
       "\n",
       "            setTimeout(function() {\n",
       "                var nbb_cell_id = 168;\n",
       "                var nbb_unformatted_code = \"df.tail()\";\n",
       "                var nbb_formatted_code = \"df.tail()\";\n",
       "                var nbb_cells = Jupyter.notebook.get_cells();\n",
       "                for (var i = 0; i < nbb_cells.length; ++i) {\n",
       "                    if (nbb_cells[i].input_prompt_number == nbb_cell_id) {\n",
       "                        if (nbb_cells[i].get_text() == nbb_unformatted_code) {\n",
       "                             nbb_cells[i].set_text(nbb_formatted_code);\n",
       "                        }\n",
       "                        break;\n",
       "                    }\n",
       "                }\n",
       "            }, 500);\n",
       "            "
      ],
      "text/plain": [
       "<IPython.core.display.Javascript object>"
      ]
     },
     "metadata": {},
     "output_type": "display_data"
    }
   ],
   "source": [
    "df.tail()"
   ]
  },
  {
   "cell_type": "markdown",
   "id": "ba5c3ed6",
   "metadata": {},
   "source": [
    "Now we can produce the TF-IDF matrix."
   ]
  },
  {
   "cell_type": "code",
   "execution_count": 169,
   "id": "be7ec81b",
   "metadata": {},
   "outputs": [
    {
     "data": {
      "text/plain": [
       "(8437, 60679)"
      ]
     },
     "execution_count": 169,
     "metadata": {},
     "output_type": "execute_result"
    },
    {
     "data": {
      "application/javascript": [
       "\n",
       "            setTimeout(function() {\n",
       "                var nbb_cell_id = 169;\n",
       "                var nbb_unformatted_code = \"tfidf = TfidfVectorizer()\\ndf_tfidf = tfidf.fit_transform(df[\\\"lemm_text\\\"])\\ndf_tfidf.shape\";\n",
       "                var nbb_formatted_code = \"tfidf = TfidfVectorizer()\\ndf_tfidf = tfidf.fit_transform(df[\\\"lemm_text\\\"])\\ndf_tfidf.shape\";\n",
       "                var nbb_cells = Jupyter.notebook.get_cells();\n",
       "                for (var i = 0; i < nbb_cells.length; ++i) {\n",
       "                    if (nbb_cells[i].input_prompt_number == nbb_cell_id) {\n",
       "                        if (nbb_cells[i].get_text() == nbb_unformatted_code) {\n",
       "                             nbb_cells[i].set_text(nbb_formatted_code);\n",
       "                        }\n",
       "                        break;\n",
       "                    }\n",
       "                }\n",
       "            }, 500);\n",
       "            "
      ],
      "text/plain": [
       "<IPython.core.display.Javascript object>"
      ]
     },
     "metadata": {},
     "output_type": "display_data"
    }
   ],
   "source": [
    "tfidf = TfidfVectorizer()\n",
    "df_tfidf = tfidf.fit_transform(df[\"lemm_text\"])\n",
    "df_tfidf.shape"
   ]
  },
  {
   "cell_type": "markdown",
   "id": "ac09cdf1",
   "metadata": {},
   "source": [
    "We use cosine similarity to calculate a numeric quantity that denotes the similarity between the query and texts from the dataframe. "
   ]
  },
  {
   "cell_type": "code",
   "execution_count": 171,
   "id": "675694e3",
   "metadata": {},
   "outputs": [
    {
     "data": {
      "application/javascript": [
       "\n",
       "            setTimeout(function() {\n",
       "                var nbb_cell_id = 171;\n",
       "                var nbb_unformatted_code = \"cosine_sim = cosine_similarity(df_tfidf, df_tfidf)\";\n",
       "                var nbb_formatted_code = \"cosine_sim = cosine_similarity(df_tfidf, df_tfidf)\";\n",
       "                var nbb_cells = Jupyter.notebook.get_cells();\n",
       "                for (var i = 0; i < nbb_cells.length; ++i) {\n",
       "                    if (nbb_cells[i].input_prompt_number == nbb_cell_id) {\n",
       "                        if (nbb_cells[i].get_text() == nbb_unformatted_code) {\n",
       "                             nbb_cells[i].set_text(nbb_formatted_code);\n",
       "                        }\n",
       "                        break;\n",
       "                    }\n",
       "                }\n",
       "            }, 500);\n",
       "            "
      ],
      "text/plain": [
       "<IPython.core.display.Javascript object>"
      ]
     },
     "metadata": {},
     "output_type": "display_data"
    }
   ],
   "source": [
    "cosine_sim = cosine_similarity(df_tfidf, df_tfidf)"
   ]
  },
  {
   "cell_type": "code",
   "execution_count": 172,
   "id": "fdea4eaf",
   "metadata": {},
   "outputs": [
    {
     "data": {
      "text/plain": [
       "(8437, 8437)"
      ]
     },
     "execution_count": 172,
     "metadata": {},
     "output_type": "execute_result"
    },
    {
     "data": {
      "application/javascript": [
       "\n",
       "            setTimeout(function() {\n",
       "                var nbb_cell_id = 172;\n",
       "                var nbb_unformatted_code = \"cosine_sim.shape\";\n",
       "                var nbb_formatted_code = \"cosine_sim.shape\";\n",
       "                var nbb_cells = Jupyter.notebook.get_cells();\n",
       "                for (var i = 0; i < nbb_cells.length; ++i) {\n",
       "                    if (nbb_cells[i].input_prompt_number == nbb_cell_id) {\n",
       "                        if (nbb_cells[i].get_text() == nbb_unformatted_code) {\n",
       "                             nbb_cells[i].set_text(nbb_formatted_code);\n",
       "                        }\n",
       "                        break;\n",
       "                    }\n",
       "                }\n",
       "            }, 500);\n",
       "            "
      ],
      "text/plain": [
       "<IPython.core.display.Javascript object>"
      ]
     },
     "metadata": {},
     "output_type": "display_data"
    }
   ],
   "source": [
    "cosine_sim.shape"
   ]
  },
  {
   "cell_type": "markdown",
   "id": "f11fa430",
   "metadata": {},
   "source": [
    "Now we are ready to find 100 most similar articles to the query."
   ]
  },
  {
   "cell_type": "code",
   "execution_count": 173,
   "id": "4f3c4579",
   "metadata": {},
   "outputs": [
    {
     "data": {
      "application/javascript": [
       "\n",
       "            setTimeout(function() {\n",
       "                var nbb_cell_id = 173;\n",
       "                var nbb_unformatted_code = \"indices = pd.Series(df.index, index=df[\\\"title\\\"])\";\n",
       "                var nbb_formatted_code = \"indices = pd.Series(df.index, index=df[\\\"title\\\"])\";\n",
       "                var nbb_cells = Jupyter.notebook.get_cells();\n",
       "                for (var i = 0; i < nbb_cells.length; ++i) {\n",
       "                    if (nbb_cells[i].input_prompt_number == nbb_cell_id) {\n",
       "                        if (nbb_cells[i].get_text() == nbb_unformatted_code) {\n",
       "                             nbb_cells[i].set_text(nbb_formatted_code);\n",
       "                        }\n",
       "                        break;\n",
       "                    }\n",
       "                }\n",
       "            }, 500);\n",
       "            "
      ],
      "text/plain": [
       "<IPython.core.display.Javascript object>"
      ]
     },
     "metadata": {},
     "output_type": "display_data"
    }
   ],
   "source": [
    "indices = pd.Series(df.index, index=df[\"title\"])"
   ]
  },
  {
   "cell_type": "code",
   "execution_count": 174,
   "id": "e1a757fe",
   "metadata": {},
   "outputs": [
    {
     "data": {
      "text/plain": [
       "(8437,)"
      ]
     },
     "execution_count": 174,
     "metadata": {},
     "output_type": "execute_result"
    },
    {
     "data": {
      "application/javascript": [
       "\n",
       "            setTimeout(function() {\n",
       "                var nbb_cell_id = 174;\n",
       "                var nbb_unformatted_code = \"indices.shape\";\n",
       "                var nbb_formatted_code = \"indices.shape\";\n",
       "                var nbb_cells = Jupyter.notebook.get_cells();\n",
       "                for (var i = 0; i < nbb_cells.length; ++i) {\n",
       "                    if (nbb_cells[i].input_prompt_number == nbb_cell_id) {\n",
       "                        if (nbb_cells[i].get_text() == nbb_unformatted_code) {\n",
       "                             nbb_cells[i].set_text(nbb_formatted_code);\n",
       "                        }\n",
       "                        break;\n",
       "                    }\n",
       "                }\n",
       "            }, 500);\n",
       "            "
      ],
      "text/plain": [
       "<IPython.core.display.Javascript object>"
      ]
     },
     "metadata": {},
     "output_type": "display_data"
    }
   ],
   "source": [
    "indices.shape"
   ]
  },
  {
   "cell_type": "code",
   "execution_count": 175,
   "id": "db144b74",
   "metadata": {},
   "outputs": [
    {
     "data": {
      "application/javascript": [
       "\n",
       "            setTimeout(function() {\n",
       "                var nbb_cell_id = 175;\n",
       "                var nbb_unformatted_code = \"idx = indices[\\\"query\\\"]\";\n",
       "                var nbb_formatted_code = \"idx = indices[\\\"query\\\"]\";\n",
       "                var nbb_cells = Jupyter.notebook.get_cells();\n",
       "                for (var i = 0; i < nbb_cells.length; ++i) {\n",
       "                    if (nbb_cells[i].input_prompt_number == nbb_cell_id) {\n",
       "                        if (nbb_cells[i].get_text() == nbb_unformatted_code) {\n",
       "                             nbb_cells[i].set_text(nbb_formatted_code);\n",
       "                        }\n",
       "                        break;\n",
       "                    }\n",
       "                }\n",
       "            }, 500);\n",
       "            "
      ],
      "text/plain": [
       "<IPython.core.display.Javascript object>"
      ]
     },
     "metadata": {},
     "output_type": "display_data"
    }
   ],
   "source": [
    "idx = indices[\"query\"]"
   ]
  },
  {
   "cell_type": "code",
   "execution_count": 176,
   "id": "91f4b0e7",
   "metadata": {},
   "outputs": [
    {
     "data": {
      "application/javascript": [
       "\n",
       "            setTimeout(function() {\n",
       "                var nbb_cell_id = 176;\n",
       "                var nbb_unformatted_code = \"sim_scores = list(enumerate(cosine_sim[idx]))\";\n",
       "                var nbb_formatted_code = \"sim_scores = list(enumerate(cosine_sim[idx]))\";\n",
       "                var nbb_cells = Jupyter.notebook.get_cells();\n",
       "                for (var i = 0; i < nbb_cells.length; ++i) {\n",
       "                    if (nbb_cells[i].input_prompt_number == nbb_cell_id) {\n",
       "                        if (nbb_cells[i].get_text() == nbb_unformatted_code) {\n",
       "                             nbb_cells[i].set_text(nbb_formatted_code);\n",
       "                        }\n",
       "                        break;\n",
       "                    }\n",
       "                }\n",
       "            }, 500);\n",
       "            "
      ],
      "text/plain": [
       "<IPython.core.display.Javascript object>"
      ]
     },
     "metadata": {},
     "output_type": "display_data"
    }
   ],
   "source": [
    "sim_scores = list(enumerate(cosine_sim[idx]))"
   ]
  },
  {
   "cell_type": "code",
   "execution_count": 177,
   "id": "669645df",
   "metadata": {},
   "outputs": [
    {
     "data": {
      "application/javascript": [
       "\n",
       "            setTimeout(function() {\n",
       "                var nbb_cell_id = 177;\n",
       "                var nbb_unformatted_code = \"sim_scores = sorted(sim_scores, key=lambda x: x[1], reverse=True)\";\n",
       "                var nbb_formatted_code = \"sim_scores = sorted(sim_scores, key=lambda x: x[1], reverse=True)\";\n",
       "                var nbb_cells = Jupyter.notebook.get_cells();\n",
       "                for (var i = 0; i < nbb_cells.length; ++i) {\n",
       "                    if (nbb_cells[i].input_prompt_number == nbb_cell_id) {\n",
       "                        if (nbb_cells[i].get_text() == nbb_unformatted_code) {\n",
       "                             nbb_cells[i].set_text(nbb_formatted_code);\n",
       "                        }\n",
       "                        break;\n",
       "                    }\n",
       "                }\n",
       "            }, 500);\n",
       "            "
      ],
      "text/plain": [
       "<IPython.core.display.Javascript object>"
      ]
     },
     "metadata": {},
     "output_type": "display_data"
    }
   ],
   "source": [
    "sim_scores = sorted(sim_scores, key=lambda x: x[1], reverse=True)"
   ]
  },
  {
   "cell_type": "code",
   "execution_count": 178,
   "id": "4782c42d",
   "metadata": {},
   "outputs": [
    {
     "data": {
      "application/javascript": [
       "\n",
       "            setTimeout(function() {\n",
       "                var nbb_cell_id = 178;\n",
       "                var nbb_unformatted_code = \"sim_scores = sim_scores[1:101]\";\n",
       "                var nbb_formatted_code = \"sim_scores = sim_scores[1:101]\";\n",
       "                var nbb_cells = Jupyter.notebook.get_cells();\n",
       "                for (var i = 0; i < nbb_cells.length; ++i) {\n",
       "                    if (nbb_cells[i].input_prompt_number == nbb_cell_id) {\n",
       "                        if (nbb_cells[i].get_text() == nbb_unformatted_code) {\n",
       "                             nbb_cells[i].set_text(nbb_formatted_code);\n",
       "                        }\n",
       "                        break;\n",
       "                    }\n",
       "                }\n",
       "            }, 500);\n",
       "            "
      ],
      "text/plain": [
       "<IPython.core.display.Javascript object>"
      ]
     },
     "metadata": {},
     "output_type": "display_data"
    }
   ],
   "source": [
    "sim_scores = sim_scores[1:101]"
   ]
  },
  {
   "cell_type": "code",
   "execution_count": 179,
   "id": "4bb1c2ba",
   "metadata": {},
   "outputs": [
    {
     "data": {
      "application/javascript": [
       "\n",
       "            setTimeout(function() {\n",
       "                var nbb_cell_id = 179;\n",
       "                var nbb_unformatted_code = \"article_indices = [i[0] for i in sim_scores]\";\n",
       "                var nbb_formatted_code = \"article_indices = [i[0] for i in sim_scores]\";\n",
       "                var nbb_cells = Jupyter.notebook.get_cells();\n",
       "                for (var i = 0; i < nbb_cells.length; ++i) {\n",
       "                    if (nbb_cells[i].input_prompt_number == nbb_cell_id) {\n",
       "                        if (nbb_cells[i].get_text() == nbb_unformatted_code) {\n",
       "                             nbb_cells[i].set_text(nbb_formatted_code);\n",
       "                        }\n",
       "                        break;\n",
       "                    }\n",
       "                }\n",
       "            }, 500);\n",
       "            "
      ],
      "text/plain": [
       "<IPython.core.display.Javascript object>"
      ]
     },
     "metadata": {},
     "output_type": "display_data"
    }
   ],
   "source": [
    "article_indices = [i[0] for i in sim_scores]"
   ]
  },
  {
   "cell_type": "markdown",
   "id": "3d505a34",
   "metadata": {},
   "source": [
    "Let's print top 10 most relevant articles."
   ]
  },
  {
   "cell_type": "code",
   "execution_count": 187,
   "id": "2f9aa2c7",
   "metadata": {},
   "outputs": [
    {
     "data": {
      "text/html": [
       "<div>\n",
       "<style scoped>\n",
       "    .dataframe tbody tr th:only-of-type {\n",
       "        vertical-align: middle;\n",
       "    }\n",
       "\n",
       "    .dataframe tbody tr th {\n",
       "        vertical-align: top;\n",
       "    }\n",
       "\n",
       "    .dataframe thead th {\n",
       "        text-align: right;\n",
       "    }\n",
       "</style>\n",
       "<table border=\"1\" class=\"dataframe\">\n",
       "  <thead>\n",
       "    <tr style=\"text-align: right;\">\n",
       "      <th></th>\n",
       "      <th>title</th>\n",
       "      <th>text</th>\n",
       "    </tr>\n",
       "  </thead>\n",
       "  <tbody>\n",
       "    <tr>\n",
       "      <th>1557</th>\n",
       "      <td>IBM unveils new commercial Q System One quantu...</td>\n",
       "      <td>IBM has released the world's first-ever commer...</td>\n",
       "    </tr>\n",
       "    <tr>\n",
       "      <th>2212</th>\n",
       "      <td>IBM introduces new Watson solutions and servic...</td>\n",
       "      <td>IBMtechnology\\nThe US-based computer manufactu...</td>\n",
       "    </tr>\n",
       "    <tr>\n",
       "      <th>5894</th>\n",
       "      <td>IBM Investing Billions in 'Internet of Things'</td>\n",
       "      <td>NEW YORK - IBM (IW 500/11) announced Tuesday i...</td>\n",
       "    </tr>\n",
       "    <tr>\n",
       "      <th>228</th>\n",
       "      <td>Intel Introduces cryogenic control chip 'Horse...</td>\n",
       "      <td>Intel has announced the development of a cryog...</td>\n",
       "    </tr>\n",
       "    <tr>\n",
       "      <th>353</th>\n",
       "      <td>An artificial intelligence algorithm can learn...</td>\n",
       "      <td>Artificial intelligence can be used to predict...</td>\n",
       "    </tr>\n",
       "    <tr>\n",
       "      <th>2086</th>\n",
       "      <td>IBM announces $34bn acquisition of Red Hat</td>\n",
       "      <td>technologyIBMDigital Transformation\\nThe US-ba...</td>\n",
       "    </tr>\n",
       "    <tr>\n",
       "      <th>3578</th>\n",
       "      <td>IBM and MIT partner on AI research lab</td>\n",
       "      <td>IBM and the Mass. Institute of Technology plan...</td>\n",
       "    </tr>\n",
       "    <tr>\n",
       "      <th>1253</th>\n",
       "      <td>AI-Powered IIoT Solution to Help Manage and Mo...</td>\n",
       "      <td>In the industrial setting, monitoring and opti...</td>\n",
       "    </tr>\n",
       "    <tr>\n",
       "      <th>1893</th>\n",
       "      <td>Three ways that edge computing can benefit man...</td>\n",
       "      <td>technologyIoTData\\nThe UK proudly holds the po...</td>\n",
       "    </tr>\n",
       "    <tr>\n",
       "      <th>3967</th>\n",
       "      <td>IBM Tasks Watson IoT with Quality Assurance on...</td>\n",
       "      <td>IBM’s Watson is a platform of many talents. It...</td>\n",
       "    </tr>\n",
       "  </tbody>\n",
       "</table>\n",
       "</div>"
      ],
      "text/plain": [
       "                                                  title  \\\n",
       "1557  IBM unveils new commercial Q System One quantu...   \n",
       "2212  IBM introduces new Watson solutions and servic...   \n",
       "5894     IBM Investing Billions in 'Internet of Things'   \n",
       "228   Intel Introduces cryogenic control chip 'Horse...   \n",
       "353   An artificial intelligence algorithm can learn...   \n",
       "2086         IBM announces $34bn acquisition of Red Hat   \n",
       "3578             IBM and MIT partner on AI research lab   \n",
       "1253  AI-Powered IIoT Solution to Help Manage and Mo...   \n",
       "1893  Three ways that edge computing can benefit man...   \n",
       "3967  IBM Tasks Watson IoT with Quality Assurance on...   \n",
       "\n",
       "                                                   text  \n",
       "1557  IBM has released the world's first-ever commer...  \n",
       "2212  IBMtechnology\\nThe US-based computer manufactu...  \n",
       "5894  NEW YORK - IBM (IW 500/11) announced Tuesday i...  \n",
       "228   Intel has announced the development of a cryog...  \n",
       "353   Artificial intelligence can be used to predict...  \n",
       "2086  technologyIBMDigital Transformation\\nThe US-ba...  \n",
       "3578  IBM and the Mass. Institute of Technology plan...  \n",
       "1253  In the industrial setting, monitoring and opti...  \n",
       "1893  technologyIoTData\\nThe UK proudly holds the po...  \n",
       "3967  IBM’s Watson is a platform of many talents. It...  "
      ]
     },
     "execution_count": 187,
     "metadata": {},
     "output_type": "execute_result"
    },
    {
     "data": {
      "application/javascript": [
       "\n",
       "            setTimeout(function() {\n",
       "                var nbb_cell_id = 187;\n",
       "                var nbb_unformatted_code = \"df[[\\\"title\\\", \\\"text\\\"]].iloc[article_indices].head(10)\";\n",
       "                var nbb_formatted_code = \"df[[\\\"title\\\", \\\"text\\\"]].iloc[article_indices].head(10)\";\n",
       "                var nbb_cells = Jupyter.notebook.get_cells();\n",
       "                for (var i = 0; i < nbb_cells.length; ++i) {\n",
       "                    if (nbb_cells[i].input_prompt_number == nbb_cell_id) {\n",
       "                        if (nbb_cells[i].get_text() == nbb_unformatted_code) {\n",
       "                             nbb_cells[i].set_text(nbb_formatted_code);\n",
       "                        }\n",
       "                        break;\n",
       "                    }\n",
       "                }\n",
       "            }, 500);\n",
       "            "
      ],
      "text/plain": [
       "<IPython.core.display.Javascript object>"
      ]
     },
     "metadata": {},
     "output_type": "display_data"
    }
   ],
   "source": [
    "df[[\"title\", \"text\"]].iloc[article_indices].head(10)"
   ]
  },
  {
   "cell_type": "markdown",
   "id": "f1d234ed",
   "metadata": {},
   "source": [
    "<a id=\"3\"></a>\n",
    "## Conclusion\n",
    "[Back to the top](#0)"
   ]
  },
  {
   "cell_type": "markdown",
   "id": "263f984d",
   "metadata": {},
   "source": [
    "In this project we have used TF-IDF matrix to get a numerical evaluation of the importantance of each word in every article and cosine similarity to measure the similarity between the query and texts from the dataframe. As a result, we have found the articles which plot is close to the query context."
   ]
  }
 ],
 "metadata": {
  "kernelspec": {
   "display_name": "Python 3 (ipykernel)",
   "language": "python",
   "name": "python3"
  },
  "language_info": {
   "codemirror_mode": {
    "name": "ipython",
    "version": 3
   },
   "file_extension": ".py",
   "mimetype": "text/x-python",
   "name": "python",
   "nbconvert_exporter": "python",
   "pygments_lexer": "ipython3",
   "version": "3.9.7"
  },
  "toc": {
   "base_numbering": 1,
   "nav_menu": {},
   "number_sections": false,
   "sideBar": true,
   "skip_h1_title": false,
   "title_cell": "Table of Contents",
   "title_sidebar": "Contents",
   "toc_cell": false,
   "toc_position": {},
   "toc_section_display": true,
   "toc_window_display": false
  }
 },
 "nbformat": 4,
 "nbformat_minor": 5
}
