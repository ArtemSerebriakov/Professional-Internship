{
 "cells": [
  {
   "cell_type": "markdown",
   "metadata": {},
   "source": [
    "<a id=\"0\"></a> <br>\n",
    "# Table of Contents  \n",
    "1. [Data preprocessing](#1)     \n",
    "2. [Creating and training the model](#2)"
   ]
  },
  {
   "cell_type": "code",
   "execution_count": 1,
   "metadata": {},
   "outputs": [],
   "source": [
    "#%load_ext nb_black"
   ]
  },
  {
   "cell_type": "code",
   "execution_count": 2,
   "metadata": {},
   "outputs": [
    {
     "name": "stdout",
     "output_type": "stream",
     "text": [
      "Collecting pandas\n",
      "  Downloading pandas-2.2.2-cp39-cp39-win_amd64.whl (11.6 MB)\n",
      "     ---------------------------------------- 11.6/11.6 MB 4.6 MB/s eta 0:00:00\n",
      "Collecting pytz>=2020.1\n",
      "  Downloading pytz-2024.1-py2.py3-none-any.whl (505 kB)\n",
      "     -------------------------------------- 505.5/505.5 KB 5.3 MB/s eta 0:00:00\n",
      "Collecting tzdata>=2022.7\n",
      "  Downloading tzdata-2024.1-py2.py3-none-any.whl (345 kB)\n",
      "     -------------------------------------- 345.4/345.4 KB 5.4 MB/s eta 0:00:00\n",
      "Requirement already satisfied: python-dateutil>=2.8.2 in c:\\users\\sereb\\onedrive\\рабочий стол\\folder\\.venv\\lib\\site-packages (from pandas) (2.9.0.post0)\n",
      "Collecting numpy>=1.22.4\n",
      "  Downloading numpy-1.26.4-cp39-cp39-win_amd64.whl (15.8 MB)\n",
      "     ---------------------------------------- 15.8/15.8 MB 5.5 MB/s eta 0:00:00\n",
      "Requirement already satisfied: six>=1.5 in c:\\users\\sereb\\onedrive\\рабочий стол\\folder\\.venv\\lib\\site-packages (from python-dateutil>=2.8.2->pandas) (1.16.0)\n",
      "Installing collected packages: pytz, tzdata, numpy, pandas\n",
      "Successfully installed numpy-1.26.4 pandas-2.2.2 pytz-2024.1 tzdata-2024.1\n",
      "Note: you may need to restart the kernel to use updated packages.\n"
     ]
    },
    {
     "name": "stderr",
     "output_type": "stream",
     "text": [
      "WARNING: You are using pip version 22.0.4; however, version 24.0 is available.\n",
      "You should consider upgrading via the 'c:\\Users\\Sereb\\OneDrive\\Рабочий стол\\folder\\.venv\\Scripts\\python.exe -m pip install --upgrade pip' command.\n"
     ]
    }
   ],
   "source": [
    "pip install pandas"
   ]
  },
  {
   "cell_type": "code",
   "execution_count": 4,
   "metadata": {},
   "outputs": [],
   "source": [
    "import pandas as pd\n",
    "import numpy as np"
   ]
  },
  {
   "cell_type": "markdown",
   "metadata": {},
   "source": [
    "<a id=\"1\"></a>\n",
    "## Data preprocessing\n",
    "[Back to the top](#0)"
   ]
  },
  {
   "cell_type": "code",
   "execution_count": 6,
   "metadata": {},
   "outputs": [
    {
     "name": "stdout",
     "output_type": "stream",
     "text": [
      "Collecting openpyxl\n",
      "  Using cached openpyxl-3.1.2-py2.py3-none-any.whl (249 kB)\n",
      "Collecting et-xmlfile\n",
      "  Using cached et_xmlfile-1.1.0-py3-none-any.whl (4.7 kB)\n",
      "Installing collected packages: et-xmlfile, openpyxl\n",
      "Successfully installed et-xmlfile-1.1.0 openpyxl-3.1.2\n",
      "Note: you may need to restart the kernel to use updated packages.\n"
     ]
    },
    {
     "name": "stderr",
     "output_type": "stream",
     "text": [
      "WARNING: You are using pip version 22.0.4; however, version 24.0 is available.\n",
      "You should consider upgrading via the 'c:\\Users\\Sereb\\OneDrive\\Рабочий стол\\folder\\.venv\\Scripts\\python.exe -m pip install --upgrade pip' command.\n"
     ]
    }
   ],
   "source": [
    "pip install openpyxl"
   ]
  },
  {
   "cell_type": "code",
   "execution_count": 7,
   "metadata": {},
   "outputs": [
    {
     "data": {
      "text/plain": [
       "(8205, 8)"
      ]
     },
     "execution_count": 7,
     "metadata": {},
     "output_type": "execute_result"
    }
   ],
   "source": [
    "data_google = pd.read_excel('search_results.xlsx')\n",
    "data_google.shape"
   ]
  },
  {
   "cell_type": "code",
   "execution_count": 4,
   "metadata": {},
   "outputs": [
    {
     "data": {
      "text/html": [
       "<div>\n",
       "<style scoped>\n",
       "    .dataframe tbody tr th:only-of-type {\n",
       "        vertical-align: middle;\n",
       "    }\n",
       "\n",
       "    .dataframe tbody tr th {\n",
       "        vertical-align: top;\n",
       "    }\n",
       "\n",
       "    .dataframe thead th {\n",
       "        text-align: right;\n",
       "    }\n",
       "</style>\n",
       "<table border=\"1\" class=\"dataframe\">\n",
       "  <thead>\n",
       "    <tr style=\"text-align: right;\">\n",
       "      <th></th>\n",
       "      <th>title</th>\n",
       "      <th>link</th>\n",
       "      <th>displayed_link</th>\n",
       "      <th>snippet</th>\n",
       "      <th>keywords</th>\n",
       "      <th>position</th>\n",
       "      <th>language</th>\n",
       "      <th>timestamp</th>\n",
       "    </tr>\n",
       "  </thead>\n",
       "  <tbody>\n",
       "    <tr>\n",
       "      <th>0</th>\n",
       "      <td>Hairpin-Technologie</td>\n",
       "      <td>https://de.wikipedia.org/wiki/Hairpin-Technologie</td>\n",
       "      <td>https://de.wikipedia.org</td>\n",
       "      <td>... Kontaktieren von Statoren für elektrische ...</td>\n",
       "      <td>stator wicklung \"kontaktieren\" -\"kontaktieren ...</td>\n",
       "      <td>1</td>\n",
       "      <td>de</td>\n",
       "      <td>04/04/2024 17:14</td>\n",
       "    </tr>\n",
       "    <tr>\n",
       "      <th>1</th>\n",
       "      <td>EP2858212B1 - Wickelverfahren für eine Statorw...</td>\n",
       "      <td>https://patents.google.com/patent/EP2858212B1/de</td>\n",
       "      <td>https://patents.google.com</td>\n",
       "      <td>[0006]. Insbesondere das Verbinden der Leiterd...</td>\n",
       "      <td>stator wicklung elektrisch draht spule phase \"...</td>\n",
       "      <td>1</td>\n",
       "      <td>de</td>\n",
       "      <td>04/04/2024 17:14</td>\n",
       "    </tr>\n",
       "    <tr>\n",
       "      <th>2</th>\n",
       "      <td>DE10321956A1 - Hairpin wound stator for electr...</td>\n",
       "      <td>https://patents.google.com/patent/DE10321956A1/en</td>\n",
       "      <td>https://patents.google.com</td>\n",
       "      <td>... verbinden. Ein Prototyp dieser Technologie...</td>\n",
       "      <td>stator wicklung draht spule phase \"verbinden\" ...</td>\n",
       "      <td>1</td>\n",
       "      <td>de</td>\n",
       "      <td>04/04/2024 17:14</td>\n",
       "    </tr>\n",
       "    <tr>\n",
       "      <th>3</th>\n",
       "      <td>Stator und Verfahren zur Herstellung eines Sta...</td>\n",
       "      <td>https://patents.google.com/patent/DE1020191113...</td>\n",
       "      <td>https://patents.google.com</td>\n",
       "      <td>Zur Kontaktierung ist eine Kontakteinrichtung ...</td>\n",
       "      <td>stator wicklung draht spule wicklungsende phas...</td>\n",
       "      <td>1</td>\n",
       "      <td>de</td>\n",
       "      <td>04/04/2024 17:14</td>\n",
       "    </tr>\n",
       "    <tr>\n",
       "      <th>4</th>\n",
       "      <td>risomat - Prozesse</td>\n",
       "      <td>https://www.risomat.de/prozesse/</td>\n",
       "      <td>https://www.risomat.de</td>\n",
       "      <td>Für das Wickeln von Spulen für Stator-und Roto...</td>\n",
       "      <td>stator wicklung \"kontaktieren\" -\"kontaktieren ...</td>\n",
       "      <td>1</td>\n",
       "      <td>de</td>\n",
       "      <td>04/04/2024 17:14</td>\n",
       "    </tr>\n",
       "  </tbody>\n",
       "</table>\n",
       "</div>"
      ],
      "text/plain": [
       "                                               title  \\\n",
       "0                                Hairpin-Technologie   \n",
       "1  EP2858212B1 - Wickelverfahren für eine Statorw...   \n",
       "2  DE10321956A1 - Hairpin wound stator for electr...   \n",
       "3  Stator und Verfahren zur Herstellung eines Sta...   \n",
       "4                                 risomat - Prozesse   \n",
       "\n",
       "                                                link  \\\n",
       "0  https://de.wikipedia.org/wiki/Hairpin-Technologie   \n",
       "1   https://patents.google.com/patent/EP2858212B1/de   \n",
       "2  https://patents.google.com/patent/DE10321956A1/en   \n",
       "3  https://patents.google.com/patent/DE1020191113...   \n",
       "4                   https://www.risomat.de/prozesse/   \n",
       "\n",
       "               displayed_link  \\\n",
       "0    https://de.wikipedia.org   \n",
       "1  https://patents.google.com   \n",
       "2  https://patents.google.com   \n",
       "3  https://patents.google.com   \n",
       "4      https://www.risomat.de   \n",
       "\n",
       "                                             snippet  \\\n",
       "0  ... Kontaktieren von Statoren für elektrische ...   \n",
       "1  [0006]. Insbesondere das Verbinden der Leiterd...   \n",
       "2  ... verbinden. Ein Prototyp dieser Technologie...   \n",
       "3  Zur Kontaktierung ist eine Kontakteinrichtung ...   \n",
       "4  Für das Wickeln von Spulen für Stator-und Roto...   \n",
       "\n",
       "                                            keywords  position language  \\\n",
       "0  stator wicklung \"kontaktieren\" -\"kontaktieren ...         1       de   \n",
       "1  stator wicklung elektrisch draht spule phase \"...         1       de   \n",
       "2  stator wicklung draht spule phase \"verbinden\" ...         1       de   \n",
       "3  stator wicklung draht spule wicklungsende phas...         1       de   \n",
       "4  stator wicklung \"kontaktieren\" -\"kontaktieren ...         1       de   \n",
       "\n",
       "          timestamp  \n",
       "0  04/04/2024 17:14  \n",
       "1  04/04/2024 17:14  \n",
       "2  04/04/2024 17:14  \n",
       "3  04/04/2024 17:14  \n",
       "4  04/04/2024 17:14  "
      ]
     },
     "execution_count": 4,
     "metadata": {},
     "output_type": "execute_result"
    }
   ],
   "source": [
    "data_google.head(5)"
   ]
  },
  {
   "cell_type": "markdown",
   "metadata": {},
   "source": [
    "Check if our dataset has missing values and duplicates."
   ]
  },
  {
   "cell_type": "code",
   "execution_count": 5,
   "metadata": {},
   "outputs": [
    {
     "data": {
      "text/plain": [
       "title              0\n",
       "link               0\n",
       "displayed_link     0\n",
       "snippet           31\n",
       "keywords           0\n",
       "position           0\n",
       "language           0\n",
       "timestamp          0\n",
       "dtype: int64"
      ]
     },
     "execution_count": 5,
     "metadata": {},
     "output_type": "execute_result"
    }
   ],
   "source": [
    "data_google.isnull().sum()"
   ]
  },
  {
   "cell_type": "code",
   "execution_count": 6,
   "metadata": {},
   "outputs": [],
   "source": [
    "data_google = data_google.dropna(how='any',axis=0)"
   ]
  },
  {
   "cell_type": "code",
   "execution_count": 7,
   "metadata": {},
   "outputs": [
    {
     "data": {
      "text/plain": [
       "title             0\n",
       "link              0\n",
       "displayed_link    0\n",
       "snippet           0\n",
       "keywords          0\n",
       "position          0\n",
       "language          0\n",
       "timestamp         0\n",
       "dtype: int64"
      ]
     },
     "execution_count": 7,
     "metadata": {},
     "output_type": "execute_result"
    }
   ],
   "source": [
    "data_google.isnull().sum()"
   ]
  },
  {
   "cell_type": "code",
   "execution_count": 8,
   "metadata": {},
   "outputs": [
    {
     "data": {
      "text/plain": [
       "0"
      ]
     },
     "execution_count": 8,
     "metadata": {},
     "output_type": "execute_result"
    }
   ],
   "source": [
    "data_google.duplicated().sum()"
   ]
  },
  {
   "cell_type": "markdown",
   "metadata": {},
   "source": [
    "Remove stopwords from `title` and `snippet`."
   ]
  },
  {
   "cell_type": "code",
   "execution_count": 9,
   "metadata": {},
   "outputs": [],
   "source": [
    "stop_words_english = set(stopwords.words('english'))\n",
    "stop_words_german = set(stopwords.words('german'))"
   ]
  },
  {
   "cell_type": "code",
   "execution_count": 10,
   "metadata": {},
   "outputs": [],
   "source": [
    "data_google['title_cleaned'] = data_google['title'].astype(str)\n",
    "data_google['snippet_cleaned'] = data_google['snippet'].astype(str)"
   ]
  },
  {
   "cell_type": "markdown",
   "metadata": {},
   "source": [
    "Convert words to lowercase."
   ]
  },
  {
   "cell_type": "code",
   "execution_count": 11,
   "metadata": {},
   "outputs": [],
   "source": [
    "data_google['title_cleaned'] = data_google['title_cleaned'].str.lower()\n",
    "data_google['snippet_cleaned'] = data_google['snippet_cleaned'].str.lower()"
   ]
  },
  {
   "cell_type": "code",
   "execution_count": 12,
   "metadata": {},
   "outputs": [],
   "source": [
    "data_google[\"title_cleaned\"] = np.where(data_google['language']=='en', \n",
    "                                          data_google['title_cleaned'].apply(lambda x: ' '.join([word for word in x.split() if word not in (stop_words_english)])), \n",
    "                                          data_google['title_cleaned'].apply(lambda x: ' '.join([word for word in x.split() if word not in (stop_words_german)])))"
   ]
  },
  {
   "cell_type": "code",
   "execution_count": 13,
   "metadata": {},
   "outputs": [],
   "source": [
    "data_google[\"snippet_cleaned\"] = np.where(data_google['language']=='en', \n",
    "                                          data_google['snippet_cleaned'].apply(lambda x: ' '.join([word for word in x.split() if word not in (stop_words_english)])), \n",
    "                                          data_google['snippet_cleaned'].apply(lambda x: ' '.join([word for word in x.split() if word not in (stop_words_german)])))"
   ]
  },
  {
   "cell_type": "code",
   "execution_count": 14,
   "metadata": {},
   "outputs": [
    {
     "data": {
      "text/html": [
       "<div>\n",
       "<style scoped>\n",
       "    .dataframe tbody tr th:only-of-type {\n",
       "        vertical-align: middle;\n",
       "    }\n",
       "\n",
       "    .dataframe tbody tr th {\n",
       "        vertical-align: top;\n",
       "    }\n",
       "\n",
       "    .dataframe thead th {\n",
       "        text-align: right;\n",
       "    }\n",
       "</style>\n",
       "<table border=\"1\" class=\"dataframe\">\n",
       "  <thead>\n",
       "    <tr style=\"text-align: right;\">\n",
       "      <th></th>\n",
       "      <th>title</th>\n",
       "      <th>link</th>\n",
       "      <th>displayed_link</th>\n",
       "      <th>snippet</th>\n",
       "      <th>keywords</th>\n",
       "      <th>position</th>\n",
       "      <th>language</th>\n",
       "      <th>timestamp</th>\n",
       "      <th>title_cleaned</th>\n",
       "      <th>snippet_cleaned</th>\n",
       "    </tr>\n",
       "  </thead>\n",
       "  <tbody>\n",
       "    <tr>\n",
       "      <th>0</th>\n",
       "      <td>Hairpin-Technologie</td>\n",
       "      <td>https://de.wikipedia.org/wiki/Hairpin-Technologie</td>\n",
       "      <td>https://de.wikipedia.org</td>\n",
       "      <td>... Kontaktieren von Statoren für elektrische ...</td>\n",
       "      <td>stator wicklung \"kontaktieren\" -\"kontaktieren ...</td>\n",
       "      <td>1</td>\n",
       "      <td>de</td>\n",
       "      <td>04/04/2024 17:14</td>\n",
       "      <td>hairpin-technologie</td>\n",
       "      <td>... kontaktieren statoren elektrische antriebe...</td>\n",
       "    </tr>\n",
       "    <tr>\n",
       "      <th>1</th>\n",
       "      <td>EP2858212B1 - Wickelverfahren für eine Statorw...</td>\n",
       "      <td>https://patents.google.com/patent/EP2858212B1/de</td>\n",
       "      <td>https://patents.google.com</td>\n",
       "      <td>[0006]. Insbesondere das Verbinden der Leiterd...</td>\n",
       "      <td>stator wicklung elektrisch draht spule phase \"...</td>\n",
       "      <td>1</td>\n",
       "      <td>de</td>\n",
       "      <td>04/04/2024 17:14</td>\n",
       "      <td>ep2858212b1 - wickelverfahren statorwicklung ...</td>\n",
       "      <td>[0006]. insbesondere verbinden leiterdrähte ei...</td>\n",
       "    </tr>\n",
       "    <tr>\n",
       "      <th>2</th>\n",
       "      <td>DE10321956A1 - Hairpin wound stator for electr...</td>\n",
       "      <td>https://patents.google.com/patent/DE10321956A1/en</td>\n",
       "      <td>https://patents.google.com</td>\n",
       "      <td>... verbinden. Ein Prototyp dieser Technologie...</td>\n",
       "      <td>stator wicklung draht spule phase \"verbinden\" ...</td>\n",
       "      <td>1</td>\n",
       "      <td>de</td>\n",
       "      <td>04/04/2024 17:14</td>\n",
       "      <td>de10321956a1 - hairpin wound stator for electr...</td>\n",
       "      <td>... verbinden. prototyp technologie ... wicklu...</td>\n",
       "    </tr>\n",
       "    <tr>\n",
       "      <th>3</th>\n",
       "      <td>Stator und Verfahren zur Herstellung eines Sta...</td>\n",
       "      <td>https://patents.google.com/patent/DE1020191113...</td>\n",
       "      <td>https://patents.google.com</td>\n",
       "      <td>Zur Kontaktierung ist eine Kontakteinrichtung ...</td>\n",
       "      <td>stator wicklung draht spule wicklungsende phas...</td>\n",
       "      <td>1</td>\n",
       "      <td>de</td>\n",
       "      <td>04/04/2024 17:14</td>\n",
       "      <td>stator verfahren herstellung stators</td>\n",
       "      <td>kontaktierung kontakteinrichtung stirnseitig s...</td>\n",
       "    </tr>\n",
       "    <tr>\n",
       "      <th>4</th>\n",
       "      <td>risomat - Prozesse</td>\n",
       "      <td>https://www.risomat.de/prozesse/</td>\n",
       "      <td>https://www.risomat.de</td>\n",
       "      <td>Für das Wickeln von Spulen für Stator-und Roto...</td>\n",
       "      <td>stator wicklung \"kontaktieren\" -\"kontaktieren ...</td>\n",
       "      <td>1</td>\n",
       "      <td>de</td>\n",
       "      <td>04/04/2024 17:14</td>\n",
       "      <td>risomat - prozesse</td>\n",
       "      <td>wickeln spulen stator-und rotorwicklungen komm...</td>\n",
       "    </tr>\n",
       "  </tbody>\n",
       "</table>\n",
       "</div>"
      ],
      "text/plain": [
       "                                               title  \\\n",
       "0                                Hairpin-Technologie   \n",
       "1  EP2858212B1 - Wickelverfahren für eine Statorw...   \n",
       "2  DE10321956A1 - Hairpin wound stator for electr...   \n",
       "3  Stator und Verfahren zur Herstellung eines Sta...   \n",
       "4                                 risomat - Prozesse   \n",
       "\n",
       "                                                link  \\\n",
       "0  https://de.wikipedia.org/wiki/Hairpin-Technologie   \n",
       "1   https://patents.google.com/patent/EP2858212B1/de   \n",
       "2  https://patents.google.com/patent/DE10321956A1/en   \n",
       "3  https://patents.google.com/patent/DE1020191113...   \n",
       "4                   https://www.risomat.de/prozesse/   \n",
       "\n",
       "               displayed_link  \\\n",
       "0    https://de.wikipedia.org   \n",
       "1  https://patents.google.com   \n",
       "2  https://patents.google.com   \n",
       "3  https://patents.google.com   \n",
       "4      https://www.risomat.de   \n",
       "\n",
       "                                             snippet  \\\n",
       "0  ... Kontaktieren von Statoren für elektrische ...   \n",
       "1  [0006]. Insbesondere das Verbinden der Leiterd...   \n",
       "2  ... verbinden. Ein Prototyp dieser Technologie...   \n",
       "3  Zur Kontaktierung ist eine Kontakteinrichtung ...   \n",
       "4  Für das Wickeln von Spulen für Stator-und Roto...   \n",
       "\n",
       "                                            keywords  position language  \\\n",
       "0  stator wicklung \"kontaktieren\" -\"kontaktieren ...         1       de   \n",
       "1  stator wicklung elektrisch draht spule phase \"...         1       de   \n",
       "2  stator wicklung draht spule phase \"verbinden\" ...         1       de   \n",
       "3  stator wicklung draht spule wicklungsende phas...         1       de   \n",
       "4  stator wicklung \"kontaktieren\" -\"kontaktieren ...         1       de   \n",
       "\n",
       "          timestamp                                      title_cleaned  \\\n",
       "0  04/04/2024 17:14                                hairpin-technologie   \n",
       "1  04/04/2024 17:14   ep2858212b1 - wickelverfahren statorwicklung ...   \n",
       "2  04/04/2024 17:14  de10321956a1 - hairpin wound stator for electr...   \n",
       "3  04/04/2024 17:14               stator verfahren herstellung stators   \n",
       "4  04/04/2024 17:14                                 risomat - prozesse   \n",
       "\n",
       "                                     snippet_cleaned  \n",
       "0  ... kontaktieren statoren elektrische antriebe...  \n",
       "1  [0006]. insbesondere verbinden leiterdrähte ei...  \n",
       "2  ... verbinden. prototyp technologie ... wicklu...  \n",
       "3  kontaktierung kontakteinrichtung stirnseitig s...  \n",
       "4  wickeln spulen stator-und rotorwicklungen komm...  "
      ]
     },
     "execution_count": 14,
     "metadata": {},
     "output_type": "execute_result"
    }
   ],
   "source": [
    "data_google.head(5)"
   ]
  },
  {
   "cell_type": "markdown",
   "metadata": {},
   "source": [
    "Get rid of non-alphabetic characters."
   ]
  },
  {
   "cell_type": "code",
   "execution_count": 15,
   "metadata": {},
   "outputs": [],
   "source": [
    "data_google['title_cleaned'] = data_google['title_cleaned'].replace(to_replace ='[^a-zA-ZäöüÄÖÜß ]', value = '', regex = True)\n",
    "data_google['snippet_cleaned'] = data_google['snippet_cleaned'].replace(to_replace ='[^a-zA-ZäöüÄÖÜß ]', value = '', regex = True)"
   ]
  },
  {
   "cell_type": "markdown",
   "metadata": {},
   "source": [
    "If a sentence is only one or two words long, the benefit for the training is very small. Therefore we remove this short words."
   ]
  },
  {
   "cell_type": "code",
   "execution_count": 16,
   "metadata": {},
   "outputs": [],
   "source": [
    "data_google['title_cleaned'] = data_google['title_cleaned'].str.split().map(lambda sl: \" \".join(s for s in sl if len(s) > 2))\n",
    "data_google['snippet_cleaned'] = data_google['snippet_cleaned'].str.split().map(lambda sl: \" \".join(s for s in sl if len(s) > 2))"
   ]
  },
  {
   "cell_type": "code",
   "execution_count": 17,
   "metadata": {},
   "outputs": [
    {
     "data": {
      "text/html": [
       "<div>\n",
       "<style scoped>\n",
       "    .dataframe tbody tr th:only-of-type {\n",
       "        vertical-align: middle;\n",
       "    }\n",
       "\n",
       "    .dataframe tbody tr th {\n",
       "        vertical-align: top;\n",
       "    }\n",
       "\n",
       "    .dataframe thead th {\n",
       "        text-align: right;\n",
       "    }\n",
       "</style>\n",
       "<table border=\"1\" class=\"dataframe\">\n",
       "  <thead>\n",
       "    <tr style=\"text-align: right;\">\n",
       "      <th></th>\n",
       "      <th>title</th>\n",
       "      <th>link</th>\n",
       "      <th>displayed_link</th>\n",
       "      <th>snippet</th>\n",
       "      <th>keywords</th>\n",
       "      <th>position</th>\n",
       "      <th>language</th>\n",
       "      <th>timestamp</th>\n",
       "      <th>title_cleaned</th>\n",
       "      <th>snippet_cleaned</th>\n",
       "    </tr>\n",
       "  </thead>\n",
       "  <tbody>\n",
       "    <tr>\n",
       "      <th>0</th>\n",
       "      <td>Hairpin-Technologie</td>\n",
       "      <td>https://de.wikipedia.org/wiki/Hairpin-Technologie</td>\n",
       "      <td>https://de.wikipedia.org</td>\n",
       "      <td>... Kontaktieren von Statoren für elektrische ...</td>\n",
       "      <td>stator wicklung \"kontaktieren\" -\"kontaktieren ...</td>\n",
       "      <td>1</td>\n",
       "      <td>de</td>\n",
       "      <td>04/04/2024 17:14</td>\n",
       "      <td>hairpintechnologie</td>\n",
       "      <td>kontaktieren statoren elektrische antriebe fap...</td>\n",
       "    </tr>\n",
       "    <tr>\n",
       "      <th>1</th>\n",
       "      <td>EP2858212B1 - Wickelverfahren für eine Statorw...</td>\n",
       "      <td>https://patents.google.com/patent/EP2858212B1/de</td>\n",
       "      <td>https://patents.google.com</td>\n",
       "      <td>[0006]. Insbesondere das Verbinden der Leiterd...</td>\n",
       "      <td>stator wicklung elektrisch draht spule phase \"...</td>\n",
       "      <td>1</td>\n",
       "      <td>de</td>\n",
       "      <td>04/04/2024 17:14</td>\n",
       "      <td>epb wickelverfahren statorwicklung</td>\n",
       "      <td>insbesondere verbinden leiterdrähte einzelnen ...</td>\n",
       "    </tr>\n",
       "    <tr>\n",
       "      <th>2</th>\n",
       "      <td>DE10321956A1 - Hairpin wound stator for electr...</td>\n",
       "      <td>https://patents.google.com/patent/DE10321956A1/en</td>\n",
       "      <td>https://patents.google.com</td>\n",
       "      <td>... verbinden. Ein Prototyp dieser Technologie...</td>\n",
       "      <td>stator wicklung draht spule phase \"verbinden\" ...</td>\n",
       "      <td>1</td>\n",
       "      <td>de</td>\n",
       "      <td>04/04/2024 17:14</td>\n",
       "      <td>dea hairpin wound stator for electric machine</td>\n",
       "      <td>verbinden prototyp technologie wicklung phase ...</td>\n",
       "    </tr>\n",
       "    <tr>\n",
       "      <th>3</th>\n",
       "      <td>Stator und Verfahren zur Herstellung eines Sta...</td>\n",
       "      <td>https://patents.google.com/patent/DE1020191113...</td>\n",
       "      <td>https://patents.google.com</td>\n",
       "      <td>Zur Kontaktierung ist eine Kontakteinrichtung ...</td>\n",
       "      <td>stator wicklung draht spule wicklungsende phas...</td>\n",
       "      <td>1</td>\n",
       "      <td>de</td>\n",
       "      <td>04/04/2024 17:14</td>\n",
       "      <td>stator verfahren herstellung stators</td>\n",
       "      <td>kontaktierung kontakteinrichtung stirnseitig s...</td>\n",
       "    </tr>\n",
       "    <tr>\n",
       "      <th>4</th>\n",
       "      <td>risomat - Prozesse</td>\n",
       "      <td>https://www.risomat.de/prozesse/</td>\n",
       "      <td>https://www.risomat.de</td>\n",
       "      <td>Für das Wickeln von Spulen für Stator-und Roto...</td>\n",
       "      <td>stator wicklung \"kontaktieren\" -\"kontaktieren ...</td>\n",
       "      <td>1</td>\n",
       "      <td>de</td>\n",
       "      <td>04/04/2024 17:14</td>\n",
       "      <td>risomat prozesse</td>\n",
       "      <td>wickeln spulen statorund rotorwicklungen kommt...</td>\n",
       "    </tr>\n",
       "  </tbody>\n",
       "</table>\n",
       "</div>"
      ],
      "text/plain": [
       "                                               title  \\\n",
       "0                                Hairpin-Technologie   \n",
       "1  EP2858212B1 - Wickelverfahren für eine Statorw...   \n",
       "2  DE10321956A1 - Hairpin wound stator for electr...   \n",
       "3  Stator und Verfahren zur Herstellung eines Sta...   \n",
       "4                                 risomat - Prozesse   \n",
       "\n",
       "                                                link  \\\n",
       "0  https://de.wikipedia.org/wiki/Hairpin-Technologie   \n",
       "1   https://patents.google.com/patent/EP2858212B1/de   \n",
       "2  https://patents.google.com/patent/DE10321956A1/en   \n",
       "3  https://patents.google.com/patent/DE1020191113...   \n",
       "4                   https://www.risomat.de/prozesse/   \n",
       "\n",
       "               displayed_link  \\\n",
       "0    https://de.wikipedia.org   \n",
       "1  https://patents.google.com   \n",
       "2  https://patents.google.com   \n",
       "3  https://patents.google.com   \n",
       "4      https://www.risomat.de   \n",
       "\n",
       "                                             snippet  \\\n",
       "0  ... Kontaktieren von Statoren für elektrische ...   \n",
       "1  [0006]. Insbesondere das Verbinden der Leiterd...   \n",
       "2  ... verbinden. Ein Prototyp dieser Technologie...   \n",
       "3  Zur Kontaktierung ist eine Kontakteinrichtung ...   \n",
       "4  Für das Wickeln von Spulen für Stator-und Roto...   \n",
       "\n",
       "                                            keywords  position language  \\\n",
       "0  stator wicklung \"kontaktieren\" -\"kontaktieren ...         1       de   \n",
       "1  stator wicklung elektrisch draht spule phase \"...         1       de   \n",
       "2  stator wicklung draht spule phase \"verbinden\" ...         1       de   \n",
       "3  stator wicklung draht spule wicklungsende phas...         1       de   \n",
       "4  stator wicklung \"kontaktieren\" -\"kontaktieren ...         1       de   \n",
       "\n",
       "          timestamp                                  title_cleaned  \\\n",
       "0  04/04/2024 17:14                             hairpintechnologie   \n",
       "1  04/04/2024 17:14             epb wickelverfahren statorwicklung   \n",
       "2  04/04/2024 17:14  dea hairpin wound stator for electric machine   \n",
       "3  04/04/2024 17:14           stator verfahren herstellung stators   \n",
       "4  04/04/2024 17:14                               risomat prozesse   \n",
       "\n",
       "                                     snippet_cleaned  \n",
       "0  kontaktieren statoren elektrische antriebe fap...  \n",
       "1  insbesondere verbinden leiterdrähte einzelnen ...  \n",
       "2  verbinden prototyp technologie wicklung phase ...  \n",
       "3  kontaktierung kontakteinrichtung stirnseitig s...  \n",
       "4  wickeln spulen statorund rotorwicklungen kommt...  "
      ]
     },
     "execution_count": 17,
     "metadata": {},
     "output_type": "execute_result"
    }
   ],
   "source": [
    "data_google.head(5)"
   ]
  },
  {
   "cell_type": "markdown",
   "metadata": {},
   "source": [
    "Tokenize `title_cleaned` and `snippet_cleaned` columns."
   ]
  },
  {
   "cell_type": "code",
   "execution_count": 18,
   "metadata": {},
   "outputs": [],
   "source": [
    "tokenized_sentences_domain = {}\n",
    "all_tokenized_sentences = []\n",
    "#tokenize\n",
    "for index, row in data_google.iterrows(): \n",
    "    sentences = [row['title_cleaned']] + sent_tokenize(row['snippet_cleaned'].replace('...', '.'))\n",
    "    tokenizer = RegexpTokenizer(r'\\w+')\n",
    "    for s in sentences:\n",
    "        all_tokenized_sentences.append(tokenizer.tokenize(s))"
   ]
  },
  {
   "cell_type": "code",
   "execution_count": 19,
   "metadata": {},
   "outputs": [
    {
     "data": {
      "text/plain": [
       "['stator',\n",
       " 'winding',\n",
       " 'motor',\n",
       " 'phase',\n",
       " 'coil',\n",
       " 'wire',\n",
       " 'electric',\n",
       " 'contact',\n",
       " 'connection',\n",
       " 'wicklung',\n",
       " 'attach',\n",
       " 'connect',\n",
       " 'windings',\n",
       " 'befestigen',\n",
       " 'rotor']"
      ]
     },
     "execution_count": 19,
     "metadata": {},
     "output_type": "execute_result"
    }
   ],
   "source": [
    "from collections import defaultdict\n",
    "word_freq = defaultdict(int)\n",
    "for sent in all_tokenized_sentences:\n",
    "    for i in sent:\n",
    "        word_freq[i] += 1\n",
    "\n",
    "sorted(word_freq, key=word_freq.get, reverse=True)[:15]"
   ]
  },
  {
   "cell_type": "markdown",
   "metadata": {},
   "source": [
    "We see that there are no punctuation marks, numbers, and service words in the graph, which indicates that the text processing is correct."
   ]
  },
  {
   "cell_type": "markdown",
   "metadata": {},
   "source": [
    "<a id=\"2\"></a>\n",
    "## Word2vec for finding most similar words to a word\n",
    "[Back to the top](#0)"
   ]
  },
  {
   "cell_type": "markdown",
   "metadata": {},
   "source": [
    "Let's create bigrams for our model."
   ]
  },
  {
   "cell_type": "code",
   "execution_count": 20,
   "metadata": {},
   "outputs": [],
   "source": [
    "bigram = Phrases(all_tokenized_sentences, min_count=5, delimiter='_')"
   ]
  },
  {
   "cell_type": "code",
   "execution_count": 21,
   "metadata": {},
   "outputs": [],
   "source": [
    "logging.basicConfig(format='%(asctime)s : %(levelname)s : %(message)s', level=logging.INFO)\n",
    "\n",
    "# init callback class\n",
    "class callback(CallbackAny2Vec):\n",
    "    '''Callback for Word2vec with resetting loss on the end of each epoch.'''\n",
    "\n",
    "    def __init__(self):\n",
    "        self.epoch = 1\n",
    "\n",
    "        self.epoch = 1\n",
    "        self.losses = []\n",
    "        self.cumu_loss = 0.0\n",
    "        self.previous_epoch_time = time.time()\n",
    "\n",
    "        self.best_model = None\n",
    "        self.best_loss = 1e+30\n",
    "\n",
    "    def on_epoch_end(self, model):\n",
    "        loss = model.get_latest_training_loss()\n",
    "\n",
    "        norms = [np.linalg.norm(v) for v in model.wv.vectors]\n",
    "        now = time.time()\n",
    "        epoch_seconds = now - self.previous_epoch_time\n",
    "        self.previous_epoch_time = now\n",
    "        self.cumu_loss += float(loss)\n",
    "        print(f\"Loss after epoch{self.epoch}: {loss} (cumulative loss: {self.cumu_loss}) \"+\\\n",
    "              f\"duration {round(epoch_seconds, 2)}s - vector norms min/avg/max: \"+\\\n",
    "              f\"{round(float(min(norms)), 2)} / {round(float(sum(norms)/len(norms)), 2)} / {round(float(max(norms)), 2)}\")\n",
    "        self.epoch += 1\n",
    "\n",
    "        self.losses.append(float(loss))\n",
    "\n",
    "        # reset loss inside model\n",
    "        model.running_training_loss = 0.0\n",
    "\n",
    "        if loss < self.best_loss:\n",
    "            #self.best_model = copy.deepcopy(model)\n",
    "            self.best_loss = loss\n",
    "\n",
    "        if self.epoch % 61 == 0:\n",
    "            self.plot()\n",
    "\n",
    "    def plot(self):\n",
    "        fig, (ax1) = plt.subplots(ncols=1, figsize=(3, 3))\n",
    "        ax1.plot(self.losses)\n",
    "        ax1.set_xlabel(\"Epochs\")\n",
    "        ax1.set_title(\"Training loss\")\n",
    "        plt.show()"
   ]
  },
  {
   "cell_type": "markdown",
   "metadata": {},
   "source": [
    "Now we can train the model."
   ]
  },
  {
   "cell_type": "code",
   "execution_count": 22,
   "metadata": {},
   "outputs": [
    {
     "name": "stderr",
     "output_type": "stream",
     "text": [
      "2024-05-06 14:54:55,941 : INFO : Word2Vec lifecycle event {'params': 'Word2Vec<vocab=0, vector_size=300, alpha=0.03>', 'datetime': '2024-05-06T14:54:55.941231', 'gensim': '4.3.2', 'python': '3.9.13 (tags/v3.9.13:6de2ca5, May 17 2022, 16:36:42) [MSC v.1929 64 bit (AMD64)]', 'platform': 'Windows-10-10.0.22631-SP0', 'event': 'created'}\n",
      "2024-05-06 14:54:55,941 : INFO : collecting all words and their counts\n"
     ]
    },
    {
     "name": "stderr",
     "output_type": "stream",
     "text": [
      "2024-05-06 14:54:55,946 : INFO : PROGRESS: at sentence #0, processed 0 words, keeping 0 word types\n",
      "2024-05-06 14:54:56,266 : INFO : PROGRESS: at sentence #10000, processed 75021 words, keeping 19760 word types\n",
      "2024-05-06 14:54:56,444 : INFO : collected 24551 word types from a corpus of 131636 raw words and 16348 sentences\n",
      "2024-05-06 14:54:56,444 : INFO : Creating a fresh vocabulary\n",
      "2024-05-06 14:54:56,474 : INFO : Word2Vec lifecycle event {'msg': 'effective_min_count=10 retains 2049 unique words (8.35% of original 24551, drops 22502)', 'datetime': '2024-05-06T14:54:56.474203', 'gensim': '4.3.2', 'python': '3.9.13 (tags/v3.9.13:6de2ca5, May 17 2022, 16:36:42) [MSC v.1929 64 bit (AMD64)]', 'platform': 'Windows-10-10.0.22631-SP0', 'event': 'prepare_vocab'}\n",
      "2024-05-06 14:54:56,474 : INFO : Word2Vec lifecycle event {'msg': 'effective_min_count=10 leaves 86443 word corpus (65.67% of original 131636, drops 45193)', 'datetime': '2024-05-06T14:54:56.474203', 'gensim': '4.3.2', 'python': '3.9.13 (tags/v3.9.13:6de2ca5, May 17 2022, 16:36:42) [MSC v.1929 64 bit (AMD64)]', 'platform': 'Windows-10-10.0.22631-SP0', 'event': 'prepare_vocab'}\n",
      "2024-05-06 14:54:56,491 : INFO : deleting the raw counts dictionary of 24551 items\n",
      "2024-05-06 14:54:56,491 : INFO : sample=6e-05 downsamples 1370 most-common words\n",
      "2024-05-06 14:54:56,491 : INFO : Word2Vec lifecycle event {'msg': 'downsampling leaves estimated 33868.40699116809 word corpus (39.2%% of prior 86443)', 'datetime': '2024-05-06T14:54:56.491208', 'gensim': '4.3.2', 'python': '3.9.13 (tags/v3.9.13:6de2ca5, May 17 2022, 16:36:42) [MSC v.1929 64 bit (AMD64)]', 'platform': 'Windows-10-10.0.22631-SP0', 'event': 'prepare_vocab'}\n",
      "2024-05-06 14:54:56,522 : INFO : estimated required memory for 2049 words and 300 dimensions: 5942100 bytes\n",
      "2024-05-06 14:54:56,533 : INFO : resetting layer weights\n",
      "2024-05-06 14:54:56,539 : INFO : Word2Vec lifecycle event {'update': False, 'trim_rule': 'None', 'datetime': '2024-05-06T14:54:56.539051', 'gensim': '4.3.2', 'python': '3.9.13 (tags/v3.9.13:6de2ca5, May 17 2022, 16:36:42) [MSC v.1929 64 bit (AMD64)]', 'platform': 'Windows-10-10.0.22631-SP0', 'event': 'build_vocab'}\n",
      "2024-05-06 14:54:56,539 : INFO : Word2Vec lifecycle event {'msg': 'training model with 1 workers on 2049 vocabulary and 300 features, using sg=1 hs=0 sample=6e-05 negative=5 window=5 shrink_windows=True', 'datetime': '2024-05-06T14:54:56.539051', 'gensim': '4.3.2', 'python': '3.9.13 (tags/v3.9.13:6de2ca5, May 17 2022, 16:36:42) [MSC v.1929 64 bit (AMD64)]', 'platform': 'Windows-10-10.0.22631-SP0', 'event': 'train'}\n",
      "2024-05-06 14:54:57,600 : INFO : EPOCH 0 - PROGRESS: at 92.02% examples, 29396 words/s, in_qsize 0, out_qsize 0\n",
      "2024-05-06 14:54:57,648 : INFO : EPOCH 0: training on 131636 raw words (33793 effective words) took 1.1s, 31219 effective words/s\n"
     ]
    },
    {
     "name": "stdout",
     "output_type": "stream",
     "text": [
      "Loss after epoch1: 305536.78125 (cumulative loss: 305536.78125) duration 1.14s - vector norms min/avg/max: 0.03 / 0.22 / 1.28\n"
     ]
    },
    {
     "name": "stderr",
     "output_type": "stream",
     "text": [
      "2024-05-06 14:54:58,742 : INFO : EPOCH 1 - PROGRESS: at 98.83% examples, 31601 words/s, in_qsize 1, out_qsize 0\n",
      "2024-05-06 14:54:58,756 : INFO : EPOCH 1: training on 131636 raw words (33884 effective words) took 1.1s, 31787 effective words/s\n"
     ]
    },
    {
     "name": "stdout",
     "output_type": "stream",
     "text": [
      "Loss after epoch2: 238539.90625 (cumulative loss: 544076.6875) duration 1.13s - vector norms min/avg/max: 0.03 / 0.9 / 1.94\n"
     ]
    },
    {
     "name": "stderr",
     "output_type": "stream",
     "text": [
      "2024-05-06 14:54:59,884 : INFO : EPOCH 2 - PROGRESS: at 78.30% examples, 23171 words/s, in_qsize 0, out_qsize 0\n",
      "2024-05-06 14:55:00,104 : INFO : EPOCH 2: training on 131636 raw words (33889 effective words) took 1.3s, 26350 effective words/s\n"
     ]
    },
    {
     "name": "stdout",
     "output_type": "stream",
     "text": [
      "Loss after epoch3: 197198.734375 (cumulative loss: 741275.421875) duration 1.31s - vector norms min/avg/max: 0.03 / 1.12 / 2.42\n"
     ]
    },
    {
     "name": "stderr",
     "output_type": "stream",
     "text": [
      "2024-05-06 14:55:01,103 : INFO : EPOCH 3: training on 131636 raw words (33824 effective words) took 1.0s, 34570 effective words/s\n"
     ]
    },
    {
     "name": "stdout",
     "output_type": "stream",
     "text": [
      "Loss after epoch4: 191225.640625 (cumulative loss: 932501.0625) duration 1.05s - vector norms min/avg/max: 0.03 / 1.19 / 2.73\n"
     ]
    },
    {
     "name": "stderr",
     "output_type": "stream",
     "text": [
      "2024-05-06 14:55:02,182 : INFO : EPOCH 4 - PROGRESS: at 78.30% examples, 24824 words/s, in_qsize 0, out_qsize 0\n",
      "2024-05-06 14:55:02,492 : INFO : EPOCH 4: training on 131636 raw words (33978 effective words) took 1.3s, 25861 effective words/s\n"
     ]
    },
    {
     "name": "stdout",
     "output_type": "stream",
     "text": [
      "Loss after epoch5: 192717.546875 (cumulative loss: 1125218.609375) duration 1.38s - vector norms min/avg/max: 0.03 / 1.2 / 3.01\n"
     ]
    },
    {
     "name": "stderr",
     "output_type": "stream",
     "text": [
      "2024-05-06 14:55:03,575 : INFO : EPOCH 5 - PROGRESS: at 71.46% examples, 21765 words/s, in_qsize 0, out_qsize 0\n",
      "2024-05-06 14:55:03,970 : INFO : EPOCH 5: training on 131636 raw words (33816 effective words) took 1.4s, 24110 effective words/s\n"
     ]
    },
    {
     "name": "stdout",
     "output_type": "stream",
     "text": [
      "Loss after epoch6: 189717.1875 (cumulative loss: 1314935.796875) duration 1.48s - vector norms min/avg/max: 0.03 / 1.21 / 3.19\n"
     ]
    },
    {
     "name": "stderr",
     "output_type": "stream",
     "text": [
      "2024-05-06 14:55:04,714 : INFO : EPOCH 6: training on 131636 raw words (33961 effective words) took 0.7s, 49634 effective words/s\n"
     ]
    },
    {
     "name": "stdout",
     "output_type": "stream",
     "text": [
      "Loss after epoch7: 191516.953125 (cumulative loss: 1506452.75) duration 0.72s - vector norms min/avg/max: 0.03 / 1.21 / 3.41\n"
     ]
    },
    {
     "name": "stderr",
     "output_type": "stream",
     "text": [
      "2024-05-06 14:55:05,399 : INFO : EPOCH 7: training on 131636 raw words (33983 effective words) took 0.6s, 52689 effective words/s\n"
     ]
    },
    {
     "name": "stdout",
     "output_type": "stream",
     "text": [
      "Loss after epoch8: 190666.421875 (cumulative loss: 1697119.171875) duration 0.68s - vector norms min/avg/max: 0.03 / 1.21 / 3.56\n"
     ]
    },
    {
     "name": "stderr",
     "output_type": "stream",
     "text": [
      "2024-05-06 14:55:06,322 : INFO : EPOCH 8: training on 131636 raw words (33889 effective words) took 0.9s, 38093 effective words/s\n"
     ]
    },
    {
     "name": "stdout",
     "output_type": "stream",
     "text": [
      "Loss after epoch9: 189756.953125 (cumulative loss: 1886876.125) duration 0.95s - vector norms min/avg/max: 0.03 / 1.22 / 3.71\n"
     ]
    },
    {
     "name": "stderr",
     "output_type": "stream",
     "text": [
      "2024-05-06 14:55:07,483 : INFO : EPOCH 9 - PROGRESS: at 85.18% examples, 25171 words/s, in_qsize 0, out_qsize 0\n",
      "2024-05-06 14:55:07,666 : INFO : EPOCH 9: training on 131636 raw words (33857 effective words) took 1.3s, 26492 effective words/s\n"
     ]
    },
    {
     "name": "stdout",
     "output_type": "stream",
     "text": [
      "Loss after epoch10: 188224.375 (cumulative loss: 2075100.5) duration 1.34s - vector norms min/avg/max: 0.03 / 1.23 / 3.91\n"
     ]
    },
    {
     "name": "stderr",
     "output_type": "stream",
     "text": [
      "2024-05-06 14:55:08,608 : INFO : EPOCH 10: training on 131636 raw words (33818 effective words) took 0.9s, 38547 effective words/s\n"
     ]
    },
    {
     "name": "stdout",
     "output_type": "stream",
     "text": [
      "Loss after epoch11: 184168.8125 (cumulative loss: 2259269.3125) duration 0.92s - vector norms min/avg/max: 0.03 / 1.28 / 4.05\n"
     ]
    },
    {
     "name": "stderr",
     "output_type": "stream",
     "text": [
      "2024-05-06 14:55:09,521 : INFO : EPOCH 11: training on 131636 raw words (33938 effective words) took 0.9s, 38842 effective words/s\n"
     ]
    },
    {
     "name": "stdout",
     "output_type": "stream",
     "text": [
      "Loss after epoch12: 181413.078125 (cumulative loss: 2440682.390625) duration 0.93s - vector norms min/avg/max: 0.03 / 1.34 / 4.21\n"
     ]
    },
    {
     "name": "stderr",
     "output_type": "stream",
     "text": [
      "2024-05-06 14:55:10,640 : INFO : EPOCH 12 - PROGRESS: at 92.02% examples, 28862 words/s, in_qsize 2, out_qsize 0\n",
      "2024-05-06 14:55:10,688 : INFO : EPOCH 12: training on 131636 raw words (33961 effective words) took 1.1s, 30461 effective words/s\n"
     ]
    },
    {
     "name": "stdout",
     "output_type": "stream",
     "text": [
      "Loss after epoch13: 177055.734375 (cumulative loss: 2617738.125) duration 1.18s - vector norms min/avg/max: 0.03 / 1.42 / 4.35\n"
     ]
    },
    {
     "name": "stderr",
     "output_type": "stream",
     "text": [
      "2024-05-06 14:55:11,372 : INFO : EPOCH 13: training on 131636 raw words (33721 effective words) took 0.6s, 55380 effective words/s\n"
     ]
    },
    {
     "name": "stdout",
     "output_type": "stream",
     "text": [
      "Loss after epoch14: 171143.40625 (cumulative loss: 2788881.53125) duration 0.66s - vector norms min/avg/max: 0.03 / 1.5 / 4.46\n"
     ]
    },
    {
     "name": "stderr",
     "output_type": "stream",
     "text": [
      "2024-05-06 14:55:12,046 : INFO : EPOCH 14: training on 131636 raw words (34021 effective words) took 0.6s, 53557 effective words/s\n"
     ]
    },
    {
     "name": "stdout",
     "output_type": "stream",
     "text": [
      "Loss after epoch15: 169441.671875 (cumulative loss: 2958323.203125) duration 0.66s - vector norms min/avg/max: 0.03 / 1.57 / 4.57\n"
     ]
    },
    {
     "name": "stderr",
     "output_type": "stream",
     "text": [
      "2024-05-06 14:55:12,632 : INFO : EPOCH 15: training on 131636 raw words (33603 effective words) took 0.6s, 60871 effective words/s\n"
     ]
    },
    {
     "name": "stdout",
     "output_type": "stream",
     "text": [
      "Loss after epoch16: 164926.875 (cumulative loss: 3123250.078125) duration 0.59s - vector norms min/avg/max: 0.03 / 1.63 / 4.66\n"
     ]
    },
    {
     "name": "stderr",
     "output_type": "stream",
     "text": [
      "2024-05-06 14:55:13,270 : INFO : EPOCH 16: training on 131636 raw words (33853 effective words) took 0.6s, 55922 effective words/s\n"
     ]
    },
    {
     "name": "stdout",
     "output_type": "stream",
     "text": [
      "Loss after epoch17: 164234.984375 (cumulative loss: 3287485.0625) duration 0.64s - vector norms min/avg/max: 0.03 / 1.69 / 4.75\n"
     ]
    },
    {
     "name": "stderr",
     "output_type": "stream",
     "text": [
      "2024-05-06 14:55:13,972 : INFO : EPOCH 17: training on 131636 raw words (33911 effective words) took 0.7s, 51237 effective words/s\n"
     ]
    },
    {
     "name": "stdout",
     "output_type": "stream",
     "text": [
      "Loss after epoch18: 163391.890625 (cumulative loss: 3450876.953125) duration 0.7s - vector norms min/avg/max: 0.03 / 1.74 / 4.81\n"
     ]
    },
    {
     "name": "stderr",
     "output_type": "stream",
     "text": [
      "2024-05-06 14:55:14,670 : INFO : EPOCH 18: training on 131636 raw words (33931 effective words) took 0.7s, 51547 effective words/s\n"
     ]
    },
    {
     "name": "stdout",
     "output_type": "stream",
     "text": [
      "Loss after epoch19: 161841.625 (cumulative loss: 3612718.578125) duration 0.69s - vector norms min/avg/max: 0.03 / 1.79 / 4.86\n"
     ]
    },
    {
     "name": "stderr",
     "output_type": "stream",
     "text": [
      "2024-05-06 14:55:15,595 : INFO : EPOCH 19: training on 131636 raw words (33671 effective words) took 0.9s, 37571 effective words/s\n"
     ]
    },
    {
     "name": "stdout",
     "output_type": "stream",
     "text": [
      "Loss after epoch20: 157912.421875 (cumulative loss: 3770631.0) duration 0.93s - vector norms min/avg/max: 0.03 / 1.84 / 4.92\n"
     ]
    },
    {
     "name": "stderr",
     "output_type": "stream",
     "text": [
      "2024-05-06 14:55:16,390 : INFO : EPOCH 20: training on 131636 raw words (33963 effective words) took 0.8s, 44756 effective words/s\n"
     ]
    },
    {
     "name": "stdout",
     "output_type": "stream",
     "text": [
      "Loss after epoch21: 159038.921875 (cumulative loss: 3929669.921875) duration 0.79s - vector norms min/avg/max: 0.03 / 1.89 / 4.97\n"
     ]
    },
    {
     "name": "stderr",
     "output_type": "stream",
     "text": [
      "2024-05-06 14:55:17,070 : INFO : EPOCH 21: training on 131636 raw words (34105 effective words) took 0.6s, 53545 effective words/s\n"
     ]
    },
    {
     "name": "stdout",
     "output_type": "stream",
     "text": [
      "Loss after epoch22: 159645.125 (cumulative loss: 4089315.046875) duration 0.69s - vector norms min/avg/max: 0.03 / 1.94 / 5.01\n"
     ]
    },
    {
     "name": "stderr",
     "output_type": "stream",
     "text": [
      "2024-05-06 14:55:17,749 : INFO : EPOCH 22: training on 131636 raw words (33845 effective words) took 0.6s, 53576 effective words/s\n"
     ]
    },
    {
     "name": "stdout",
     "output_type": "stream",
     "text": [
      "Loss after epoch23: 155102.4375 (cumulative loss: 4244417.484375) duration 0.68s - vector norms min/avg/max: 0.03 / 1.98 / 5.03\n"
     ]
    },
    {
     "name": "stderr",
     "output_type": "stream",
     "text": [
      "2024-05-06 14:55:18,503 : INFO : EPOCH 23: training on 131636 raw words (34091 effective words) took 0.7s, 47103 effective words/s\n"
     ]
    },
    {
     "name": "stdout",
     "output_type": "stream",
     "text": [
      "Loss after epoch24: 155694.40625 (cumulative loss: 4400111.890625) duration 0.78s - vector norms min/avg/max: 0.03 / 2.02 / 5.06\n"
     ]
    },
    {
     "name": "stderr",
     "output_type": "stream",
     "text": [
      "2024-05-06 14:55:19,372 : INFO : EPOCH 24: training on 131636 raw words (33797 effective words) took 0.8s, 41609 effective words/s\n"
     ]
    },
    {
     "name": "stdout",
     "output_type": "stream",
     "text": [
      "Loss after epoch25: 152183.984375 (cumulative loss: 4552295.875) duration 0.85s - vector norms min/avg/max: 0.03 / 2.07 / 5.1\n"
     ]
    },
    {
     "name": "stderr",
     "output_type": "stream",
     "text": [
      "2024-05-06 14:55:20,054 : INFO : EPOCH 25: training on 131636 raw words (33902 effective words) took 0.6s, 52419 effective words/s\n"
     ]
    },
    {
     "name": "stdout",
     "output_type": "stream",
     "text": [
      "Loss after epoch26: 151573.53125 (cumulative loss: 4703869.40625) duration 0.67s - vector norms min/avg/max: 0.03 / 2.11 / 5.12\n"
     ]
    },
    {
     "name": "stderr",
     "output_type": "stream",
     "text": [
      "2024-05-06 14:55:20,741 : INFO : EPOCH 26: training on 131636 raw words (33969 effective words) took 0.6s, 52685 effective words/s\n"
     ]
    },
    {
     "name": "stdout",
     "output_type": "stream",
     "text": [
      "Loss after epoch27: 151182.03125 (cumulative loss: 4855051.4375) duration 0.68s - vector norms min/avg/max: 0.03 / 2.16 / 5.15\n"
     ]
    },
    {
     "name": "stderr",
     "output_type": "stream",
     "text": [
      "2024-05-06 14:55:21,739 : INFO : EPOCH 27: training on 131636 raw words (33654 effective words) took 1.0s, 34345 effective words/s\n"
     ]
    },
    {
     "name": "stdout",
     "output_type": "stream",
     "text": [
      "Loss after epoch28: 146169.609375 (cumulative loss: 5001221.046875) duration 1.03s - vector norms min/avg/max: 0.03 / 2.2 / 5.18\n"
     ]
    },
    {
     "name": "stderr",
     "output_type": "stream",
     "text": [
      "2024-05-06 14:55:22,814 : INFO : EPOCH 28 - PROGRESS: at 92.02% examples, 30102 words/s, in_qsize 0, out_qsize 0\n",
      "2024-05-06 14:55:22,908 : INFO : EPOCH 28: training on 131636 raw words (33897 effective words) took 1.1s, 30485 effective words/s\n"
     ]
    },
    {
     "name": "stdout",
     "output_type": "stream",
     "text": [
      "Loss after epoch29: 146386.34375 (cumulative loss: 5147607.390625) duration 1.18s - vector norms min/avg/max: 0.03 / 2.24 / 5.2\n"
     ]
    },
    {
     "name": "stderr",
     "output_type": "stream",
     "text": [
      "2024-05-06 14:55:23,964 : INFO : EPOCH 29: training on 131636 raw words (33851 effective words) took 1.0s, 34304 effective words/s\n"
     ]
    },
    {
     "name": "stdout",
     "output_type": "stream",
     "text": [
      "Loss after epoch30: 143720.015625 (cumulative loss: 5291327.40625) duration 1.05s - vector norms min/avg/max: 0.03 / 2.28 / 5.2\n"
     ]
    },
    {
     "name": "stderr",
     "output_type": "stream",
     "text": [
      "2024-05-06 14:55:24,690 : INFO : EPOCH 30: training on 131636 raw words (33980 effective words) took 0.7s, 51813 effective words/s\n"
     ]
    },
    {
     "name": "stdout",
     "output_type": "stream",
     "text": [
      "Loss after epoch31: 145221.765625 (cumulative loss: 5436549.171875) duration 0.7s - vector norms min/avg/max: 0.03 / 2.32 / 5.22\n"
     ]
    },
    {
     "name": "stderr",
     "output_type": "stream",
     "text": [
      "2024-05-06 14:55:25,355 : INFO : EPOCH 31: training on 131636 raw words (33903 effective words) took 0.6s, 53069 effective words/s\n"
     ]
    },
    {
     "name": "stdout",
     "output_type": "stream",
     "text": [
      "Loss after epoch32: 142426.640625 (cumulative loss: 5578975.8125) duration 0.67s - vector norms min/avg/max: 0.03 / 2.36 / 5.23\n"
     ]
    },
    {
     "name": "stderr",
     "output_type": "stream",
     "text": [
      "2024-05-06 14:55:26,244 : INFO : EPOCH 32: training on 131636 raw words (33801 effective words) took 0.9s, 39649 effective words/s\n"
     ]
    },
    {
     "name": "stdout",
     "output_type": "stream",
     "text": [
      "Loss after epoch33: 140554.171875 (cumulative loss: 5719529.984375) duration 0.92s - vector norms min/avg/max: 0.03 / 2.4 / 5.21\n"
     ]
    },
    {
     "name": "stderr",
     "output_type": "stream",
     "text": [
      "2024-05-06 14:55:27,368 : INFO : EPOCH 33 - PROGRESS: at 85.18% examples, 26200 words/s, in_qsize 0, out_qsize 0\n",
      "2024-05-06 14:55:27,528 : INFO : EPOCH 33: training on 131636 raw words (33733 effective words) took 1.2s, 27853 effective words/s\n"
     ]
    },
    {
     "name": "stdout",
     "output_type": "stream",
     "text": [
      "Loss after epoch34: 139120.40625 (cumulative loss: 5858650.390625) duration 1.27s - vector norms min/avg/max: 0.03 / 2.43 / 5.23\n"
     ]
    },
    {
     "name": "stderr",
     "output_type": "stream",
     "text": [
      "2024-05-06 14:55:28,586 : INFO : EPOCH 34 - PROGRESS: at 98.83% examples, 33476 words/s, in_qsize 1, out_qsize 0\n",
      "2024-05-06 14:55:28,588 : INFO : EPOCH 34: training on 131636 raw words (34052 effective words) took 1.0s, 33691 effective words/s\n"
     ]
    },
    {
     "name": "stdout",
     "output_type": "stream",
     "text": [
      "Loss after epoch35: 140869.421875 (cumulative loss: 5999519.8125) duration 1.07s - vector norms min/avg/max: 0.03 / 2.47 / 5.25\n"
     ]
    },
    {
     "name": "stderr",
     "output_type": "stream",
     "text": [
      "2024-05-06 14:55:29,698 : INFO : EPOCH 35 - PROGRESS: at 78.30% examples, 23628 words/s, in_qsize 0, out_qsize 0\n",
      "2024-05-06 14:55:29,943 : INFO : EPOCH 35: training on 131636 raw words (33735 effective words) took 1.3s, 26083 effective words/s\n"
     ]
    },
    {
     "name": "stdout",
     "output_type": "stream",
     "text": [
      "Loss after epoch36: 137655.765625 (cumulative loss: 6137175.578125) duration 1.35s - vector norms min/avg/max: 0.03 / 2.5 / 5.26\n"
     ]
    },
    {
     "name": "stderr",
     "output_type": "stream",
     "text": [
      "2024-05-06 14:55:30,599 : INFO : EPOCH 36: training on 131636 raw words (33849 effective words) took 0.6s, 56335 effective words/s\n"
     ]
    },
    {
     "name": "stdout",
     "output_type": "stream",
     "text": [
      "Loss after epoch37: 137475.125 (cumulative loss: 6274650.703125) duration 0.63s - vector norms min/avg/max: 0.03 / 2.53 / 5.27\n"
     ]
    },
    {
     "name": "stderr",
     "output_type": "stream",
     "text": [
      "2024-05-06 14:55:31,273 : INFO : EPOCH 37: training on 131636 raw words (33842 effective words) took 0.7s, 52000 effective words/s\n"
     ]
    },
    {
     "name": "stdout",
     "output_type": "stream",
     "text": [
      "Loss after epoch38: 136364.90625 (cumulative loss: 6411015.609375) duration 0.67s - vector norms min/avg/max: 0.03 / 2.57 / 5.29\n"
     ]
    },
    {
     "name": "stderr",
     "output_type": "stream",
     "text": [
      "2024-05-06 14:55:31,938 : INFO : EPOCH 38: training on 131636 raw words (34019 effective words) took 0.6s, 54348 effective words/s\n"
     ]
    },
    {
     "name": "stdout",
     "output_type": "stream",
     "text": [
      "Loss after epoch39: 135257.125 (cumulative loss: 6546272.734375) duration 0.67s - vector norms min/avg/max: 0.03 / 2.6 / 5.3\n"
     ]
    },
    {
     "name": "stderr",
     "output_type": "stream",
     "text": [
      "2024-05-06 14:55:32,600 : INFO : EPOCH 39: training on 131636 raw words (33792 effective words) took 0.6s, 53722 effective words/s\n"
     ]
    },
    {
     "name": "stdout",
     "output_type": "stream",
     "text": [
      "Loss after epoch40: 133442.28125 (cumulative loss: 6679715.015625) duration 0.66s - vector norms min/avg/max: 0.03 / 2.63 / 5.32\n"
     ]
    },
    {
     "name": "stderr",
     "output_type": "stream",
     "text": [
      "2024-05-06 14:55:33,210 : INFO : EPOCH 40: training on 131636 raw words (33969 effective words) took 0.6s, 58639 effective words/s\n"
     ]
    },
    {
     "name": "stdout",
     "output_type": "stream",
     "text": [
      "Loss after epoch41: 134958.0625 (cumulative loss: 6814673.078125) duration 0.6s - vector norms min/avg/max: 0.03 / 2.66 / 5.32\n"
     ]
    },
    {
     "name": "stderr",
     "output_type": "stream",
     "text": [
      "2024-05-06 14:55:33,869 : INFO : EPOCH 41: training on 131636 raw words (33839 effective words) took 0.6s, 53941 effective words/s\n"
     ]
    },
    {
     "name": "stdout",
     "output_type": "stream",
     "text": [
      "Loss after epoch42: 131559.453125 (cumulative loss: 6946232.53125) duration 0.67s - vector norms min/avg/max: 0.03 / 2.68 / 5.32\n"
     ]
    },
    {
     "name": "stderr",
     "output_type": "stream",
     "text": [
      "2024-05-06 14:55:34,555 : INFO : EPOCH 42: training on 131636 raw words (33699 effective words) took 0.7s, 51130 effective words/s\n"
     ]
    },
    {
     "name": "stdout",
     "output_type": "stream",
     "text": [
      "Loss after epoch43: 127973.7109375 (cumulative loss: 7074206.2421875) duration 0.69s - vector norms min/avg/max: 0.03 / 2.71 / 5.33\n"
     ]
    },
    {
     "name": "stderr",
     "output_type": "stream",
     "text": [
      "2024-05-06 14:55:35,215 : INFO : EPOCH 43: training on 131636 raw words (33856 effective words) took 0.6s, 54970 effective words/s\n"
     ]
    },
    {
     "name": "stdout",
     "output_type": "stream",
     "text": [
      "Loss after epoch44: 130051.53125 (cumulative loss: 7204257.7734375) duration 0.66s - vector norms min/avg/max: 0.03 / 2.73 / 5.34\n"
     ]
    },
    {
     "name": "stderr",
     "output_type": "stream",
     "text": [
      "2024-05-06 14:55:35,924 : INFO : EPOCH 44: training on 131636 raw words (33858 effective words) took 0.7s, 50014 effective words/s\n"
     ]
    },
    {
     "name": "stdout",
     "output_type": "stream",
     "text": [
      "Loss after epoch45: 128954.0859375 (cumulative loss: 7333211.859375) duration 0.72s - vector norms min/avg/max: 0.03 / 2.76 / 5.35\n"
     ]
    },
    {
     "name": "stderr",
     "output_type": "stream",
     "text": [
      "2024-05-06 14:55:36,513 : INFO : EPOCH 45: training on 131636 raw words (33796 effective words) took 0.5s, 61556 effective words/s\n"
     ]
    },
    {
     "name": "stdout",
     "output_type": "stream",
     "text": [
      "Loss after epoch46: 128102.8828125 (cumulative loss: 7461314.7421875) duration 0.58s - vector norms min/avg/max: 0.03 / 2.78 / 5.35\n"
     ]
    },
    {
     "name": "stderr",
     "output_type": "stream",
     "text": [
      "2024-05-06 14:55:37,348 : INFO : EPOCH 46: training on 131636 raw words (33772 effective words) took 0.8s, 42349 effective words/s\n"
     ]
    },
    {
     "name": "stdout",
     "output_type": "stream",
     "text": [
      "Loss after epoch47: 127106.8671875 (cumulative loss: 7588421.609375) duration 0.83s - vector norms min/avg/max: 0.03 / 2.8 / 5.36\n"
     ]
    },
    {
     "name": "stderr",
     "output_type": "stream",
     "text": [
      "2024-05-06 14:55:38,037 : INFO : EPOCH 47: training on 131636 raw words (33829 effective words) took 0.7s, 51732 effective words/s\n"
     ]
    },
    {
     "name": "stdout",
     "output_type": "stream",
     "text": [
      "Loss after epoch48: 127205.5703125 (cumulative loss: 7715627.1796875) duration 0.68s - vector norms min/avg/max: 0.03 / 2.82 / 5.37\n"
     ]
    },
    {
     "name": "stderr",
     "output_type": "stream",
     "text": [
      "2024-05-06 14:55:39,105 : INFO : EPOCH 48 - PROGRESS: at 92.02% examples, 29288 words/s, in_qsize 0, out_qsize 0\n",
      "2024-05-06 14:55:39,163 : INFO : EPOCH 48: training on 131636 raw words (33741 effective words) took 1.1s, 30731 effective words/s\n"
     ]
    },
    {
     "name": "stdout",
     "output_type": "stream",
     "text": [
      "Loss after epoch49: 125866.3359375 (cumulative loss: 7841493.515625) duration 1.15s - vector norms min/avg/max: 0.03 / 2.83 / 5.38\n"
     ]
    },
    {
     "name": "stderr",
     "output_type": "stream",
     "text": [
      "2024-05-06 14:55:40,344 : INFO : EPOCH 49 - PROGRESS: at 85.18% examples, 25045 words/s, in_qsize 0, out_qsize 0\n",
      "2024-05-06 14:55:40,550 : INFO : EPOCH 49: training on 131636 raw words (34027 effective words) took 1.3s, 25810 effective words/s\n"
     ]
    },
    {
     "name": "stdout",
     "output_type": "stream",
     "text": [
      "Loss after epoch50: 128327.984375 (cumulative loss: 7969821.5) duration 1.4s - vector norms min/avg/max: 0.03 / 2.85 / 5.39\n"
     ]
    },
    {
     "name": "stderr",
     "output_type": "stream",
     "text": [
      "2024-05-06 14:55:41,505 : INFO : EPOCH 50: training on 131636 raw words (33894 effective words) took 0.9s, 38486 effective words/s\n"
     ]
    },
    {
     "name": "stdout",
     "output_type": "stream",
     "text": [
      "Loss after epoch51: 126420.6796875 (cumulative loss: 8096242.1796875) duration 0.92s - vector norms min/avg/max: 0.03 / 2.87 / 5.39\n"
     ]
    },
    {
     "name": "stderr",
     "output_type": "stream",
     "text": [
      "2024-05-06 14:55:42,258 : INFO : EPOCH 51: training on 131636 raw words (33811 effective words) took 0.7s, 47098 effective words/s\n"
     ]
    },
    {
     "name": "stdout",
     "output_type": "stream",
     "text": [
      "Loss after epoch52: 125149.59375 (cumulative loss: 8221391.7734375) duration 0.75s - vector norms min/avg/max: 0.03 / 2.88 / 5.4\n"
     ]
    },
    {
     "name": "stderr",
     "output_type": "stream",
     "text": [
      "2024-05-06 14:55:43,097 : INFO : EPOCH 52: training on 131636 raw words (33884 effective words) took 0.8s, 41903 effective words/s\n"
     ]
    },
    {
     "name": "stdout",
     "output_type": "stream",
     "text": [
      "Loss after epoch53: 124689.5859375 (cumulative loss: 8346081.359375) duration 0.86s - vector norms min/avg/max: 0.03 / 2.89 / 5.4\n"
     ]
    },
    {
     "name": "stderr",
     "output_type": "stream",
     "text": [
      "2024-05-06 14:55:43,989 : INFO : EPOCH 53: training on 131636 raw words (33931 effective words) took 0.8s, 43312 effective words/s\n"
     ]
    },
    {
     "name": "stdout",
     "output_type": "stream",
     "text": [
      "Loss after epoch54: 124414.6796875 (cumulative loss: 8470496.0390625) duration 0.89s - vector norms min/avg/max: 0.03 / 2.9 / 5.41\n"
     ]
    },
    {
     "name": "stderr",
     "output_type": "stream",
     "text": [
      "2024-05-06 14:55:44,724 : INFO : EPOCH 54: training on 131636 raw words (33900 effective words) took 0.7s, 49811 effective words/s\n"
     ]
    },
    {
     "name": "stdout",
     "output_type": "stream",
     "text": [
      "Loss after epoch55: 124681.171875 (cumulative loss: 8595177.2109375) duration 0.7s - vector norms min/avg/max: 0.03 / 2.91 / 5.41\n"
     ]
    },
    {
     "name": "stderr",
     "output_type": "stream",
     "text": [
      "2024-05-06 14:55:45,397 : INFO : EPOCH 55: training on 131636 raw words (33900 effective words) took 0.6s, 52721 effective words/s\n"
     ]
    },
    {
     "name": "stdout",
     "output_type": "stream",
     "text": [
      "Loss after epoch56: 124451.4296875 (cumulative loss: 8719628.640625) duration 0.68s - vector norms min/avg/max: 0.03 / 2.92 / 5.42\n"
     ]
    },
    {
     "name": "stderr",
     "output_type": "stream",
     "text": [
      "2024-05-06 14:55:46,196 : INFO : EPOCH 56: training on 131636 raw words (33948 effective words) took 0.8s, 44182 effective words/s\n"
     ]
    },
    {
     "name": "stdout",
     "output_type": "stream",
     "text": [
      "Loss after epoch57: 124864.6484375 (cumulative loss: 8844493.2890625) duration 0.82s - vector norms min/avg/max: 0.03 / 2.92 / 5.42\n"
     ]
    },
    {
     "name": "stderr",
     "output_type": "stream",
     "text": [
      "2024-05-06 14:55:47,074 : INFO : EPOCH 57: training on 131636 raw words (33715 effective words) took 0.8s, 41102 effective words/s\n"
     ]
    },
    {
     "name": "stdout",
     "output_type": "stream",
     "text": [
      "Loss after epoch58: 121639.40625 (cumulative loss: 8966132.6953125) duration 0.86s - vector norms min/avg/max: 0.03 / 2.93 / 5.42\n"
     ]
    },
    {
     "name": "stderr",
     "output_type": "stream",
     "text": [
      "2024-05-06 14:55:47,896 : INFO : EPOCH 58: training on 131636 raw words (33920 effective words) took 0.8s, 44016 effective words/s\n"
     ]
    },
    {
     "name": "stdout",
     "output_type": "stream",
     "text": [
      "Loss after epoch59: 122719.7265625 (cumulative loss: 9088852.421875) duration 0.82s - vector norms min/avg/max: 0.03 / 2.93 / 5.42\n"
     ]
    },
    {
     "name": "stderr",
     "output_type": "stream",
     "text": [
      "2024-05-06 14:55:48,822 : INFO : EPOCH 59: training on 131636 raw words (33909 effective words) took 0.9s, 38115 effective words/s\n"
     ]
    },
    {
     "name": "stdout",
     "output_type": "stream",
     "text": [
      "Loss after epoch60: 123638.125 (cumulative loss: 9212490.546875) duration 0.92s - vector norms min/avg/max: 0.03 / 2.93 / 5.42\n"
     ]
    },
    {
     "data": {
      "image/png": "[encoded data removed]",
      "text/plain": [
       "<Figure size 300x300 with 1 Axes>"
      ]
     },
     "metadata": {},
     "output_type": "display_data"
    },
    {
     "name": "stderr",
     "output_type": "stream",
     "text": [
      "2024-05-06 14:55:49,398 : INFO : Word2Vec lifecycle event {'msg': 'training on 7898160 raw words (2032280 effective words) took 52.8s, 38454 effective words/s', 'datetime': '2024-05-06T14:55:49.398460', 'gensim': '4.3.2', 'python': '3.9.13 (tags/v3.9.13:6de2ca5, May 17 2022, 16:36:42) [MSC v.1929 64 bit (AMD64)]', 'platform': 'Windows-10-10.0.22631-SP0', 'event': 'train'}\n"
     ]
    },
    {
     "data": {
      "text/plain": [
       "(2032280, 7898160)"
      ]
     },
     "execution_count": 22,
     "metadata": {},
     "output_type": "execute_result"
    }
   ],
   "source": [
    "w2v_model = Word2Vec(vector_size=300, min_count=10, window=5, compute_loss = True, workers=1, epochs=60, sg=1, sample=6e-5, alpha=0.03, min_alpha=0.0005, seed=1234)\n",
    "w2v_model.build_vocab(bigram[all_tokenized_sentences])  \n",
    "# train the w2v model\n",
    "w2v_model.train(bigram[all_tokenized_sentences], \n",
    "                total_examples=w2v_model.corpus_count,\n",
    "                epochs=w2v_model.epochs,\n",
    "                compute_loss = True,\n",
    "                callbacks=[callback()])"
   ]
  },
  {
   "cell_type": "markdown",
   "metadata": {},
   "source": [
    "We see that training loss constantly goes down, therefore we don't have underfitting."
   ]
  },
  {
   "cell_type": "markdown",
   "metadata": {},
   "source": [
    "Find similar words to 'wire'."
   ]
  },
  {
   "cell_type": "code",
   "execution_count": 23,
   "metadata": {},
   "outputs": [],
   "source": [
    "vect = w2v_model.wv.get_mean_vector(['welded', 'wire'], weights=None, pre_normalize=True, post_normalize=True, ignore_missing=False)"
   ]
  },
  {
   "cell_type": "code",
   "execution_count": 24,
   "metadata": {},
   "outputs": [
    {
     "data": {
      "text/plain": [
       "[('wire', 0.9320331811904907),\n",
       " ('welded', 0.932033121585846),\n",
       " ('solder', 0.8118802905082703),\n",
       " ('arc', 0.7946250438690186),\n",
       " ('wires', 0.793901801109314),\n",
       " ('connectors', 0.7809845209121704),\n",
       " ('enamel', 0.7716437578201294),\n",
       " ('insulated', 0.7660992741584778),\n",
       " ('along', 0.7648071050643921),\n",
       " ('wrapped', 0.7638533115386963),\n",
       " ('together', 0.7532511949539185),\n",
       " ('ends', 0.7404136657714844),\n",
       " ('strands', 0.7373015880584717),\n",
       " ('remaining', 0.7362044453620911),\n",
       " ('exposed', 0.7354509830474854),\n",
       " ('without', 0.735144317150116),\n",
       " ('bundle', 0.7346554398536682),\n",
       " ('insulated_copper', 0.7319750189781189),\n",
       " ('aluminum', 0.7286729216575623),\n",
       " ('high_temperature', 0.7241480946540833),\n",
       " ('around', 0.7227531671524048),\n",
       " ('german_translation', 0.720311164855957),\n",
       " ('attachment', 0.7197322249412537),\n",
       " ('ing', 0.7196308970451355),\n",
       " ('enamelled', 0.7177954316139221),\n",
       " ('wound', 0.7173653244972229),\n",
       " ('enough', 0.7091590762138367),\n",
       " ('thin', 0.709021270275116),\n",
       " ('axis', 0.7053680419921875),\n",
       " ('lead_wires', 0.7042797803878784),\n",
       " ('solid', 0.704261064529419),\n",
       " ('metal', 0.7041547894477844),\n",
       " ('mechanically', 0.7025669813156128),\n",
       " ('comprising', 0.7021239995956421),\n",
       " ('produce', 0.7013577222824097),\n",
       " ('body', 0.6997467875480652),\n",
       " ('wire_wound', 0.6990792155265808),\n",
       " ('them', 0.6978403925895691),\n",
       " ('modules', 0.6953129768371582),\n",
       " ('bare', 0.6939250230789185),\n",
       " ('way', 0.6924576759338379),\n",
       " ('configured', 0.6911327242851257),\n",
       " ('without_contacting', 0.6902610659599304),\n",
       " ('copper_wire', 0.6888989210128784),\n",
       " ('welding', 0.6886522173881531),\n",
       " ('side', 0.6872988939285278),\n",
       " ('thereby', 0.6868301033973694),\n",
       " ('run', 0.686308741569519),\n",
       " ('soldering', 0.6843383312225342),\n",
       " ('two', 0.6836857795715332),\n",
       " ('electrically', 0.6814392805099487),\n",
       " ('create', 0.6810798048973083),\n",
       " ('onto', 0.6805893182754517),\n",
       " ('following', 0.6804163455963135),\n",
       " ('insulate', 0.6789580583572388),\n",
       " ('two_phases', 0.6789127588272095),\n",
       " ('automatically', 0.6778887510299683),\n",
       " ('points', 0.6772305369377136),\n",
       " ('windings', 0.6767904758453369),\n",
       " ('tooth', 0.6751269102096558),\n",
       " ('involves', 0.6735283732414246),\n",
       " ('use', 0.6730898022651672),\n",
       " ('allows', 0.6728127598762512),\n",
       " ('traditional', 0.6727204322814941),\n",
       " ('copper', 0.6725801825523376),\n",
       " ('another', 0.6721304059028625),\n",
       " ('easy', 0.6718224883079529),\n",
       " ('prevent', 0.6708204746246338),\n",
       " ('one', 0.6699526906013489),\n",
       " ('bobbin', 0.669880747795105)]"
      ]
     },
     "execution_count": 24,
     "metadata": {},
     "output_type": "execute_result"
    }
   ],
   "source": [
    "w2v_model.wv.most_similar(positive=[vect], negative=[], topn=70)"
   ]
  },
  {
   "cell_type": "code",
   "execution_count": 25,
   "metadata": {},
   "outputs": [
    {
     "data": {
      "text/plain": [
       "[('solder', 0.8118802905082703),\n",
       " ('arc', 0.7946250438690186),\n",
       " ('wires', 0.793901801109314),\n",
       " ('connectors', 0.7809845209121704),\n",
       " ('enamel', 0.7716437578201294),\n",
       " ('insulated', 0.7660992741584778),\n",
       " ('along', 0.7648071050643921),\n",
       " ('wrapped', 0.7638533115386963),\n",
       " ('together', 0.7532511949539185),\n",
       " ('ends', 0.7404136657714844),\n",
       " ('strands', 0.7373015880584717),\n",
       " ('remaining', 0.7362044453620911),\n",
       " ('exposed', 0.7354509830474854),\n",
       " ('without', 0.735144317150116),\n",
       " ('bundle', 0.7346554398536682),\n",
       " ('insulated_copper', 0.7319750189781189),\n",
       " ('aluminum', 0.7286729216575623),\n",
       " ('high_temperature', 0.7241480946540833),\n",
       " ('around', 0.7227531671524048),\n",
       " ('german_translation', 0.720311164855957),\n",
       " ('attachment', 0.7197322249412537),\n",
       " ('ing', 0.7196308970451355),\n",
       " ('enamelled', 0.7177954316139221),\n",
       " ('wound', 0.7173653244972229),\n",
       " ('enough', 0.7091590762138367),\n",
       " ('thin', 0.709021270275116),\n",
       " ('axis', 0.7053680419921875),\n",
       " ('lead_wires', 0.7042797803878784),\n",
       " ('solid', 0.704261064529419),\n",
       " ('metal', 0.7041547894477844),\n",
       " ('mechanically', 0.7025669813156128),\n",
       " ('comprising', 0.7021239995956421),\n",
       " ('produce', 0.7013577222824097),\n",
       " ('body', 0.6997467875480652),\n",
       " ('wire_wound', 0.6990792155265808),\n",
       " ('them', 0.6978403925895691),\n",
       " ('modules', 0.6953129768371582),\n",
       " ('bare', 0.6939250230789185),\n",
       " ('way', 0.6924576759338379),\n",
       " ('configured', 0.6911327242851257),\n",
       " ('without_contacting', 0.6902610659599304),\n",
       " ('copper_wire', 0.6888989210128784),\n",
       " ('welding', 0.6886522173881531),\n",
       " ('side', 0.6872988939285278),\n",
       " ('thereby', 0.6868301033973694),\n",
       " ('run', 0.686308741569519),\n",
       " ('soldering', 0.6843383312225342),\n",
       " ('two', 0.6836857795715332),\n",
       " ('electrically', 0.6814392805099487),\n",
       " ('create', 0.6810798048973083),\n",
       " ('onto', 0.6805893182754517),\n",
       " ('following', 0.6804163455963135),\n",
       " ('insulate', 0.6789580583572388),\n",
       " ('two_phases', 0.6789127588272095),\n",
       " ('automatically', 0.6778887510299683),\n",
       " ('points', 0.6772305369377136),\n",
       " ('windings', 0.6767904758453369),\n",
       " ('tooth', 0.6751269102096558),\n",
       " ('involves', 0.6735283732414246),\n",
       " ('use', 0.6730898022651672),\n",
       " ('allows', 0.6728127598762512),\n",
       " ('traditional', 0.6727204322814941),\n",
       " ('copper', 0.6725801825523376),\n",
       " ('another', 0.6721304059028625),\n",
       " ('easy', 0.6718224883079529),\n",
       " ('prevent', 0.6708204746246338),\n",
       " ('one', 0.6699526906013489),\n",
       " ('bobbin', 0.669880747795105),\n",
       " ('created', 0.6696550250053406),\n",
       " ('connected', 0.6687971949577332)]"
      ]
     },
     "execution_count": 25,
     "metadata": {},
     "output_type": "execute_result"
    }
   ],
   "source": [
    "w2v_model.wv.most_similar(positive=['welded', 'wire'], negative=[], topn=70)"
   ]
  },
  {
   "cell_type": "code",
   "execution_count": 26,
   "metadata": {},
   "outputs": [
    {
     "data": {
      "text/plain": [
       "[('arc', 0.8152943849563599),\n",
       " ('along', 0.8138242959976196),\n",
       " ('connectors', 0.7996708750724792),\n",
       " ('solder', 0.7874423861503601),\n",
       " ('enamel', 0.7843230962753296),\n",
       " ('together', 0.7658044099807739),\n",
       " ('attachment', 0.7504618763923645),\n",
       " ('insulated', 0.7491419315338135),\n",
       " ('ends', 0.7486479878425598),\n",
       " ('mechanically', 0.742871880531311),\n",
       " ('wire', 0.7373716831207275),\n",
       " ('modules', 0.7337843179702759),\n",
       " ('wrapped', 0.7323752045631409),\n",
       " ('wires', 0.7290646433830261),\n",
       " ('welding', 0.726886510848999),\n",
       " ('strands', 0.7244899272918701),\n",
       " ('points', 0.7235122919082642),\n",
       " ('high_temperature', 0.7199335098266602),\n",
       " ('ing', 0.719489574432373),\n",
       " ('without', 0.7172014117240906),\n",
       " ('electrically', 0.716650128364563),\n",
       " ('side', 0.7149177193641663),\n",
       " ('aluminum', 0.7093781232833862),\n",
       " ('insulated_copper', 0.7078433632850647),\n",
       " ('thin', 0.7069360017776489),\n",
       " ('exposed', 0.7068378329277039),\n",
       " ('without_contacting', 0.7067294120788574),\n",
       " ('bundle', 0.702293872833252),\n",
       " ('solid', 0.7021641731262207),\n",
       " ('body', 0.6949501037597656),\n",
       " ('cleaning', 0.694328248500824),\n",
       " ('lead_wires', 0.694071352481842),\n",
       " ('remaining', 0.693122923374176),\n",
       " ('them', 0.6923112273216248),\n",
       " ('another', 0.6922321319580078),\n",
       " ('produce', 0.6917703747749329),\n",
       " ('thereby', 0.6911428570747375),\n",
       " ('direct_contact', 0.6877452731132507),\n",
       " ('comprising', 0.6876722574234009),\n",
       " ('joining', 0.6823276281356812),\n",
       " ('german_translation', 0.6795724630355835),\n",
       " ('soldering', 0.6772563457489014),\n",
       " ('means', 0.675910472869873),\n",
       " ('around', 0.670886218547821),\n",
       " ('kind', 0.6703741550445557),\n",
       " ('longer', 0.669861912727356),\n",
       " ('two', 0.6692883372306824),\n",
       " ('copper', 0.6677036881446838),\n",
       " ('traditional', 0.667168915271759),\n",
       " ('finally', 0.6664632558822632),\n",
       " ('allows', 0.6647186279296875),\n",
       " ('other', 0.6647172570228577),\n",
       " ('terminal', 0.6643788814544678),\n",
       " ('bare', 0.6643465757369995),\n",
       " ('adjacent', 0.6632298827171326),\n",
       " ('since', 0.6631513833999634),\n",
       " ('copper_wire', 0.66229248046875),\n",
       " ('configured', 0.6619773507118225),\n",
       " ('times', 0.6613298654556274),\n",
       " ('sheet', 0.6600844860076904),\n",
       " ('overhang', 0.6594975590705872),\n",
       " ('similar', 0.6590744256973267),\n",
       " ('following', 0.6579235792160034),\n",
       " ('wire_wound', 0.656697690486908),\n",
       " ('respective', 0.6555627584457397),\n",
       " ('create', 0.6548928022384644),\n",
       " ('hairpin_technology', 0.6541532874107361),\n",
       " ('connected', 0.6532536149024963),\n",
       " ('distribution', 0.652654230594635),\n",
       " ('enough', 0.6523841023445129)]"
      ]
     },
     "execution_count": 26,
     "metadata": {},
     "output_type": "execute_result"
    }
   ],
   "source": [
    "w2v_model.wv.most_similar(positive=['welded'], negative=[], topn=70)"
   ]
  },
  {
   "cell_type": "code",
   "execution_count": 27,
   "metadata": {},
   "outputs": [
    {
     "data": {
      "text/plain": [
       "[('wires', 0.7508209347724915),\n",
       " ('welded', 0.7373716235160828),\n",
       " ('solder', 0.7259562015533447),\n",
       " ('wound', 0.7014212012290955),\n",
       " ('coil', 0.6941748261451721),\n",
       " ('enamelled', 0.6929832696914673),\n",
       " ('wrapped', 0.6914981007575989),\n",
       " ('run', 0.6870441436767578),\n",
       " ('remaining', 0.679210901260376),\n",
       " ('insulated', 0.6789180040359497),\n",
       " ('around', 0.6763735413551331),\n",
       " ('onto', 0.6760720014572144),\n",
       " ('enough', 0.6695355176925659),\n",
       " ('axis', 0.6687507629394531),\n",
       " ('bundle', 0.667152464389801),\n",
       " ('metal', 0.666033923625946),\n",
       " ('arc', 0.665939450263977),\n",
       " ('exposed', 0.6640917658805847),\n",
       " ('german_translation', 0.663135290145874),\n",
       " ('attach', 0.6613928079605103),\n",
       " ('insulated_copper', 0.6566066145896912),\n",
       " ('connectors', 0.6561359763145447),\n",
       " ('enamel', 0.6540720462799072),\n",
       " ('use', 0.6532922387123108),\n",
       " ('without', 0.6531565189361572),\n",
       " ('carry', 0.6527042388916016),\n",
       " ('strands', 0.6498891711235046),\n",
       " ('aluminum', 0.6489165425300598),\n",
       " ('way', 0.6465235948562622),\n",
       " ('wire_wound', 0.6464324593544006),\n",
       " ('gauge', 0.6441290974617004),\n",
       " ('involves', 0.6429514288902283),\n",
       " ('created', 0.6407302021980286),\n",
       " ('away', 0.6400214433670044),\n",
       " ('together', 0.6383057832717896),\n",
       " ('coils', 0.6374635696411133),\n",
       " ('easy', 0.635765016078949),\n",
       " ('automatically', 0.6349759697914124),\n",
       " ('ends', 0.6315321922302246),\n",
       " ('bobbin', 0.6310861706733704),\n",
       " ('insulate', 0.6302642226219177),\n",
       " ('high_temperature', 0.6299266815185547),\n",
       " ('advantages', 0.6293622851371765),\n",
       " ('bare', 0.6291758418083191),\n",
       " ('windings', 0.6284494996070862),\n",
       " ('prevent', 0.6272154450416565),\n",
       " ('configured', 0.6263396739959717),\n",
       " ('made', 0.6238040328025818),\n",
       " ('leads', 0.6237286329269409),\n",
       " ('ing', 0.6219503283500671),\n",
       " ('copper_wire', 0.621860921382904),\n",
       " ('making', 0.6217893362045288),\n",
       " ('comprising', 0.6211334466934204),\n",
       " ('black', 0.6201751828193665),\n",
       " ('flat_copper', 0.6196070313453674),\n",
       " ('lead_wires', 0.6187529563903809),\n",
       " ('two_phases', 0.6162298917770386),\n",
       " ('produce', 0.6156069040298462),\n",
       " ('thin', 0.6147266626358032),\n",
       " ('create', 0.6146852374076843),\n",
       " ('one', 0.6142817139625549),\n",
       " ('tooth', 0.6142505407333374),\n",
       " ('along', 0.61182701587677),\n",
       " ('ive', 0.6108702421188354),\n",
       " ('contacting', 0.6107950806617737),\n",
       " ('difficult', 0.6107197999954224),\n",
       " ('solid', 0.610625147819519),\n",
       " ('following', 0.6104177236557007),\n",
       " ('piece', 0.6102861762046814),\n",
       " ('would', 0.6096985340118408)]"
      ]
     },
     "execution_count": 27,
     "metadata": {},
     "output_type": "execute_result"
    }
   ],
   "source": [
    "w2v_model.wv.most_similar(positive=['wire'], negative=[], topn=70)"
   ]
  },
  {
   "cell_type": "code",
   "execution_count": 28,
   "metadata": {},
   "outputs": [],
   "source": [
    "def tsnescatterplot(model, words_list, list_names):\n",
    "    \"\"\" Plot in seaborn the results from the t-SNE dimensionality reduction algorithm of the vectors of a query word,\n",
    "    its list of most similar words, and a list of words.\n",
    "    \"\"\"\n",
    "    arrays = np.empty((0, 300), dtype='f')\n",
    "    word_labels = words_list\n",
    "    color_list  = ['red']\n",
    "    for i in words_list:\n",
    "        color_list.append('red')\n",
    "    color_list.pop()\n",
    "\n",
    "    # adds the vector of the query word\n",
    "    for i in words_list:\n",
    "        arrays = np.append(arrays, model.wv.__getitem__([i]), axis=0)\n",
    "    \n",
    "    # gets list of most similar words\n",
    "    close_words = model.wv.most_similar(positive=words_list, negative=[], topn=22)\n",
    "    \n",
    "    # adds the vector for each of the closest words to the array\n",
    "    for wrd_score in close_words:\n",
    "        wrd_vector = model.wv.__getitem__([wrd_score[0]])\n",
    "        word_labels.append(wrd_score[0])\n",
    "        color_list.append('blue')\n",
    "        arrays = np.append(arrays, wrd_vector, axis=0)\n",
    "    \n",
    "    # adds the vector for each of the words from list_names to the array\n",
    "    for wrd in list_names:\n",
    "        wrd_vector = model.wv.__getitem__([wrd])\n",
    "        word_labels.append(wrd)\n",
    "        color_list.append('green')\n",
    "        arrays = np.append(arrays, wrd_vector, axis=0)\n",
    "        \n",
    "    # Reduces the dimensionality from 300 to 29 dimensions with PCA\n",
    "    reduc = PCA(n_components=30).fit_transform(arrays)\n",
    "    \n",
    "    # Finds t-SNE coordinates for 2 dimensions\n",
    "    np.set_printoptions(suppress=True)\n",
    "    \n",
    "    Y = TSNE(n_components=2, random_state=0, perplexity=23).fit_transform(reduc)\n",
    "    \n",
    "    # Sets everything up to plot\n",
    "    df = pd.DataFrame({'x': [x for x in Y[:, 0]],\n",
    "                       'y': [y for y in Y[:, 1]],\n",
    "                       'words': word_labels,\n",
    "                       'color': color_list})\n",
    "    \n",
    "    fig, _ = plt.subplots()\n",
    "    fig.set_size_inches(6, 6)\n",
    "    \n",
    "    # Basic plot\n",
    "    p1 = sns.regplot(data=df,\n",
    "                     x=\"x\",\n",
    "                     y=\"y\",\n",
    "                     fit_reg=False,\n",
    "                     marker=\"o\",\n",
    "                     scatter_kws={'s': 10,\n",
    "                                  'facecolors': df['color']\n",
    "                                 }\n",
    "                    )\n",
    "    \n",
    "    # Adds annotations one by one with a loop\n",
    "    for line in range(0, df.shape[0]):\n",
    "         p1.text(df[\"x\"][line],\n",
    "                 df['y'][line],\n",
    "                 '  ' + df[\"words\"][line].title(),\n",
    "                 horizontalalignment='left',\n",
    "                 verticalalignment='bottom', size='medium',\n",
    "                 color=df['color'][line],\n",
    "                 weight='normal'\n",
    "                ).set_size(7)\n",
    "\n",
    "    \n",
    "    plt.xlim(Y[:, 0].min()-0.5, Y[:, 0].max()+0.5)\n",
    "    plt.ylim(Y[:, 1].min()-0.5, Y[:, 1].max()+0.5)\n",
    "            \n",
    "    plt.title('t-SNE visualization')"
   ]
  },
  {
   "cell_type": "markdown",
   "metadata": {},
   "source": [
    "Visualize similar words to 'wire'."
   ]
  },
  {
   "cell_type": "code",
   "execution_count": 29,
   "metadata": {},
   "outputs": [
    {
     "name": "stderr",
     "output_type": "stream",
     "text": [
      "C:\\Users\\Sereb\\AppData\\Local\\Packages\\PythonSoftwareFoundation.Python.3.9_qbz5n2kfra8p0\\LocalCache\\local-packages\\Python39\\site-packages\\joblib\\externals\\loky\\backend\\context.py:136: UserWarning: Could not find the number of physical cores for the following reason:\n",
      "found 0 physical cores < 1\n",
      "Returning the number of logical cores instead. You can silence this warning by setting LOKY_MAX_CPU_COUNT to the number of cores you want to use.\n",
      "  warnings.warn(\n",
      "  File \"C:\\Users\\Sereb\\AppData\\Local\\Packages\\PythonSoftwareFoundation.Python.3.9_qbz5n2kfra8p0\\LocalCache\\local-packages\\Python39\\site-packages\\joblib\\externals\\loky\\backend\\context.py\", line 282, in _count_physical_cores\n",
      "    raise ValueError(f\"found {cpu_count_physical} physical cores < 1\")\n"
     ]
    },
    {
     "data": {
      "image/png": "[encoded data removed]",
      "text/plain": [
       "<Figure size 600x600 with 1 Axes>"
      ]
     },
     "metadata": {},
     "output_type": "display_data"
    }
   ],
   "source": [
    "tsnescatterplot(w2v_model, ['welded', 'solder', 'wire'], ['characteristics', 'yellow', 'avoid', 'cwieme', 'parallel_connection', 'remove', 'quality'])"
   ]
  },
  {
   "cell_type": "code",
   "execution_count": 30,
   "metadata": {},
   "outputs": [
    {
     "data": {
      "text/plain": [
       "[('solder', 0.8394643068313599),\n",
       " ('wires', 0.8008716702461243),\n",
       " ('arc', 0.7890554666519165),\n",
       " ('along', 0.7880409359931946),\n",
       " ('together', 0.7859266400337219),\n",
       " ('wrapped', 0.7842531800270081),\n",
       " ('insulated', 0.77205890417099),\n",
       " ('enamel', 0.7698928117752075),\n",
       " ('ends', 0.7683790922164917),\n",
       " ('without', 0.763884425163269),\n",
       " ('remaining', 0.7611730098724365),\n",
       " ('attachment', 0.759920060634613),\n",
       " ('bundle', 0.7585831880569458),\n",
       " ('comprising', 0.7537598609924316),\n",
       " ('exposed', 0.7517839074134827),\n",
       " ('mechanically', 0.7515256404876709),\n",
       " ('german_translation', 0.7502238750457764),\n",
       " ('configured', 0.74297696352005),\n",
       " ('ing', 0.7424217462539673),\n",
       " ('high_temperature', 0.7420583367347717),\n",
       " ('strands', 0.7404099106788635),\n",
       " ('without_contacting', 0.7400724291801453),\n",
       " ('side', 0.7340613603591919),\n",
       " ('bad', 0.7310453057289124),\n",
       " ('two', 0.727794885635376),\n",
       " ('electrically', 0.726982831954956),\n",
       " ('respective', 0.7268436551094055),\n",
       " ('them', 0.7262994647026062),\n",
       " ('aluminum', 0.7262932658195496),\n",
       " ('around', 0.7258221507072449),\n",
       " ('following', 0.7255659699440002),\n",
       " ('lead_wires', 0.7248871326446533),\n",
       " ('insulated_copper', 0.7229751944541931),\n",
       " ('soldering', 0.7211573719978333),\n",
       " ('another', 0.720371663570404),\n",
       " ('wound', 0.7188451886177063),\n",
       " ('enough', 0.7175986170768738),\n",
       " ('connected', 0.7168086171150208),\n",
       " ('solid', 0.7165778279304504),\n",
       " ('allows', 0.7163562774658203),\n",
       " ('other', 0.713959813117981),\n",
       " ('one', 0.7126086354255676),\n",
       " ('modules', 0.7113275527954102),\n",
       " ('tooth', 0.7109096050262451),\n",
       " ('welding', 0.7100828886032104),\n",
       " ('thereby', 0.7080023288726807),\n",
       " ('produce', 0.7076791524887085),\n",
       " ('points', 0.7064528465270996),\n",
       " ('way', 0.7060116529464722),\n",
       " ('bare', 0.7058389782905579),\n",
       " ('direct_contact', 0.7056273221969604),\n",
       " ('prevent', 0.7032272219657898),\n",
       " ('overhang', 0.6999620199203491),\n",
       " ('two_phases', 0.6989368796348572),\n",
       " ('thin', 0.698745846748352),\n",
       " ('body', 0.6979015469551086),\n",
       " ('create', 0.6938103437423706),\n",
       " ('enamelled', 0.6933691501617432),\n",
       " ('run', 0.6932408809661865),\n",
       " ('axis', 0.6919218301773071),\n",
       " ('plastic', 0.6916202902793884),\n",
       " ('involves', 0.6901496052742004),\n",
       " ('entire', 0.689349353313446),\n",
       " ('insert', 0.689304530620575),\n",
       " ('gear', 0.6867725849151611),\n",
       " ('comes', 0.6848230361938477),\n",
       " ('finally', 0.6846102476119995),\n",
       " ('wire_wound', 0.6844228506088257),\n",
       " ('sheet', 0.684066116809845),\n",
       " ('metal', 0.6839816570281982)]"
      ]
     },
     "execution_count": 30,
     "metadata": {},
     "output_type": "execute_result"
    }
   ],
   "source": [
    "w2v_model.wv.most_similar(positive=['welded', 'wire', 'connectors'], negative=[], topn=70)"
   ]
  },
  {
   "cell_type": "code",
   "execution_count": 31,
   "metadata": {},
   "outputs": [
    {
     "data": {
      "image/png": "[encoded data removed]",
      "text/plain": [
       "<Figure size 600x600 with 1 Axes>"
      ]
     },
     "metadata": {},
     "output_type": "display_data"
    }
   ],
   "source": [
    "tsnescatterplot(w2v_model, ['welded', 'wire', 'connectors'], ['characteristics', 'yellow', 'avoid', 'cwieme', 'parallel_connection', 'remove', 'quality'])"
   ]
  },
  {
   "cell_type": "markdown",
   "metadata": {},
   "source": [
    "<a id=\"3\"></a>\n",
    "## Word2vec for finding most similar articles to a word\n",
    "[Back to the top](#0)"
   ]
  },
  {
   "cell_type": "code",
   "execution_count": 32,
   "metadata": {},
   "outputs": [
    {
     "data": {
      "text/html": [
       "<div>\n",
       "<style scoped>\n",
       "    .dataframe tbody tr th:only-of-type {\n",
       "        vertical-align: middle;\n",
       "    }\n",
       "\n",
       "    .dataframe tbody tr th {\n",
       "        vertical-align: top;\n",
       "    }\n",
       "\n",
       "    .dataframe thead th {\n",
       "        text-align: right;\n",
       "    }\n",
       "</style>\n",
       "<table border=\"1\" class=\"dataframe\">\n",
       "  <thead>\n",
       "    <tr style=\"text-align: right;\">\n",
       "      <th></th>\n",
       "      <th>title</th>\n",
       "      <th>link</th>\n",
       "      <th>displayed_link</th>\n",
       "      <th>snippet</th>\n",
       "      <th>keywords</th>\n",
       "      <th>position</th>\n",
       "      <th>language</th>\n",
       "      <th>timestamp</th>\n",
       "      <th>title_cleaned</th>\n",
       "      <th>snippet_cleaned</th>\n",
       "    </tr>\n",
       "  </thead>\n",
       "  <tbody>\n",
       "    <tr>\n",
       "      <th>0</th>\n",
       "      <td>Hairpin-Technologie</td>\n",
       "      <td>https://de.wikipedia.org/wiki/Hairpin-Technologie</td>\n",
       "      <td>https://de.wikipedia.org</td>\n",
       "      <td>... Kontaktieren von Statoren für elektrische ...</td>\n",
       "      <td>stator wicklung \"kontaktieren\" -\"kontaktieren ...</td>\n",
       "      <td>1</td>\n",
       "      <td>de</td>\n",
       "      <td>04/04/2024 17:14</td>\n",
       "      <td>hairpintechnologie</td>\n",
       "      <td>kontaktieren statoren elektrische antriebe fap...</td>\n",
       "    </tr>\n",
       "    <tr>\n",
       "      <th>1</th>\n",
       "      <td>EP2858212B1 - Wickelverfahren für eine Statorw...</td>\n",
       "      <td>https://patents.google.com/patent/EP2858212B1/de</td>\n",
       "      <td>https://patents.google.com</td>\n",
       "      <td>[0006]. Insbesondere das Verbinden der Leiterd...</td>\n",
       "      <td>stator wicklung elektrisch draht spule phase \"...</td>\n",
       "      <td>1</td>\n",
       "      <td>de</td>\n",
       "      <td>04/04/2024 17:14</td>\n",
       "      <td>epb wickelverfahren statorwicklung</td>\n",
       "      <td>insbesondere verbinden leiterdrähte einzelnen ...</td>\n",
       "    </tr>\n",
       "    <tr>\n",
       "      <th>2</th>\n",
       "      <td>DE10321956A1 - Hairpin wound stator for electr...</td>\n",
       "      <td>https://patents.google.com/patent/DE10321956A1/en</td>\n",
       "      <td>https://patents.google.com</td>\n",
       "      <td>... verbinden. Ein Prototyp dieser Technologie...</td>\n",
       "      <td>stator wicklung draht spule phase \"verbinden\" ...</td>\n",
       "      <td>1</td>\n",
       "      <td>de</td>\n",
       "      <td>04/04/2024 17:14</td>\n",
       "      <td>dea hairpin wound stator for electric machine</td>\n",
       "      <td>verbinden prototyp technologie wicklung phase ...</td>\n",
       "    </tr>\n",
       "    <tr>\n",
       "      <th>3</th>\n",
       "      <td>Stator und Verfahren zur Herstellung eines Sta...</td>\n",
       "      <td>https://patents.google.com/patent/DE1020191113...</td>\n",
       "      <td>https://patents.google.com</td>\n",
       "      <td>Zur Kontaktierung ist eine Kontakteinrichtung ...</td>\n",
       "      <td>stator wicklung draht spule wicklungsende phas...</td>\n",
       "      <td>1</td>\n",
       "      <td>de</td>\n",
       "      <td>04/04/2024 17:14</td>\n",
       "      <td>stator verfahren herstellung stators</td>\n",
       "      <td>kontaktierung kontakteinrichtung stirnseitig s...</td>\n",
       "    </tr>\n",
       "    <tr>\n",
       "      <th>4</th>\n",
       "      <td>risomat - Prozesse</td>\n",
       "      <td>https://www.risomat.de/prozesse/</td>\n",
       "      <td>https://www.risomat.de</td>\n",
       "      <td>Für das Wickeln von Spulen für Stator-und Roto...</td>\n",
       "      <td>stator wicklung \"kontaktieren\" -\"kontaktieren ...</td>\n",
       "      <td>1</td>\n",
       "      <td>de</td>\n",
       "      <td>04/04/2024 17:14</td>\n",
       "      <td>risomat prozesse</td>\n",
       "      <td>wickeln spulen statorund rotorwicklungen kommt...</td>\n",
       "    </tr>\n",
       "  </tbody>\n",
       "</table>\n",
       "</div>"
      ],
      "text/plain": [
       "                                               title  \\\n",
       "0                                Hairpin-Technologie   \n",
       "1  EP2858212B1 - Wickelverfahren für eine Statorw...   \n",
       "2  DE10321956A1 - Hairpin wound stator for electr...   \n",
       "3  Stator und Verfahren zur Herstellung eines Sta...   \n",
       "4                                 risomat - Prozesse   \n",
       "\n",
       "                                                link  \\\n",
       "0  https://de.wikipedia.org/wiki/Hairpin-Technologie   \n",
       "1   https://patents.google.com/patent/EP2858212B1/de   \n",
       "2  https://patents.google.com/patent/DE10321956A1/en   \n",
       "3  https://patents.google.com/patent/DE1020191113...   \n",
       "4                   https://www.risomat.de/prozesse/   \n",
       "\n",
       "               displayed_link  \\\n",
       "0    https://de.wikipedia.org   \n",
       "1  https://patents.google.com   \n",
       "2  https://patents.google.com   \n",
       "3  https://patents.google.com   \n",
       "4      https://www.risomat.de   \n",
       "\n",
       "                                             snippet  \\\n",
       "0  ... Kontaktieren von Statoren für elektrische ...   \n",
       "1  [0006]. Insbesondere das Verbinden der Leiterd...   \n",
       "2  ... verbinden. Ein Prototyp dieser Technologie...   \n",
       "3  Zur Kontaktierung ist eine Kontakteinrichtung ...   \n",
       "4  Für das Wickeln von Spulen für Stator-und Roto...   \n",
       "\n",
       "                                            keywords  position language  \\\n",
       "0  stator wicklung \"kontaktieren\" -\"kontaktieren ...         1       de   \n",
       "1  stator wicklung elektrisch draht spule phase \"...         1       de   \n",
       "2  stator wicklung draht spule phase \"verbinden\" ...         1       de   \n",
       "3  stator wicklung draht spule wicklungsende phas...         1       de   \n",
       "4  stator wicklung \"kontaktieren\" -\"kontaktieren ...         1       de   \n",
       "\n",
       "          timestamp                                  title_cleaned  \\\n",
       "0  04/04/2024 17:14                             hairpintechnologie   \n",
       "1  04/04/2024 17:14             epb wickelverfahren statorwicklung   \n",
       "2  04/04/2024 17:14  dea hairpin wound stator for electric machine   \n",
       "3  04/04/2024 17:14           stator verfahren herstellung stators   \n",
       "4  04/04/2024 17:14                               risomat prozesse   \n",
       "\n",
       "                                     snippet_cleaned  \n",
       "0  kontaktieren statoren elektrische antriebe fap...  \n",
       "1  insbesondere verbinden leiterdrähte einzelnen ...  \n",
       "2  verbinden prototyp technologie wicklung phase ...  \n",
       "3  kontaktierung kontakteinrichtung stirnseitig s...  \n",
       "4  wickeln spulen statorund rotorwicklungen kommt...  "
      ]
     },
     "execution_count": 32,
     "metadata": {},
     "output_type": "execute_result"
    }
   ],
   "source": [
    "data_google.head()"
   ]
  },
  {
   "cell_type": "code",
   "execution_count": 33,
   "metadata": {},
   "outputs": [
    {
     "data": {
      "text/plain": [
       "(8174, 10)"
      ]
     },
     "execution_count": 33,
     "metadata": {},
     "output_type": "execute_result"
    }
   ],
   "source": [
    "data_google.shape"
   ]
  },
  {
   "cell_type": "markdown",
   "metadata": {},
   "source": [
    "Concatenate cleaned title and snippet in `full_data_cleaned` column."
   ]
  },
  {
   "cell_type": "code",
   "execution_count": 34,
   "metadata": {},
   "outputs": [],
   "source": [
    "data_google['full_data_cleaned'] = data_google['title_cleaned'] + ' ' + data_google['snippet_cleaned']"
   ]
  },
  {
   "cell_type": "code",
   "execution_count": 35,
   "metadata": {},
   "outputs": [
    {
     "data": {
      "text/html": [
       "<div>\n",
       "<style scoped>\n",
       "    .dataframe tbody tr th:only-of-type {\n",
       "        vertical-align: middle;\n",
       "    }\n",
       "\n",
       "    .dataframe tbody tr th {\n",
       "        vertical-align: top;\n",
       "    }\n",
       "\n",
       "    .dataframe thead th {\n",
       "        text-align: right;\n",
       "    }\n",
       "</style>\n",
       "<table border=\"1\" class=\"dataframe\">\n",
       "  <thead>\n",
       "    <tr style=\"text-align: right;\">\n",
       "      <th></th>\n",
       "      <th>title</th>\n",
       "      <th>link</th>\n",
       "      <th>displayed_link</th>\n",
       "      <th>snippet</th>\n",
       "      <th>keywords</th>\n",
       "      <th>position</th>\n",
       "      <th>language</th>\n",
       "      <th>timestamp</th>\n",
       "      <th>title_cleaned</th>\n",
       "      <th>snippet_cleaned</th>\n",
       "      <th>full_data_cleaned</th>\n",
       "    </tr>\n",
       "  </thead>\n",
       "  <tbody>\n",
       "    <tr>\n",
       "      <th>0</th>\n",
       "      <td>Hairpin-Technologie</td>\n",
       "      <td>https://de.wikipedia.org/wiki/Hairpin-Technologie</td>\n",
       "      <td>https://de.wikipedia.org</td>\n",
       "      <td>... Kontaktieren von Statoren für elektrische ...</td>\n",
       "      <td>stator wicklung \"kontaktieren\" -\"kontaktieren ...</td>\n",
       "      <td>1</td>\n",
       "      <td>de</td>\n",
       "      <td>04/04/2024 17:14</td>\n",
       "      <td>hairpintechnologie</td>\n",
       "      <td>kontaktieren statoren elektrische antriebe fap...</td>\n",
       "      <td>hairpintechnologie kontaktieren statoren elekt...</td>\n",
       "    </tr>\n",
       "    <tr>\n",
       "      <th>1</th>\n",
       "      <td>EP2858212B1 - Wickelverfahren für eine Statorw...</td>\n",
       "      <td>https://patents.google.com/patent/EP2858212B1/de</td>\n",
       "      <td>https://patents.google.com</td>\n",
       "      <td>[0006]. Insbesondere das Verbinden der Leiterd...</td>\n",
       "      <td>stator wicklung elektrisch draht spule phase \"...</td>\n",
       "      <td>1</td>\n",
       "      <td>de</td>\n",
       "      <td>04/04/2024 17:14</td>\n",
       "      <td>epb wickelverfahren statorwicklung</td>\n",
       "      <td>insbesondere verbinden leiterdrähte einzelnen ...</td>\n",
       "      <td>epb wickelverfahren statorwicklung insbesonder...</td>\n",
       "    </tr>\n",
       "    <tr>\n",
       "      <th>2</th>\n",
       "      <td>DE10321956A1 - Hairpin wound stator for electr...</td>\n",
       "      <td>https://patents.google.com/patent/DE10321956A1/en</td>\n",
       "      <td>https://patents.google.com</td>\n",
       "      <td>... verbinden. Ein Prototyp dieser Technologie...</td>\n",
       "      <td>stator wicklung draht spule phase \"verbinden\" ...</td>\n",
       "      <td>1</td>\n",
       "      <td>de</td>\n",
       "      <td>04/04/2024 17:14</td>\n",
       "      <td>dea hairpin wound stator for electric machine</td>\n",
       "      <td>verbinden prototyp technologie wicklung phase ...</td>\n",
       "      <td>dea hairpin wound stator for electric machine ...</td>\n",
       "    </tr>\n",
       "    <tr>\n",
       "      <th>3</th>\n",
       "      <td>Stator und Verfahren zur Herstellung eines Sta...</td>\n",
       "      <td>https://patents.google.com/patent/DE1020191113...</td>\n",
       "      <td>https://patents.google.com</td>\n",
       "      <td>Zur Kontaktierung ist eine Kontakteinrichtung ...</td>\n",
       "      <td>stator wicklung draht spule wicklungsende phas...</td>\n",
       "      <td>1</td>\n",
       "      <td>de</td>\n",
       "      <td>04/04/2024 17:14</td>\n",
       "      <td>stator verfahren herstellung stators</td>\n",
       "      <td>kontaktierung kontakteinrichtung stirnseitig s...</td>\n",
       "      <td>stator verfahren herstellung stators kontaktie...</td>\n",
       "    </tr>\n",
       "    <tr>\n",
       "      <th>4</th>\n",
       "      <td>risomat - Prozesse</td>\n",
       "      <td>https://www.risomat.de/prozesse/</td>\n",
       "      <td>https://www.risomat.de</td>\n",
       "      <td>Für das Wickeln von Spulen für Stator-und Roto...</td>\n",
       "      <td>stator wicklung \"kontaktieren\" -\"kontaktieren ...</td>\n",
       "      <td>1</td>\n",
       "      <td>de</td>\n",
       "      <td>04/04/2024 17:14</td>\n",
       "      <td>risomat prozesse</td>\n",
       "      <td>wickeln spulen statorund rotorwicklungen kommt...</td>\n",
       "      <td>risomat prozesse wickeln spulen statorund roto...</td>\n",
       "    </tr>\n",
       "  </tbody>\n",
       "</table>\n",
       "</div>"
      ],
      "text/plain": [
       "                                               title  \\\n",
       "0                                Hairpin-Technologie   \n",
       "1  EP2858212B1 - Wickelverfahren für eine Statorw...   \n",
       "2  DE10321956A1 - Hairpin wound stator for electr...   \n",
       "3  Stator und Verfahren zur Herstellung eines Sta...   \n",
       "4                                 risomat - Prozesse   \n",
       "\n",
       "                                                link  \\\n",
       "0  https://de.wikipedia.org/wiki/Hairpin-Technologie   \n",
       "1   https://patents.google.com/patent/EP2858212B1/de   \n",
       "2  https://patents.google.com/patent/DE10321956A1/en   \n",
       "3  https://patents.google.com/patent/DE1020191113...   \n",
       "4                   https://www.risomat.de/prozesse/   \n",
       "\n",
       "               displayed_link  \\\n",
       "0    https://de.wikipedia.org   \n",
       "1  https://patents.google.com   \n",
       "2  https://patents.google.com   \n",
       "3  https://patents.google.com   \n",
       "4      https://www.risomat.de   \n",
       "\n",
       "                                             snippet  \\\n",
       "0  ... Kontaktieren von Statoren für elektrische ...   \n",
       "1  [0006]. Insbesondere das Verbinden der Leiterd...   \n",
       "2  ... verbinden. Ein Prototyp dieser Technologie...   \n",
       "3  Zur Kontaktierung ist eine Kontakteinrichtung ...   \n",
       "4  Für das Wickeln von Spulen für Stator-und Roto...   \n",
       "\n",
       "                                            keywords  position language  \\\n",
       "0  stator wicklung \"kontaktieren\" -\"kontaktieren ...         1       de   \n",
       "1  stator wicklung elektrisch draht spule phase \"...         1       de   \n",
       "2  stator wicklung draht spule phase \"verbinden\" ...         1       de   \n",
       "3  stator wicklung draht spule wicklungsende phas...         1       de   \n",
       "4  stator wicklung \"kontaktieren\" -\"kontaktieren ...         1       de   \n",
       "\n",
       "          timestamp                                  title_cleaned  \\\n",
       "0  04/04/2024 17:14                             hairpintechnologie   \n",
       "1  04/04/2024 17:14             epb wickelverfahren statorwicklung   \n",
       "2  04/04/2024 17:14  dea hairpin wound stator for electric machine   \n",
       "3  04/04/2024 17:14           stator verfahren herstellung stators   \n",
       "4  04/04/2024 17:14                               risomat prozesse   \n",
       "\n",
       "                                     snippet_cleaned  \\\n",
       "0  kontaktieren statoren elektrische antriebe fap...   \n",
       "1  insbesondere verbinden leiterdrähte einzelnen ...   \n",
       "2  verbinden prototyp technologie wicklung phase ...   \n",
       "3  kontaktierung kontakteinrichtung stirnseitig s...   \n",
       "4  wickeln spulen statorund rotorwicklungen kommt...   \n",
       "\n",
       "                                   full_data_cleaned  \n",
       "0  hairpintechnologie kontaktieren statoren elekt...  \n",
       "1  epb wickelverfahren statorwicklung insbesonder...  \n",
       "2  dea hairpin wound stator for electric machine ...  \n",
       "3  stator verfahren herstellung stators kontaktie...  \n",
       "4  risomat prozesse wickeln spulen statorund roto...  "
      ]
     },
     "execution_count": 35,
     "metadata": {},
     "output_type": "execute_result"
    }
   ],
   "source": [
    "data_google.head()"
   ]
  },
  {
   "cell_type": "code",
   "execution_count": 36,
   "metadata": {},
   "outputs": [
    {
     "data": {
      "text/plain": [
       "['hairpintechnologie',\n",
       " 'kontaktieren',\n",
       " 'statoren',\n",
       " 'elektrische',\n",
       " 'antriebe',\n",
       " 'fapsfaude',\n",
       " 'abgerufen',\n",
       " 'juli',\n",
       " 'zuletzt',\n",
       " 'bearbeitet',\n",
       " 'monaten',\n",
       " 'sprachen',\n",
       " 'english']"
      ]
     },
     "execution_count": 36,
     "metadata": {},
     "output_type": "execute_result"
    }
   ],
   "source": [
    "data_google['full_data_cleaned'][0].split()"
   ]
  },
  {
   "cell_type": "markdown",
   "metadata": {},
   "source": [
    "Get rid of words which are not included in the model vocabulary."
   ]
  },
  {
   "cell_type": "code",
   "execution_count": 37,
   "metadata": {},
   "outputs": [],
   "source": [
    "def unique(list1):\n",
    " \n",
    "    # initialize a null list\n",
    "    unique_list = []\n",
    " \n",
    "    # traverse for all elements\n",
    "    for x in list1:\n",
    "        # check if exists in unique_list or not\n",
    "        if x not in unique_list:\n",
    "            unique_list.append(x)\n",
    "    \n",
    "    return unique_list"
   ]
  },
  {
   "cell_type": "code",
   "execution_count": 38,
   "metadata": {},
   "outputs": [
    {
     "data": {
      "text/plain": [
       "23998"
      ]
     },
     "execution_count": 38,
     "metadata": {},
     "output_type": "execute_result"
    }
   ],
   "source": [
    "list_all = ' '.join([i for i in data_google['full_data_cleaned']]).split()\n",
    "len(unique(list_all))"
   ]
  },
  {
   "cell_type": "code",
   "execution_count": 39,
   "metadata": {},
   "outputs": [
    {
     "data": {
      "text/plain": [
       "2049"
      ]
     },
     "execution_count": 39,
     "metadata": {},
     "output_type": "execute_result"
    }
   ],
   "source": [
    "list_correct = list(w2v_model.wv.index_to_key)\n",
    "len(list_correct)"
   ]
  },
  {
   "cell_type": "code",
   "execution_count": 40,
   "metadata": {},
   "outputs": [
    {
     "data": {
      "text/plain": [
       "22187"
      ]
     },
     "execution_count": 40,
     "metadata": {},
     "output_type": "execute_result"
    }
   ],
   "source": [
    "remove_words = list(set(list_all).difference(list_correct))\n",
    "len(remove_words)"
   ]
  },
  {
   "cell_type": "code",
   "execution_count": 41,
   "metadata": {},
   "outputs": [],
   "source": [
    "pat = r'\\b(?:{})\\b'.format('|'.join(remove_words))\n",
    "data_google['full_data_cleaned'] = data_google['full_data_cleaned'].replace(to_replace =pat, value = '', regex = True)"
   ]
  },
  {
   "cell_type": "code",
   "execution_count": 42,
   "metadata": {},
   "outputs": [
    {
     "data": {
      "text/plain": [
       "8174"
      ]
     },
     "execution_count": 42,
     "metadata": {},
     "output_type": "execute_result"
    }
   ],
   "source": [
    "len(data_google['full_data_cleaned'])"
   ]
  },
  {
   "cell_type": "markdown",
   "metadata": {},
   "source": [
    "Remove rows with blank `full_data_cleaned` column."
   ]
  },
  {
   "cell_type": "code",
   "execution_count": 43,
   "metadata": {},
   "outputs": [
    {
     "data": {
      "text/html": [
       "<div>\n",
       "<style scoped>\n",
       "    .dataframe tbody tr th:only-of-type {\n",
       "        vertical-align: middle;\n",
       "    }\n",
       "\n",
       "    .dataframe tbody tr th {\n",
       "        vertical-align: top;\n",
       "    }\n",
       "\n",
       "    .dataframe thead th {\n",
       "        text-align: right;\n",
       "    }\n",
       "</style>\n",
       "<table border=\"1\" class=\"dataframe\">\n",
       "  <thead>\n",
       "    <tr style=\"text-align: right;\">\n",
       "      <th></th>\n",
       "      <th>title</th>\n",
       "      <th>link</th>\n",
       "      <th>displayed_link</th>\n",
       "      <th>snippet</th>\n",
       "      <th>keywords</th>\n",
       "      <th>position</th>\n",
       "      <th>language</th>\n",
       "      <th>timestamp</th>\n",
       "      <th>title_cleaned</th>\n",
       "      <th>snippet_cleaned</th>\n",
       "      <th>full_data_cleaned</th>\n",
       "    </tr>\n",
       "  </thead>\n",
       "  <tbody>\n",
       "    <tr>\n",
       "      <th>3320</th>\n",
       "      <td>Springorum-Denkmünze</td>\n",
       "      <td>https://prorwth.de/de/projekte-und-aktivitaete...</td>\n",
       "      <td>https://prorwth.de</td>\n",
       "      <td>Anfangsfestes Fügen als Kontaktierungsvorberei...</td>\n",
       "      <td>stator wicklung phase \"kontaktierung\" technologie</td>\n",
       "      <td>88</td>\n",
       "      <td>de</td>\n",
       "      <td>04/04/2024 17:14</td>\n",
       "      <td>springorumdenkmünze</td>\n",
       "      <td>anfangsfestes fügen kontaktierungsvorbereitung...</td>\n",
       "      <td></td>\n",
       "    </tr>\n",
       "  </tbody>\n",
       "</table>\n",
       "</div>"
      ],
      "text/plain": [
       "                     title                                               link  \\\n",
       "3320  Springorum-Denkmünze  https://prorwth.de/de/projekte-und-aktivitaete...   \n",
       "\n",
       "          displayed_link                                            snippet  \\\n",
       "3320  https://prorwth.de  Anfangsfestes Fügen als Kontaktierungsvorberei...   \n",
       "\n",
       "                                               keywords  position language  \\\n",
       "3320  stator wicklung phase \"kontaktierung\" technologie        88       de   \n",
       "\n",
       "             timestamp        title_cleaned  \\\n",
       "3320  04/04/2024 17:14  springorumdenkmünze   \n",
       "\n",
       "                                        snippet_cleaned full_data_cleaned  \n",
       "3320  anfangsfestes fügen kontaktierungsvorbereitung...                    "
      ]
     },
     "execution_count": 43,
     "metadata": {},
     "output_type": "execute_result"
    }
   ],
   "source": [
    "data_google[data_google['full_data_cleaned'].str.isspace()]"
   ]
  },
  {
   "cell_type": "code",
   "execution_count": 44,
   "metadata": {},
   "outputs": [],
   "source": [
    "data_google = data_google[~data_google['full_data_cleaned'].str.isspace()]"
   ]
  },
  {
   "cell_type": "code",
   "execution_count": 45,
   "metadata": {},
   "outputs": [
    {
     "data": {
      "text/plain": [
       "8173"
      ]
     },
     "execution_count": 45,
     "metadata": {},
     "output_type": "execute_result"
    }
   ],
   "source": [
    "len(data_google)"
   ]
  },
  {
   "cell_type": "code",
   "execution_count": 46,
   "metadata": {},
   "outputs": [],
   "source": [
    "data_google.reset_index(drop=True, inplace=True)"
   ]
  },
  {
   "cell_type": "markdown",
   "metadata": {},
   "source": [
    "Create a vector of mean vectors for each row of `full_data_cleaned` column."
   ]
  },
  {
   "cell_type": "code",
   "execution_count": 47,
   "metadata": {},
   "outputs": [],
   "source": [
    "vectors_list = []\n",
    "for i in range(len(data_google['full_data_cleaned'])):\n",
    "    vectors_list.append(w2v_model.wv.get_mean_vector(data_google['full_data_cleaned'][i].split(), weights=None, pre_normalize=True, post_normalize=True, ignore_missing=False))"
   ]
  },
  {
   "cell_type": "code",
   "execution_count": 48,
   "metadata": {},
   "outputs": [
    {
     "data": {
      "text/plain": [
       "8173"
      ]
     },
     "execution_count": 48,
     "metadata": {},
     "output_type": "execute_result"
    }
   ],
   "source": [
    "len(vectors_list)"
   ]
  },
  {
   "cell_type": "code",
   "execution_count": 49,
   "metadata": {},
   "outputs": [
    {
     "data": {
      "text/plain": [
       "300"
      ]
     },
     "execution_count": 49,
     "metadata": {},
     "output_type": "execute_result"
    }
   ],
   "source": [
    "sum(vectors_list[0] == w2v_model.wv.get_mean_vector(data_google['full_data_cleaned'][0].split(), weights=None, pre_normalize=True, post_normalize=True, ignore_missing=False))"
   ]
  },
  {
   "cell_type": "markdown",
   "metadata": {},
   "source": [
    "Find most similar articles to the word or sequence of words."
   ]
  },
  {
   "cell_type": "code",
   "execution_count": 50,
   "metadata": {},
   "outputs": [],
   "source": [
    "def most_similar_texts(model, data, vectors, search, topn=10):\n",
    "    mean = model.wv.get_mean_vector(search, weights=None, pre_normalize=True, post_normalize=True, ignore_missing=False)\n",
    "    dists = np.dot(vectors, mean) / np.linalg.norm(vectors, axis=1)\n",
    "    if not topn:\n",
    "        return dists\n",
    "    best = matutils.argsort(dists, topn=topn, reverse=True)\n",
    "    result = [\n",
    "            (sim, data['title'][sim], data['snippet'][sim], float(dists[sim])) for sim in best\n",
    "        ]\n",
    "    return result"
   ]
  },
  {
   "cell_type": "code",
   "execution_count": 51,
   "metadata": {},
   "outputs": [
    {
     "data": {
      "text/plain": [
       "[(4913,\n",
       "  'Bondable Magnet Wire',\n",
       "  'When the bond coat hardens, adjacent wires in direct contact with each other will be bonded together. Potential Advantages. Use of bondable wire allows coils to ...',\n",
       "  0.9140838384628296),\n",
       " (7553,\n",
       "  'Lucas 11AC AL terminal and charging questions - E-Type',\n",
       "  \"So I'm going to chop off the plastic connector block and attach new female connectors to the wire ends to ensure a secure connection I can ...\",\n",
       "  0.9083893299102783),\n",
       " (5912,\n",
       "  '4.8: Automotive Alternator',\n",
       "  'I recommend that you solder ring-lug terminals to your wires, and attach them underneath the terminal nuts along with the stator wire ends so ...',\n",
       "  0.906590461730957),\n",
       " (7491,\n",
       "  'What is the best way to insulate magnet wire from each ...',\n",
       "  'If you do not use the fixed lug then wrap the magnet wire around your connector wire solder the connection. Insulate the joint. Attach the ...',\n",
       "  0.8974007368087769),\n",
       " (5935,\n",
       "  'Spot welding of enamelled wires on stator',\n",
       "  'The enamelled copper wire needs to be reliably welded to the copper contact pin without removing the enamel in advance. Solution. The connection was created ...',\n",
       "  0.8948431015014648),\n",
       " (3759,\n",
       "  'Can I use soldered pieces of wires to make a coil?',\n",
       "  'You need to mechanically attach the wires in some fashion before soldering them. While wires merely laid side by side can be soldered together, ...',\n",
       "  0.8948224186897278),\n",
       " (3700,\n",
       "  'What is the best way to solder wires to copper windings ...',\n",
       "  'You need to mechanically attach the wires in some fashion before soldering them. While wires merely laid side by side can be soldered together, ...',\n",
       "  0.8945748209953308),\n",
       " (4782,\n",
       "  'Good way to connect two different gauge wires?',\n",
       "  'How different are the wire gages you are trying to connect? I like butt splice crimp connectors. Specifically the weatherproof ones. They have ...',\n",
       "  0.8928852677345276),\n",
       " (7868,\n",
       "  'Add \"W\" terminal wire to Bosch/Valeo serp-belt TDI alternator',\n",
       "  \"remove a few screws and you're looking at the stator windings ... wire end into it and re-crimp the winding ends. ... In the Vanagon, connect that wire to the solid ...\",\n",
       "  0.8919428586959839),\n",
       " (7839,\n",
       "  'Magnet Wire',\n",
       "  'Enamelled wire is used for wound coil of motor or transformer. ... Small welding method (connecting wire, lead wire connection) ... Wire stretching shall be ...',\n",
       "  0.8908796310424805)]"
      ]
     },
     "execution_count": 51,
     "metadata": {},
     "output_type": "execute_result"
    }
   ],
   "source": [
    "most_similar_texts(w2v_model, data_google, vectors_list, ['welded', 'wire', 'connectors'], topn=10)"
   ]
  },
  {
   "cell_type": "code",
   "execution_count": 52,
   "metadata": {},
   "outputs": [],
   "source": [
    "def Extract(lst):\n",
    "    return [item[0] for item in lst]"
   ]
  },
  {
   "cell_type": "code",
   "execution_count": 53,
   "metadata": {},
   "outputs": [
    {
     "data": {
      "text/plain": [
       "['Bondable Magnet Wire',\n",
       " 'Lucas 11AC AL terminal and charging questions - E-Type',\n",
       " '4.8: Automotive Alternator',\n",
       " 'What is the best way to insulate magnet wire from each ...',\n",
       " 'Spot welding of enamelled wires on stator',\n",
       " 'Can I use soldered pieces of wires to make a coil?',\n",
       " 'What is the best way to solder wires to copper windings ...',\n",
       " 'Good way to connect two different gauge wires?',\n",
       " 'Add \"W\" terminal wire to Bosch/Valeo serp-belt TDI alternator',\n",
       " 'Magnet Wire']"
      ]
     },
     "execution_count": 53,
     "metadata": {},
     "output_type": "execute_result"
    }
   ],
   "source": [
    "[item[1] for item in most_similar_texts(w2v_model, data_google, vectors_list, ['welded', 'wire', 'connectors'], topn=10)]"
   ]
  },
  {
   "cell_type": "code",
   "execution_count": 54,
   "metadata": {},
   "outputs": [
    {
     "data": {
      "text/plain": [
       "4913"
      ]
     },
     "execution_count": 54,
     "metadata": {},
     "output_type": "execute_result"
    }
   ],
   "source": [
    "most_similar_texts(w2v_model, data_google, vectors_list, ['welded', 'wire', 'connectors'], topn=10)[0][0]"
   ]
  },
  {
   "cell_type": "code",
   "execution_count": 55,
   "metadata": {},
   "outputs": [],
   "source": [
    "def tsnescatterplot_texts(vectors_list, model, most_similar_texts, words_list):\n",
    "    \"\"\" Plot in seaborn the results from the t-SNE dimensionality reduction algorithm of the vectors of a query word,\n",
    "    its list of most similar words, and a list of words.\n",
    "    \"\"\"\n",
    "    arrays = np.empty((0, 300), dtype='f')\n",
    "    word_labels = ['mean_vector']\n",
    "    color_list  = ['red']\n",
    "    #for i in words_list:\n",
    "     #   color_list.append('red')\n",
    "    #color_list.pop()\n",
    "    # adds the vector of the query word\n",
    "    #for i in words_list:\n",
    "     #   arrays = np.append(arrays, model.wv.__getitem__([i]), axis=0)\n",
    "    arrays = np.append(arrays, [model.wv.get_mean_vector(words_list, weights=None, pre_normalize=True, post_normalize=True, ignore_missing=False)], axis=0)\n",
    "    \n",
    "    \n",
    "    # gets list of most similar words\n",
    "    #close_words = model.wv.most_similar(positive=words_list, negative=[], topn=22)\n",
    "    close_words = [item[1] for item in most_similar_texts]\n",
    "    \n",
    "    # adds the vector for each of the closest words to the array\n",
    "    i = 0\n",
    "    for wrd_score in close_words:\n",
    "        wrd_vector = [vectors_list[most_similar_texts[i][0]]]\n",
    "        i = i + 1\n",
    "        word_labels.append(wrd_score)\n",
    "        color_list.append('blue')\n",
    "        arrays = np.append(arrays, wrd_vector, axis=0)\n",
    "    \n",
    "    # adds the vector for each of the words from list_names to the array\n",
    "    #for wrd in list_names:\n",
    "     #   wrd_vector = model.wv.__getitem__([wrd])\n",
    "      #  word_labels.append(wrd)\n",
    "       # color_list.append('green')\n",
    "        #arrays = np.append(arrays, wrd_vector, axis=0)\n",
    "        \n",
    "    # Reduces the dimensionality from 300 to 29 dimensions with PCA\n",
    "    reduc = PCA(n_components=11).fit_transform(arrays)\n",
    "    \n",
    "    # Finds t-SNE coordinates for 2 dimensions\n",
    "    np.set_printoptions(suppress=True)\n",
    "    \n",
    "    Y = TSNE(n_components=2, random_state=0, perplexity=10).fit_transform(reduc)\n",
    "    \n",
    "    # Sets everything up to plot\n",
    "    df = pd.DataFrame({'x': [x for x in Y[:, 0]],\n",
    "                       'y': [y for y in Y[:, 1]],\n",
    "                       'words': word_labels,\n",
    "                       'color': color_list})\n",
    "    \n",
    "    fig, _ = plt.subplots()\n",
    "    fig.set_size_inches(6, 6)\n",
    "    \n",
    "    # Basic plot\n",
    "    p1 = sns.regplot(data=df,\n",
    "                     x=\"x\",\n",
    "                     y=\"y\",\n",
    "                     fit_reg=False,\n",
    "                     marker=\"o\",\n",
    "                     scatter_kws={'s': 10,\n",
    "                                  'facecolors': df['color']\n",
    "                                 }\n",
    "                    )\n",
    "    \n",
    "    # Adds annotations one by one with a loop\n",
    "    for line in range(0, df.shape[0]):\n",
    "         p1.text(df[\"x\"][line],\n",
    "                 df['y'][line],\n",
    "                 '  ' + df[\"words\"][line].title(),\n",
    "                 horizontalalignment='left',\n",
    "                 verticalalignment='bottom', size='medium',\n",
    "                 color=df['color'][line],\n",
    "                 weight='normal'\n",
    "                ).set_size(7)\n",
    "\n",
    "    \n",
    "    plt.xlim(Y[:, 0].min()-0.5, Y[:, 0].max()+0.5)\n",
    "    plt.ylim(Y[:, 1].min()-0.5, Y[:, 1].max()+0.5)\n",
    "            \n",
    "    plt.title('t-SNE visualization')"
   ]
  },
  {
   "cell_type": "markdown",
   "metadata": {},
   "source": [
    "Visualize the cluster of most similar articles to the mean vector of embeddings of words."
   ]
  },
  {
   "cell_type": "code",
   "execution_count": 56,
   "metadata": {},
   "outputs": [
    {
     "data": {
      "image/png": "[encoded data removed]",
      "text/plain": [
       "<Figure size 600x600 with 1 Axes>"
      ]
     },
     "metadata": {},
     "output_type": "display_data"
    }
   ],
   "source": [
    "tsnescatterplot_texts(vectors_list, w2v_model, most_similar_texts(w2v_model, data_google, vectors_list, ['welded', 'wire', 'connectors'], topn=10), ['welded', 'wire', 'connectors'])"
   ]
  },
  {
   "cell_type": "markdown",
   "metadata": {},
   "source": [
    "## SBERT"
   ]
  },
  {
   "cell_type": "code",
   "execution_count": 57,
   "metadata": {},
   "outputs": [
    {
     "name": "stderr",
     "output_type": "stream",
     "text": [
      "C:\\Users\\Sereb\\AppData\\Local\\Packages\\PythonSoftwareFoundation.Python.3.9_qbz5n2kfra8p0\\LocalCache\\local-packages\\Python39\\site-packages\\tqdm\\auto.py:21: TqdmWarning: IProgress not found. Please update jupyter and ipywidgets. See https://ipywidgets.readthedocs.io/en/stable/user_install.html\n",
      "  from .autonotebook import tqdm as notebook_tqdm\n"
     ]
    }
   ],
   "source": [
    "from sentence_transformers import SentenceTransformer\n",
    "import pickle\n",
    "import scipy\n",
    "import nltk"
   ]
  },
  {
   "cell_type": "code",
   "execution_count": 58,
   "metadata": {},
   "outputs": [
    {
     "name": "stderr",
     "output_type": "stream",
     "text": [
      "[nltk_data] Downloading package punkt to\n",
      "[nltk_data]     C:\\Users\\Sereb\\AppData\\Roaming\\nltk_data...\n",
      "[nltk_data]   Package punkt is already up-to-date!\n"
     ]
    },
    {
     "data": {
      "text/plain": [
       "True"
      ]
     },
     "execution_count": 58,
     "metadata": {},
     "output_type": "execute_result"
    }
   ],
   "source": [
    "nltk.download('punkt')"
   ]
  },
  {
   "cell_type": "code",
   "execution_count": 59,
   "metadata": {},
   "outputs": [
    {
     "data": {
      "text/plain": [
       "'... Kontaktieren von Statoren für elektrische Antriebe. In: faps.fau.de. Abgerufen am 20. Juli 2021. Zuletzt bearbeitet vor 4 Monaten. Sprachen. English.'"
      ]
     },
     "execution_count": 59,
     "metadata": {},
     "output_type": "execute_result"
    }
   ],
   "source": [
    "data_google['snippet'].iloc[0]"
   ]
  },
  {
   "cell_type": "code",
   "execution_count": 60,
   "metadata": {},
   "outputs": [
    {
     "data": {
      "text/html": [
       "<div>\n",
       "<style scoped>\n",
       "    .dataframe tbody tr th:only-of-type {\n",
       "        vertical-align: middle;\n",
       "    }\n",
       "\n",
       "    .dataframe tbody tr th {\n",
       "        vertical-align: top;\n",
       "    }\n",
       "\n",
       "    .dataframe thead th {\n",
       "        text-align: right;\n",
       "    }\n",
       "</style>\n",
       "<table border=\"1\" class=\"dataframe\">\n",
       "  <thead>\n",
       "    <tr style=\"text-align: right;\">\n",
       "      <th></th>\n",
       "      <th>title</th>\n",
       "      <th>link</th>\n",
       "      <th>displayed_link</th>\n",
       "      <th>snippet</th>\n",
       "      <th>keywords</th>\n",
       "      <th>position</th>\n",
       "      <th>language</th>\n",
       "      <th>timestamp</th>\n",
       "      <th>title_cleaned</th>\n",
       "      <th>snippet_cleaned</th>\n",
       "      <th>full_data_cleaned</th>\n",
       "    </tr>\n",
       "  </thead>\n",
       "  <tbody>\n",
       "    <tr>\n",
       "      <th>0</th>\n",
       "      <td>Hairpin-Technologie</td>\n",
       "      <td>https://de.wikipedia.org/wiki/Hairpin-Technologie</td>\n",
       "      <td>https://de.wikipedia.org</td>\n",
       "      <td>... Kontaktieren von Statoren für elektrische ...</td>\n",
       "      <td>stator wicklung \"kontaktieren\" -\"kontaktieren ...</td>\n",
       "      <td>1</td>\n",
       "      <td>de</td>\n",
       "      <td>04/04/2024 17:14</td>\n",
       "      <td>hairpintechnologie</td>\n",
       "      <td>kontaktieren statoren elektrische antriebe fap...</td>\n",
       "      <td>kontaktieren statoren elektrische antriebe   ...</td>\n",
       "    </tr>\n",
       "    <tr>\n",
       "      <th>1</th>\n",
       "      <td>EP2858212B1 - Wickelverfahren für eine Statorw...</td>\n",
       "      <td>https://patents.google.com/patent/EP2858212B1/de</td>\n",
       "      <td>https://patents.google.com</td>\n",
       "      <td>[0006]. Insbesondere das Verbinden der Leiterd...</td>\n",
       "      <td>stator wicklung elektrisch draht spule phase \"...</td>\n",
       "      <td>1</td>\n",
       "      <td>de</td>\n",
       "      <td>04/04/2024 17:14</td>\n",
       "      <td>epb wickelverfahren statorwicklung</td>\n",
       "      <td>insbesondere verbinden leiterdrähte einzelnen ...</td>\n",
       "      <td>epb  statorwicklung insbesondere verbinden  ei...</td>\n",
       "    </tr>\n",
       "    <tr>\n",
       "      <th>2</th>\n",
       "      <td>DE10321956A1 - Hairpin wound stator for electr...</td>\n",
       "      <td>https://patents.google.com/patent/DE10321956A1/en</td>\n",
       "      <td>https://patents.google.com</td>\n",
       "      <td>... verbinden. Ein Prototyp dieser Technologie...</td>\n",
       "      <td>stator wicklung draht spule phase \"verbinden\" ...</td>\n",
       "      <td>1</td>\n",
       "      <td>de</td>\n",
       "      <td>04/04/2024 17:14</td>\n",
       "      <td>dea hairpin wound stator for electric machine</td>\n",
       "      <td>verbinden prototyp technologie wicklung phase ...</td>\n",
       "      <td>dea hairpin wound stator for electric machine ...</td>\n",
       "    </tr>\n",
       "    <tr>\n",
       "      <th>3</th>\n",
       "      <td>Stator und Verfahren zur Herstellung eines Sta...</td>\n",
       "      <td>https://patents.google.com/patent/DE1020191113...</td>\n",
       "      <td>https://patents.google.com</td>\n",
       "      <td>Zur Kontaktierung ist eine Kontakteinrichtung ...</td>\n",
       "      <td>stator wicklung draht spule wicklungsende phas...</td>\n",
       "      <td>1</td>\n",
       "      <td>de</td>\n",
       "      <td>04/04/2024 17:14</td>\n",
       "      <td>stator verfahren herstellung stators</td>\n",
       "      <td>kontaktierung kontakteinrichtung stirnseitig s...</td>\n",
       "      <td>stator verfahren herstellung stators kontaktie...</td>\n",
       "    </tr>\n",
       "    <tr>\n",
       "      <th>4</th>\n",
       "      <td>risomat - Prozesse</td>\n",
       "      <td>https://www.risomat.de/prozesse/</td>\n",
       "      <td>https://www.risomat.de</td>\n",
       "      <td>Für das Wickeln von Spulen für Stator-und Roto...</td>\n",
       "      <td>stator wicklung \"kontaktieren\" -\"kontaktieren ...</td>\n",
       "      <td>1</td>\n",
       "      <td>de</td>\n",
       "      <td>04/04/2024 17:14</td>\n",
       "      <td>risomat prozesse</td>\n",
       "      <td>wickeln spulen statorund rotorwicklungen kommt...</td>\n",
       "      <td>wickeln spulen   kommt flyer  bzw kontaktier...</td>\n",
       "    </tr>\n",
       "  </tbody>\n",
       "</table>\n",
       "</div>"
      ],
      "text/plain": [
       "                                               title  \\\n",
       "0                                Hairpin-Technologie   \n",
       "1  EP2858212B1 - Wickelverfahren für eine Statorw...   \n",
       "2  DE10321956A1 - Hairpin wound stator for electr...   \n",
       "3  Stator und Verfahren zur Herstellung eines Sta...   \n",
       "4                                 risomat - Prozesse   \n",
       "\n",
       "                                                link  \\\n",
       "0  https://de.wikipedia.org/wiki/Hairpin-Technologie   \n",
       "1   https://patents.google.com/patent/EP2858212B1/de   \n",
       "2  https://patents.google.com/patent/DE10321956A1/en   \n",
       "3  https://patents.google.com/patent/DE1020191113...   \n",
       "4                   https://www.risomat.de/prozesse/   \n",
       "\n",
       "               displayed_link  \\\n",
       "0    https://de.wikipedia.org   \n",
       "1  https://patents.google.com   \n",
       "2  https://patents.google.com   \n",
       "3  https://patents.google.com   \n",
       "4      https://www.risomat.de   \n",
       "\n",
       "                                             snippet  \\\n",
       "0  ... Kontaktieren von Statoren für elektrische ...   \n",
       "1  [0006]. Insbesondere das Verbinden der Leiterd...   \n",
       "2  ... verbinden. Ein Prototyp dieser Technologie...   \n",
       "3  Zur Kontaktierung ist eine Kontakteinrichtung ...   \n",
       "4  Für das Wickeln von Spulen für Stator-und Roto...   \n",
       "\n",
       "                                            keywords  position language  \\\n",
       "0  stator wicklung \"kontaktieren\" -\"kontaktieren ...         1       de   \n",
       "1  stator wicklung elektrisch draht spule phase \"...         1       de   \n",
       "2  stator wicklung draht spule phase \"verbinden\" ...         1       de   \n",
       "3  stator wicklung draht spule wicklungsende phas...         1       de   \n",
       "4  stator wicklung \"kontaktieren\" -\"kontaktieren ...         1       de   \n",
       "\n",
       "          timestamp                                  title_cleaned  \\\n",
       "0  04/04/2024 17:14                             hairpintechnologie   \n",
       "1  04/04/2024 17:14             epb wickelverfahren statorwicklung   \n",
       "2  04/04/2024 17:14  dea hairpin wound stator for electric machine   \n",
       "3  04/04/2024 17:14           stator verfahren herstellung stators   \n",
       "4  04/04/2024 17:14                               risomat prozesse   \n",
       "\n",
       "                                     snippet_cleaned  \\\n",
       "0  kontaktieren statoren elektrische antriebe fap...   \n",
       "1  insbesondere verbinden leiterdrähte einzelnen ...   \n",
       "2  verbinden prototyp technologie wicklung phase ...   \n",
       "3  kontaktierung kontakteinrichtung stirnseitig s...   \n",
       "4  wickeln spulen statorund rotorwicklungen kommt...   \n",
       "\n",
       "                                   full_data_cleaned  \n",
       "0   kontaktieren statoren elektrische antriebe   ...  \n",
       "1  epb  statorwicklung insbesondere verbinden  ei...  \n",
       "2  dea hairpin wound stator for electric machine ...  \n",
       "3  stator verfahren herstellung stators kontaktie...  \n",
       "4    wickeln spulen   kommt flyer  bzw kontaktier...  "
      ]
     },
     "execution_count": 60,
     "metadata": {},
     "output_type": "execute_result"
    }
   ],
   "source": [
    "data_google.head()"
   ]
  },
  {
   "cell_type": "markdown",
   "metadata": {},
   "source": [
    "Concatenate title and snippet in `full_data` column."
   ]
  },
  {
   "cell_type": "code",
   "execution_count": 61,
   "metadata": {},
   "outputs": [],
   "source": [
    "data_google['full_data'] = data_google['title'] + '. ' + data_google['snippet']"
   ]
  },
  {
   "cell_type": "code",
   "execution_count": 62,
   "metadata": {},
   "outputs": [
    {
     "data": {
      "text/html": [
       "<div>\n",
       "<style scoped>\n",
       "    .dataframe tbody tr th:only-of-type {\n",
       "        vertical-align: middle;\n",
       "    }\n",
       "\n",
       "    .dataframe tbody tr th {\n",
       "        vertical-align: top;\n",
       "    }\n",
       "\n",
       "    .dataframe thead th {\n",
       "        text-align: right;\n",
       "    }\n",
       "</style>\n",
       "<table border=\"1\" class=\"dataframe\">\n",
       "  <thead>\n",
       "    <tr style=\"text-align: right;\">\n",
       "      <th></th>\n",
       "      <th>title</th>\n",
       "      <th>link</th>\n",
       "      <th>displayed_link</th>\n",
       "      <th>snippet</th>\n",
       "      <th>keywords</th>\n",
       "      <th>position</th>\n",
       "      <th>language</th>\n",
       "      <th>timestamp</th>\n",
       "      <th>title_cleaned</th>\n",
       "      <th>snippet_cleaned</th>\n",
       "      <th>full_data_cleaned</th>\n",
       "      <th>full_data</th>\n",
       "    </tr>\n",
       "  </thead>\n",
       "  <tbody>\n",
       "    <tr>\n",
       "      <th>0</th>\n",
       "      <td>Hairpin-Technologie</td>\n",
       "      <td>https://de.wikipedia.org/wiki/Hairpin-Technologie</td>\n",
       "      <td>https://de.wikipedia.org</td>\n",
       "      <td>... Kontaktieren von Statoren für elektrische ...</td>\n",
       "      <td>stator wicklung \"kontaktieren\" -\"kontaktieren ...</td>\n",
       "      <td>1</td>\n",
       "      <td>de</td>\n",
       "      <td>04/04/2024 17:14</td>\n",
       "      <td>hairpintechnologie</td>\n",
       "      <td>kontaktieren statoren elektrische antriebe fap...</td>\n",
       "      <td>kontaktieren statoren elektrische antriebe   ...</td>\n",
       "      <td>Hairpin-Technologie. ... Kontaktieren von Stat...</td>\n",
       "    </tr>\n",
       "    <tr>\n",
       "      <th>1</th>\n",
       "      <td>EP2858212B1 - Wickelverfahren für eine Statorw...</td>\n",
       "      <td>https://patents.google.com/patent/EP2858212B1/de</td>\n",
       "      <td>https://patents.google.com</td>\n",
       "      <td>[0006]. Insbesondere das Verbinden der Leiterd...</td>\n",
       "      <td>stator wicklung elektrisch draht spule phase \"...</td>\n",
       "      <td>1</td>\n",
       "      <td>de</td>\n",
       "      <td>04/04/2024 17:14</td>\n",
       "      <td>epb wickelverfahren statorwicklung</td>\n",
       "      <td>insbesondere verbinden leiterdrähte einzelnen ...</td>\n",
       "      <td>epb  statorwicklung insbesondere verbinden  ei...</td>\n",
       "      <td>EP2858212B1 - Wickelverfahren für eine Statorw...</td>\n",
       "    </tr>\n",
       "    <tr>\n",
       "      <th>2</th>\n",
       "      <td>DE10321956A1 - Hairpin wound stator for electr...</td>\n",
       "      <td>https://patents.google.com/patent/DE10321956A1/en</td>\n",
       "      <td>https://patents.google.com</td>\n",
       "      <td>... verbinden. Ein Prototyp dieser Technologie...</td>\n",
       "      <td>stator wicklung draht spule phase \"verbinden\" ...</td>\n",
       "      <td>1</td>\n",
       "      <td>de</td>\n",
       "      <td>04/04/2024 17:14</td>\n",
       "      <td>dea hairpin wound stator for electric machine</td>\n",
       "      <td>verbinden prototyp technologie wicklung phase ...</td>\n",
       "      <td>dea hairpin wound stator for electric machine ...</td>\n",
       "      <td>DE10321956A1 - Hairpin wound stator for electr...</td>\n",
       "    </tr>\n",
       "    <tr>\n",
       "      <th>3</th>\n",
       "      <td>Stator und Verfahren zur Herstellung eines Sta...</td>\n",
       "      <td>https://patents.google.com/patent/DE1020191113...</td>\n",
       "      <td>https://patents.google.com</td>\n",
       "      <td>Zur Kontaktierung ist eine Kontakteinrichtung ...</td>\n",
       "      <td>stator wicklung draht spule wicklungsende phas...</td>\n",
       "      <td>1</td>\n",
       "      <td>de</td>\n",
       "      <td>04/04/2024 17:14</td>\n",
       "      <td>stator verfahren herstellung stators</td>\n",
       "      <td>kontaktierung kontakteinrichtung stirnseitig s...</td>\n",
       "      <td>stator verfahren herstellung stators kontaktie...</td>\n",
       "      <td>Stator und Verfahren zur Herstellung eines Sta...</td>\n",
       "    </tr>\n",
       "    <tr>\n",
       "      <th>4</th>\n",
       "      <td>risomat - Prozesse</td>\n",
       "      <td>https://www.risomat.de/prozesse/</td>\n",
       "      <td>https://www.risomat.de</td>\n",
       "      <td>Für das Wickeln von Spulen für Stator-und Roto...</td>\n",
       "      <td>stator wicklung \"kontaktieren\" -\"kontaktieren ...</td>\n",
       "      <td>1</td>\n",
       "      <td>de</td>\n",
       "      <td>04/04/2024 17:14</td>\n",
       "      <td>risomat prozesse</td>\n",
       "      <td>wickeln spulen statorund rotorwicklungen kommt...</td>\n",
       "      <td>wickeln spulen   kommt flyer  bzw kontaktier...</td>\n",
       "      <td>risomat - Prozesse. Für das Wickeln von Spulen...</td>\n",
       "    </tr>\n",
       "  </tbody>\n",
       "</table>\n",
       "</div>"
      ],
      "text/plain": [
       "                                               title  \\\n",
       "0                                Hairpin-Technologie   \n",
       "1  EP2858212B1 - Wickelverfahren für eine Statorw...   \n",
       "2  DE10321956A1 - Hairpin wound stator for electr...   \n",
       "3  Stator und Verfahren zur Herstellung eines Sta...   \n",
       "4                                 risomat - Prozesse   \n",
       "\n",
       "                                                link  \\\n",
       "0  https://de.wikipedia.org/wiki/Hairpin-Technologie   \n",
       "1   https://patents.google.com/patent/EP2858212B1/de   \n",
       "2  https://patents.google.com/patent/DE10321956A1/en   \n",
       "3  https://patents.google.com/patent/DE1020191113...   \n",
       "4                   https://www.risomat.de/prozesse/   \n",
       "\n",
       "               displayed_link  \\\n",
       "0    https://de.wikipedia.org   \n",
       "1  https://patents.google.com   \n",
       "2  https://patents.google.com   \n",
       "3  https://patents.google.com   \n",
       "4      https://www.risomat.de   \n",
       "\n",
       "                                             snippet  \\\n",
       "0  ... Kontaktieren von Statoren für elektrische ...   \n",
       "1  [0006]. Insbesondere das Verbinden der Leiterd...   \n",
       "2  ... verbinden. Ein Prototyp dieser Technologie...   \n",
       "3  Zur Kontaktierung ist eine Kontakteinrichtung ...   \n",
       "4  Für das Wickeln von Spulen für Stator-und Roto...   \n",
       "\n",
       "                                            keywords  position language  \\\n",
       "0  stator wicklung \"kontaktieren\" -\"kontaktieren ...         1       de   \n",
       "1  stator wicklung elektrisch draht spule phase \"...         1       de   \n",
       "2  stator wicklung draht spule phase \"verbinden\" ...         1       de   \n",
       "3  stator wicklung draht spule wicklungsende phas...         1       de   \n",
       "4  stator wicklung \"kontaktieren\" -\"kontaktieren ...         1       de   \n",
       "\n",
       "          timestamp                                  title_cleaned  \\\n",
       "0  04/04/2024 17:14                             hairpintechnologie   \n",
       "1  04/04/2024 17:14             epb wickelverfahren statorwicklung   \n",
       "2  04/04/2024 17:14  dea hairpin wound stator for electric machine   \n",
       "3  04/04/2024 17:14           stator verfahren herstellung stators   \n",
       "4  04/04/2024 17:14                               risomat prozesse   \n",
       "\n",
       "                                     snippet_cleaned  \\\n",
       "0  kontaktieren statoren elektrische antriebe fap...   \n",
       "1  insbesondere verbinden leiterdrähte einzelnen ...   \n",
       "2  verbinden prototyp technologie wicklung phase ...   \n",
       "3  kontaktierung kontakteinrichtung stirnseitig s...   \n",
       "4  wickeln spulen statorund rotorwicklungen kommt...   \n",
       "\n",
       "                                   full_data_cleaned  \\\n",
       "0   kontaktieren statoren elektrische antriebe   ...   \n",
       "1  epb  statorwicklung insbesondere verbinden  ei...   \n",
       "2  dea hairpin wound stator for electric machine ...   \n",
       "3  stator verfahren herstellung stators kontaktie...   \n",
       "4    wickeln spulen   kommt flyer  bzw kontaktier...   \n",
       "\n",
       "                                           full_data  \n",
       "0  Hairpin-Technologie. ... Kontaktieren von Stat...  \n",
       "1  EP2858212B1 - Wickelverfahren für eine Statorw...  \n",
       "2  DE10321956A1 - Hairpin wound stator for electr...  \n",
       "3  Stator und Verfahren zur Herstellung eines Sta...  \n",
       "4  risomat - Prozesse. Für das Wickeln von Spulen...  "
      ]
     },
     "execution_count": 62,
     "metadata": {},
     "output_type": "execute_result"
    }
   ],
   "source": [
    "data_google.head()"
   ]
  },
  {
   "cell_type": "code",
   "execution_count": 63,
   "metadata": {},
   "outputs": [
    {
     "data": {
      "text/plain": [
       "['Hairpin-Technologie.',\n",
       " '... Kontaktieren von Statoren für elektrische Antriebe.',\n",
       " 'In: faps.fau.de.',\n",
       " 'Abgerufen am 20.',\n",
       " 'Juli 2021.',\n",
       " 'Zuletzt bearbeitet vor 4 Monaten.',\n",
       " 'Sprachen.',\n",
       " 'English.']"
      ]
     },
     "execution_count": 63,
     "metadata": {},
     "output_type": "execute_result"
    }
   ],
   "source": [
    "sent_tokenize(data_google['full_data'].iloc[0])"
   ]
  },
  {
   "cell_type": "markdown",
   "metadata": {},
   "source": [
    "Create a list of sentences and map each sentence to the article that it belongs to."
   ]
  },
  {
   "cell_type": "code",
   "execution_count": 64,
   "metadata": {},
   "outputs": [],
   "source": [
    "sen_list = []\n",
    "file_name_col = []\n",
    "for i, text in enumerate(data_google['full_data']):\n",
    "    text = data_google['full_data'].iloc[i]\n",
    "    sentences = sent_tokenize(text)\n",
    "    sen_list.extend(sentences)\n",
    "    file_list = [data_google['title'].iloc[i] for j in sentences]\n",
    "    file_name_col.extend(file_list)"
   ]
  },
  {
   "cell_type": "code",
   "execution_count": 65,
   "metadata": {},
   "outputs": [
    {
     "data": {
      "text/plain": [
       "'Hairpin-Technologie. ... Kontaktieren von Statoren für elektrische Antriebe. In: faps.fau.de. Abgerufen am 20. Juli 2021. Zuletzt bearbeitet vor 4 Monaten. Sprachen. English.'"
      ]
     },
     "execution_count": 65,
     "metadata": {},
     "output_type": "execute_result"
    }
   ],
   "source": [
    "data_google['full_data'][0]"
   ]
  },
  {
   "cell_type": "code",
   "execution_count": 66,
   "metadata": {},
   "outputs": [
    {
     "data": {
      "text/plain": [
       "'English.'"
      ]
     },
     "execution_count": 66,
     "metadata": {},
     "output_type": "execute_result"
    }
   ],
   "source": [
    "sen_list[7]"
   ]
  },
  {
   "cell_type": "code",
   "execution_count": 67,
   "metadata": {},
   "outputs": [
    {
     "data": {
      "text/plain": [
       "'Hairpin-Technologie'"
      ]
     },
     "execution_count": 67,
     "metadata": {},
     "output_type": "execute_result"
    }
   ],
   "source": [
    "file_name_col[7]"
   ]
  },
  {
   "cell_type": "markdown",
   "metadata": {},
   "source": [
    "Initialize and train the SBERT model on the created list of sentences."
   ]
  },
  {
   "cell_type": "code",
   "execution_count": 68,
   "metadata": {},
   "outputs": [
    {
     "name": "stderr",
     "output_type": "stream",
     "text": [
      "2024-04-23 10:52:49,423 : INFO : Load pretrained SentenceTransformer: sentence-transformers/paraphrase-multilingual-mpnet-base-v2\n",
      "2024-04-23 10:53:01,235 : INFO : Use pytorch device_name: cpu\n"
     ]
    }
   ],
   "source": [
    "model = SentenceTransformer('sentence-transformers/paraphrase-multilingual-mpnet-base-v2')"
   ]
  },
  {
   "cell_type": "code",
   "execution_count": 69,
   "metadata": {},
   "outputs": [
    {
     "name": "stderr",
     "output_type": "stream",
     "text": [
      "Batches:   0%|          | 0/1 [00:00<?, ?it/s]"
     ]
    },
    {
     "name": "stderr",
     "output_type": "stream",
     "text": [
      "Batches: 100%|██████████| 1/1 [00:07<00:00,  7.34s/it]\n"
     ]
    },
    {
     "data": {
      "text/plain": [
       "array([[-0.05578271, -0.07036623, -0.01331934, ...,  0.01865406,\n",
       "        -0.12789622, -0.2026266 ],\n",
       "       [-0.07854325, -0.05526515, -0.01602701, ..., -0.00011078,\n",
       "        -0.19582756, -0.10112429],\n",
       "       [-0.07079799, -0.14270048, -0.01279164, ..., -0.06054876,\n",
       "         0.22419633, -0.07021431],\n",
       "       ...,\n",
       "       [-0.0226165 ,  0.16130336, -0.0144545 , ...,  0.07210565,\n",
       "        -0.04214881, -0.09329886],\n",
       "       [-0.05620201,  0.00810377, -0.01720888, ...,  0.00359833,\n",
       "         0.05738701, -0.06188598],\n",
       "       [-0.1260186 ,  0.02248489, -0.0149513 , ...,  0.03376996,\n",
       "        -0.03646057, -0.11190964]], dtype=float32)"
      ]
     },
     "execution_count": 69,
     "metadata": {},
     "output_type": "execute_result"
    }
   ],
   "source": [
    "sentence_embeddings = model.encode(sent_tokenize(data_google['full_data'].iloc[0]))\n",
    "sentence_embeddings"
   ]
  },
  {
   "cell_type": "code",
   "execution_count": 70,
   "metadata": {},
   "outputs": [
    {
     "data": {
      "text/plain": [
       "(8, 768)"
      ]
     },
     "execution_count": 70,
     "metadata": {},
     "output_type": "execute_result"
    }
   ],
   "source": [
    "sentence_embeddings.shape"
   ]
  },
  {
   "cell_type": "code",
   "execution_count": 71,
   "metadata": {},
   "outputs": [
    {
     "name": "stderr",
     "output_type": "stream",
     "text": [
      "2024-04-23 10:53:08,706 : INFO : CUDA/NPU is not available. Starting 4 CPU workers\n",
      "2024-04-23 10:53:08,706 : INFO : Start multi-process pool on devices: cpu, cpu, cpu, cpu\n"
     ]
    },
    {
     "name": "stdout",
     "output_type": "stream",
     "text": [
      "Time taken: 1024.2090702056885\n"
     ]
    }
   ],
   "source": [
    "start_time = time.time()\n",
    "\n",
    "#Start the multi-process pool on all available CUDA devices or CPU cores\n",
    "pool = model.start_multi_process_pool()\n",
    "\n",
    "#Compute the embeddings using the multi-process pool\n",
    "sentence_embeddings = model.encode_multi_process(sen_list, pool)\n",
    "\n",
    "model.stop_multi_process_pool(pool)\n",
    "print(\"Time taken:\", time.time()-start_time)\n",
    "#sentence_embeddings = model.encode(sen_list)"
   ]
  },
  {
   "cell_type": "code",
   "execution_count": 75,
   "metadata": {},
   "outputs": [
    {
     "name": "stderr",
     "output_type": "stream",
     "text": [
      "2024-04-23 11:12:30,306 : INFO : Save model to model1\n"
     ]
    }
   ],
   "source": [
    "model.save(\"model1\")"
   ]
  },
  {
   "cell_type": "markdown",
   "metadata": {},
   "source": [
    "Make up a query."
   ]
  },
  {
   "cell_type": "code",
   "execution_count": 72,
   "metadata": {},
   "outputs": [],
   "source": [
    "query = 'Can I use soldered pieces of wires to make a coil?' \n",
    "number_top_matches = 10"
   ]
  },
  {
   "cell_type": "code",
   "execution_count": 73,
   "metadata": {},
   "outputs": [
    {
     "name": "stderr",
     "output_type": "stream",
     "text": [
      "Batches:   0%|          | 0/1 [00:00<?, ?it/s]"
     ]
    },
    {
     "name": "stderr",
     "output_type": "stream",
     "text": [
      "Batches: 100%|██████████| 1/1 [00:00<00:00,  2.40it/s]\n"
     ]
    }
   ],
   "source": [
    "query_embeddings = model.encode([query]) "
   ]
  },
  {
   "cell_type": "code",
   "execution_count": 74,
   "metadata": {},
   "outputs": [
    {
     "name": "stdout",
     "output_type": "stream",
     "text": [
      "Semantic Search Results\n",
      "\n",
      "\n",
      "======================\n",
      "\n",
      "\n",
      "Query: Can I use soldered pieces of wires to make a coil?\n",
      "\n",
      "Top 10 most similar sentences in corpus:\n",
      "Can I use soldered pieces of wires to make a coil?. \n",
      "(Cosine Score: 99.66% , Doc Name: Can I use soldered pieces of wires to make a coil?)\n",
      "\n",
      "This coil can be either one wire, or several wires ... way of doing it other than it spreads the wire out a little more. \n",
      "(Cosine Score: 83.01% , Doc Name: Brushless motor winding class)\n",
      "\n",
      "Use of bondable wire allows coils to ... \n",
      "(Cosine Score: 82.22% , Doc Name: Bondable Magnet Wire)\n",
      "\n",
      "Coil winding and assembly solutions. \n",
      "(Cosine Score: 81.19% , Doc Name: Coil winding and assembly solutions)\n",
      "\n",
      "Connect coils by means of silver soldering. \n",
      "(Cosine Score: 80.99% , Doc Name: Motor Winder (Nashville, TN) - Southwest Electric Co.)\n",
      "\n",
      "Coil Wire Binding Machine. \n",
      "(Cosine Score: 80.68% , Doc Name: SMT-DW300 Winding Lacing Machine Single Phase Motor ...)\n",
      "\n",
      "Attach material to take-up coil. \n",
      "(Cosine Score: 80.65% , Doc Name: Apply for Coil Winding Job Jobs Today)\n",
      "\n",
      "Inserting Coil Winding Technology. \n",
      "(Cosine Score: 80.33% , Doc Name: Inserting Coil Winding Technology)\n",
      "\n",
      "Method for manufacturing a winding coil for an electrical machine .... \n",
      "(Cosine Score: 80.21% , Doc Name: Method for manufacturing a winding coil for an electrical machine ...)\n",
      "\n",
      "Put a coil of copper wire on each end of ... \n",
      "(Cosine Score: 80.13% , Doc Name: Generators - Part 8 - Good Sam Camping Blog)\n",
      "\n"
     ]
    }
   ],
   "source": [
    "print(\"Semantic Search Results\")\n",
    "# Computing the cosine distances between the query's embeddings\n",
    "# and the embeddings of the documents.\n",
    "distances = scipy.spatial.distance.cdist(query_embeddings, sentence_embeddings, \"cosine\")[0]\n",
    "\n",
    "results = zip(range(len(distances)), distances)\n",
    "\n",
    "# Sorting results based on the cosine distances in an ascending order.\n",
    "results = sorted(results, key=lambda x: x[1]) \n",
    "\n",
    "print(\"\\n\\n======================\\n\\n\")\n",
    "print(\"Query:\", query)\n",
    "print(f\"\\nTop {number_top_matches} most similar sentences in corpus:\")\n",
    "\n",
    "# Displaying the top matches\n",
    "for idx, distance in results[:number_top_matches]:\n",
    "    print(sen_list[idx].strip(), f\"\\n(Cosine Score: {round((1-distance) * 100,2)}% , Doc Name: {file_name_col[idx]})\\n\" )"
   ]
  }
 ],
 "metadata": {
  "kernelspec": {
   "display_name": "Python 3.10.0 ('.venv': venv)",
   "language": "python",
   "name": "python3"
  },
  "language_info": {
   "codemirror_mode": {
    "name": "ipython",
    "version": 3
   },
   "file_extension": ".py",
   "mimetype": "text/x-python",
   "name": "python",
   "nbconvert_exporter": "python",
   "pygments_lexer": "ipython3",
   "version": "3.9.13"
  },
  "vscode": {
   "interpreter": {
    "hash": "7ae8ccc60d6b28be4384725bd1833d9e4ba372bda8e6eb7fd8240de8f604d32a"
   }
  }
 },
 "nbformat": 4,
 "nbformat_minor": 2
}
